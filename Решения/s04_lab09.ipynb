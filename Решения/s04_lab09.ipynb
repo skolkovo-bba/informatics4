{
  "cells": [
    {
      "cell_type": "markdown",
      "metadata": {
        "id": "oaNHiSxSBukO"
      },
      "source": [
        "# Лабораторная 9"
      ]
    },
    {
      "cell_type": "code",
      "execution_count": 36,
      "metadata": {
        "id": "bYM3sNiAyUwV"
      },
      "outputs": [],
      "source": [
        "import numpy as np\n",
        "import seaborn as sns\n",
        "from matplotlib import pyplot as plt\n",
        "from sklearn.model_selection import train_test_split\n",
        "\n",
        "import torch\n",
        "from torch import nn\n",
        "from torch.nn import functional as F\n",
        "from torch.utils.data import TensorDataset, DataLoader\n",
        "\n",
        "from torchvision import transforms as tfs\n",
        "import os\n",
        "from torchvision.datasets import MNIST\n",
        "from torchvision.datasets import CIFAR10"
      ]
    },
    {
      "cell_type": "markdown",
      "metadata": {
        "id": "dxNLAHnjUhMX"
      },
      "source": [
        "## 1.Свёртка"
      ]
    },
    {
      "cell_type": "markdown",
      "metadata": {
        "id": "HABjMBbyU4oP"
      },
      "source": [
        "***Сверточная операция(свёртка)*** в сверточной нейронной сети (CNN) используется для извлечения признаков из входных данных, таких как изображения. Эта операция выполняется с помощью фильтров (ядер).\n",
        "\n",
        "### Двумерная свертка\n",
        "\n",
        "В случае изображений, мы имеем двумерное изображение $I$ с размерностью$H \\times W$ и двумерное ядро (или фильтр) $F$ размерностью $M \\times N$.\n",
        "\n",
        "Двумерная свертка изображения с ядром выполняется путем скольжения фильтра $F$ по изображению и вычисления суммы поэлементных произведений пикселей изображения и элементов фильтра:\n",
        "\n",
        "$(I * F)[i, j]$ = $\\sum_{m=0}^{M-1} \\sum_{n=0}^{N-1} I[i+m, j+n] \\cdot F[m, n] $\n",
        "\n",
        "Это вычисление содержит операцию свертки. Процесс повторяется для каждой позиции на изображении и в результате получается новая матрица, называемая feature map, которая выявляет определенные признаки изображения.\n",
        "\n",
        "Скорее всего сейчас ***ничего непонятно***, давайте рассмотрим ***пример***."
      ]
    },
    {
      "cell_type": "markdown",
      "metadata": {
        "id": "7QzDga7gc378"
      },
      "source": [
        "\n",
        "Предположим, у нас есть следующее изображение (представленное в виде матрицы):\n",
        "\\begin{bmatrix}\n",
        "1 & 2 & 3 & 4\\\\\n",
        "2 & 1 & 1 & 3\\\\\n",
        "4 & 3 & 1 & 0\\\\\n",
        "0 & 0 & 1 & 5\\\\\n",
        "\\end{bmatrix}\n",
        "\n",
        "$a_{11} = 1, a_{12} = 2, a_{13} = 3, a_{14} = 4, a_{21} = 2$ и т.д\n",
        "\n",
        "И пусть у нас будет следующее ядро свертки (или фильтр):\n",
        "\n",
        "\\begin{bmatrix}\n",
        "1 & 2 \\\\\n",
        "7 & 1 \\\\\n",
        "\\end{bmatrix}\n",
        "\n",
        "$b_{11} = 1, b_{12} = 2, b_{21} = 7, b_{22} = 1$\n",
        "\n",
        "Выполним свертку изображения с этим ядром шаг за шагом.\n",
        "\n",
        "Результатом свёртки будет матрица размером 3 $\\times$ 3.\n",
        "\n",
        "\\begin{bmatrix}\n",
        "с_{11} & c_{12} & c_{13}  \\\\\n",
        "c_{21} & c_{22} & c_{23} \\\\\n",
        "c_{31} & c_{32} & c_{33} \\\\\n",
        "\\end{bmatrix}\n",
        "\n",
        "$c_{11} = a_{11} * b_{11} + a_{12} * b_{12} + a_{21} * b_{21} + a_{22} * b_{22}$\n",
        "\n",
        "$c_{12} = a_{12} * b_{11} + a_{13} * b_{12} + a_{22} * b_{21} + a_{23} * b_{22}$\n",
        "\n",
        "$c_{13} = a_{13} * b_{11} + a_{14} * b_{12} + a_{23} * b_{21} + a_{24} * b_{22}$\n",
        "\n",
        "$c_{21} = a_{21} * b_{11} + a_{22} * b_{12} + a_{31} * b_{21} + a_{32} * b_{22}$\n",
        "\n",
        "$c_{22} = a_{22} * b_{11} + a_{23} * b_{12} + a_{32} * b_{21} + a_{33} * b_{22}$\n",
        "\n",
        "$c_{23} = a_{23} * b_{11} + a_{24} * b_{12} + a_{33} * b_{21} + a_{34} * b_{22}$\n",
        "\n",
        "$c_{31} = a_{31} * b_{11} + a_{32} * b_{12} + a_{41} * b_{21} + a_{42} * b_{22}$\n",
        "\n",
        "$c_{32} = a_{32} * b_{11} + a_{33} * b_{12} + a_{42} * b_{21} + a_{43} * b_{22}$\n",
        "\n",
        "$c_{33} = a_{33} * b_{11} + a_{34} * b_{12} + a_{43} * b_{21} + a_{44} * b_{22}$\n",
        "\n",
        "Процесс свёртки обычно включает в себя два основных гиперпараметра:\n",
        "\n",
        "- **Размер окна свёртки**: Это размер ядра. В примере выше размер ядра 2$×$2.\n",
        "\n",
        "- **Шаг (Stride)**: Это расстояние между центрами соседних окон ядер. В примере выше stride = 1."
      ]
    },
    {
      "cell_type": "markdown",
      "metadata": {
        "id": "yaDmgmZKye75"
      },
      "source": [
        "### Задача1 (1 балл)\n",
        "\n",
        "Дано входное изображение(двумерный тензор):\n",
        "\n",
        "\\begin{bmatrix}\n",
        "1 & 2 & 3 & 4 & 6\\\\\n",
        "2 & 1 & 1 & 3 & 1\\\\\n",
        "4 & 3 & 1 & 0 & 0\\\\\n",
        "0 & 0 & 1 & 5 & 7\\\\\n",
        "3 & 10 & 4 & 5 & 1\\\\\n",
        "\\end{bmatrix}\n",
        "\n",
        "Дана свёртка:\n",
        "\n",
        "\\begin{bmatrix}\n",
        "1 & 0 & 0\\\\\n",
        "0 & 1 & 1\\\\\n",
        "1 & 0 & 1\\\\\n",
        "\\end{bmatrix}\n",
        "\n",
        "Примените данную свёртку к изображению."
      ]
    },
    {
      "cell_type": "code",
      "source": [
        "A = np.array(([1, 2, 3, 4, 5],\n",
        "             [2, 1, 1, 3, 1],\n",
        "             [4, 3, 1, 0, 0],\n",
        "             [0, 0, 1, 5, 7],\n",
        "             [3, 10, 4, 5, 1]))\n",
        "\n",
        "F = np.array(([1, 0, 0],\n",
        "              [0, 1, 1],\n",
        "              [1, 0, 1]))\n",
        "\n",
        "R = np.zeros((3, 3))"
      ],
      "metadata": {
        "id": "RlO_58G7GnAL"
      },
      "execution_count": 12,
      "outputs": []
    },
    {
      "cell_type": "code",
      "source": [
        "for i in range(3):\n",
        "  for j in range(3):\n",
        "    for k in range(3):\n",
        "      for m in range(3):\n",
        "        R[i][j] += A[i + k][j + m] * F[k][m]"
      ],
      "metadata": {
        "id": "f9wVJaUCHG92"
      },
      "execution_count": 13,
      "outputs": []
    },
    {
      "cell_type": "code",
      "source": [
        "R"
      ],
      "metadata": {
        "colab": {
          "base_uri": "https://localhost:8080/"
        },
        "id": "JaWQT2hUIu8Y",
        "outputId": "fa8236f1-f12c-4c11-82d0-0f1f8dbd62dd"
      },
      "execution_count": 14,
      "outputs": [
        {
          "output_type": "execute_result",
          "data": {
            "text/plain": [
              "array([[ 8.,  9.,  8.],\n",
              "       [ 7.,  7.,  9.],\n",
              "       [12., 24., 18.]])"
            ]
          },
          "metadata": {},
          "execution_count": 14
        }
      ]
    },
    {
      "cell_type": "markdown",
      "metadata": {
        "id": "T5xzM2Lgz-Dm"
      },
      "source": [
        "## 2.Pooling\n",
        "\n",
        "Pooling (или пулинг) в сверточных нейронных сетях (CNN) используется для уменьшения размерности признаковых карт, получаемых после сверточных слоев. Он помогает упрощать и концентрировать информацию, уменьшая объем вычислений и сделав модель более устойчивой к масштабным вариациям входных данных.\n",
        "\n",
        "Основные типы пулинга в CNN:\n",
        "\n",
        "1. **Max Pooling**: Для каждой области во входной признаковой карте выбирается максимальное значение. Max pooling помогает выделить самые активные признаки из пространственных областей.\n",
        "\n",
        "2. **Average Pooling**: Для каждой области входной признаковой карты вычисляется среднее значение. Average pooling позволяет усреднить информацию из пространственных областей.\n",
        "\n",
        "Процесс пулинга обычно включает в себя два основных параметра:\n",
        "\n",
        "- **Размер окна пулинга**: Это размер области, для которой вычисляется максимальное или среднее значение. Обычно используются окна размером 2x2 или 3x3.\n",
        "\n",
        "- **Шаг (Stride)**: Это расстояние между центрами соседних окон пулинга. Обычно используется шаг 2, что делает пулинг-слои в полтора раза меньше по размерам.\n",
        "\n",
        "Рассмотрим ***пример:***\n",
        "\n",
        "Исходная матрица:\n",
        "\\begin{bmatrix}\n",
        "1 & 1 & 1 & 0 \\\\\n",
        "3 & 2 & 2 & 4 \\\\\n",
        "3 & 2 & 3 & 2 \\\\\n",
        "0 & 1 & 3 & 3 \\\\\n",
        "\\end{bmatrix}\n",
        "\n",
        "Применение Max Pooling с окном 2x2 и шагом 2:\n",
        "\n",
        "1. Выбираем первую область 2x2 из исходной матрицы:\n",
        "\\begin{bmatrix}\n",
        " 1 & 1 \\\\\n",
        " 3 & 2 \\\\\n",
        "\\end{bmatrix}\n",
        "Максимальное значение здесь: 3\n",
        "\n",
        "2. Выбираем вторую область 2x2 (с пропуском каждой второй строки и столбца) из исходной матрицы:\n",
        "\\begin{bmatrix}\n",
        " 1 & 0 \\\\\n",
        " 2 & 1 \\\\\n",
        "\\end{bmatrix}\n",
        "Максимальное значение здесь: 2\n",
        "\n",
        "3. Выбираем третью область 2x2 (с пропуском каждой второй строки и столбца) из исходной матрицы:\n",
        "\\begin{bmatrix}\n",
        " 3 & 2 \\\\\n",
        " 0 & 1 \\\\\n",
        "\\end{bmatrix}\n",
        "Максимальное значение здесь: 3\n",
        "\n",
        "Таким образом, после применения операции Max Pooling с окном 2x2 и шагом 2 получаем ***новую матрицу***:\n",
        "\\begin{bmatrix}\n",
        " 3 & 2 \\\\\n",
        " 3 & 3 \\\\\n",
        "\\end{bmatrix}"
      ]
    },
    {
      "cell_type": "markdown",
      "metadata": {
        "id": "zwl3J6HS6mVM"
      },
      "source": [
        "### Задача2 (2 балла)\n",
        "\n",
        "Реализуйте функцию, принимающую на вход матрицу, свёртку для неё(размера 2 на 2) и вычисляющую результат свёртки с stride = 1."
      ]
    },
    {
      "cell_type": "code",
      "source": [
        "A = np.array(([1, 2, 3, 4, 5],\n",
        "             [2, 1, 1, 3, 1],\n",
        "             [4, 3, 1, 0, 0],\n",
        "             [0, 0, 1, 5, 7],\n",
        "             [3, 10, 4, 5, 1]))\n",
        "n = 2\n",
        "\n",
        "R = np.zeros((4, 4))"
      ],
      "metadata": {
        "id": "hephFkmoJf4_"
      },
      "execution_count": 17,
      "outputs": []
    },
    {
      "cell_type": "code",
      "source": [
        "for i in range (4):\n",
        "  for j in range (4):\n",
        "    a = []\n",
        "    for k in range (2):\n",
        "      for m in range (2):\n",
        "        a.append(A[i + k][j + m])\n",
        "    R[i][j] = max(a)\n",
        "R"
      ],
      "metadata": {
        "colab": {
          "base_uri": "https://localhost:8080/"
        },
        "id": "ph5ECIy2LI_A",
        "outputId": "970ee2e2-6da5-4cf5-c6c1-34341ec6fbb7"
      },
      "execution_count": 19,
      "outputs": [
        {
          "output_type": "execute_result",
          "data": {
            "text/plain": [
              "array([[ 2.,  3.,  4.,  5.],\n",
              "       [ 4.,  3.,  3.,  3.],\n",
              "       [ 4.,  3.,  5.,  7.],\n",
              "       [10., 10.,  5.,  7.]])"
            ]
          },
          "metadata": {},
          "execution_count": 19
        }
      ]
    },
    {
      "cell_type": "markdown",
      "metadata": {
        "id": "oJfUiwIn6SVo"
      },
      "source": [
        "## 3.Пэддинг\n",
        "\n",
        "***Пэддинг (padding)*** - это процесс добавления нулей или других значения по краям входной матрицы в глубоком обучении. Пэддинг обычно используется в сверточных нейронных сетях перед применением операции свертки или пулинга. Основная цель пэддинга состоит в том, чтобы сохранить размерность входных данных или упростить реализацию операций свертки и пулинга."
      ]
    },
    {
      "cell_type": "code",
      "source": [
        "A = np.array(([1, 2, 3, 4, 5],\n",
        "             [2, 1, 1, 3, 1],\n",
        "             [4, 3, 1, 0, 0],\n",
        "             [0, 0, 1, 5, 7],\n",
        "             [3, 10, 4, 5, 1]))\n",
        "np.pad(A, [(1, 1), (1, 1)])"
      ],
      "metadata": {
        "colab": {
          "base_uri": "https://localhost:8080/"
        },
        "id": "KKsCKxDENM59",
        "outputId": "7f9aff2b-3665-4e56-b812-cb41052d64e8"
      },
      "execution_count": 20,
      "outputs": [
        {
          "output_type": "execute_result",
          "data": {
            "text/plain": [
              "array([[ 0,  0,  0,  0,  0,  0,  0],\n",
              "       [ 0,  1,  2,  3,  4,  5,  0],\n",
              "       [ 0,  2,  1,  1,  3,  1,  0],\n",
              "       [ 0,  4,  3,  1,  0,  0,  0],\n",
              "       [ 0,  0,  0,  1,  5,  7,  0],\n",
              "       [ 0,  3, 10,  4,  5,  1,  0],\n",
              "       [ 0,  0,  0,  0,  0,  0,  0]])"
            ]
          },
          "metadata": {},
          "execution_count": 20
        }
      ]
    },
    {
      "cell_type": "markdown",
      "metadata": {
        "id": "Y73tJUDQ7l7h"
      },
      "source": [
        "### Задача3 (1 балл)\n",
        "\n",
        "Реализуйте функцию, принимающую на вход матрицу и осуществяющую padding."
      ]
    },
    {
      "cell_type": "markdown",
      "metadata": {
        "id": "MG59gV608HEm"
      },
      "source": [
        "## 4.Свёрточная Нейронная сеть\n",
        "\n",
        "Свёрточная нейронная сеть (Convolutional Neural Network, CNN) - это особый вид нейронных сетей, разработанный для обработки и анализа многомерных данных, таких как изображения. CNN успешно применяются в компьютерном зрении, распознавании образов, анализе временных рядов и других областях, где важна обработка многомерных данных.\n",
        "\n",
        "Основные компоненты свёрточной нейронной сети:\n",
        "1. **Сверточный слой (Convolutional Layer)**: Этот слой выполняет операцию свертки, когда ядро фильтра применяется к входным данным для извлечения признаков.\n",
        "2. **Пулинговый слой (Pooling Layer)**: Данный слой уменьшает размерность пространства признаков путем объединения (например, максимум или среднее значения в каждой области).\n",
        "3. **Полносвязные слои (Fully Connected Layers)**: Эти слои используются для принятия решений на основе признаков, извлеченных предыдущими слоями.\n",
        "4. **Функции активации (Activation Functions)**: Обычно применяются функции активации, такие как ReLU (Rectified Linear Unit), чтобы вводить нелинейность в сеть и улучшить ее способность обобщения.\n",
        "\n",
        "Преимущества свёрточных нейронных сетей:\n",
        "1. **Работа с пространственной структурой данных**: CNN способны учитывать пространственную локальность и общие закономерности во входных данных, таких как пиксели изображений.\n",
        "2. **Работа с сокращенной размерностью**: Пулинговые слои позволяют уменьшить размерность пространства признаков, упрощая задачу обработки.\n",
        "3. **Способность извлекать признаки**: Свёрточные слои способны извлекать локальные признаки из входных данных, позволяя сети автоматически выявлять особенности в данных."
      ]
    },
    {
      "cell_type": "code",
      "execution_count": 28,
      "metadata": {
        "id": "k2vVajqaPR9H"
      },
      "outputs": [],
      "source": [
        "from torch.nn import functional as F\n",
        "\n",
        "data_tfs = tfs.Compose([\n",
        "    tfs.ToTensor(),\n",
        "    tfs.Normalize((0.5), (0.5))\n",
        "])\n",
        "\n",
        "# install for train and test\n",
        "root = './'\n",
        "train_dataset = MNIST(root, train=True,  transform=data_tfs, download=True)\n",
        "val_dataset  = MNIST(root, train=False, transform=data_tfs, download=True)"
      ]
    },
    {
      "cell_type": "code",
      "execution_count": 29,
      "metadata": {
        "id": "tU4WKjSJQrQV"
      },
      "outputs": [],
      "source": [
        "train_dataloader =  DataLoader(train_dataset, batch_size=128)\n",
        "valid_dataloader =  DataLoader(val_dataset, batch_size=128)"
      ]
    },
    {
      "cell_type": "markdown",
      "metadata": {
        "id": "WMQxD4YHiZaS"
      },
      "source": [
        "### Архитектура LeNet\n",
        "\n",
        "***LeNet*** — это структура(архитектура) сверточной нейронной сети, предложенная в 1998 году.\n",
        "\n",
        "***Архитектура***:\n",
        "\n",
        "Входное изображение размером 28(height)$×$28(widht)$×$(1 channel).\n",
        "\n",
        "1. Свёртка1(ядро: 5$×$5, пэддинг: 2, каналов на выходе: 6). ***На выходе:*** 28(height)$×$28(widht)$×$(6 channels)  \n",
        "\n",
        "2. Pooling1(ядро: 2$×$2, stride: 2). ***На выходе:*** 14(height)$×$14(widht)$×$(6 channels)\n",
        "\n",
        "3. Свёртка2(ядро: 5$×$5, пэддинг: 0, каналов на выходе: 16). ***На выходе:*** 10(height)$×$10(widht)$×$(16 channels)\n",
        "\n",
        "4. Pooling2(ядро: 2$×$2, stride: 2). ***На выходе:*** 5(height)$×$5(widht)$×$(16 channels)\n",
        "\n",
        "5. Линейный слой1 (120 нейронов)\n",
        "\n",
        "6. Линейный слой2 (84 нейрона)\n",
        "\n",
        "7. Выходной слой (10 нейронов)\n",
        "\n",
        "После Свёртки1 и Свёртки два следует ***функция активации***.\n",
        "\n",
        "После Pooling2 следует ***flatten***."
      ]
    },
    {
      "cell_type": "markdown",
      "metadata": {
        "id": "n2pRLcLpwMi4"
      },
      "source": [
        "### Параметры LeNet\n",
        "\n"
      ]
    },
    {
      "cell_type": "markdown",
      "metadata": {
        "id": "1EdcVsbOwTbg"
      },
      "source": [
        "Поскольку обучение нейронной сети это поиск оптимальных параметров, давайте посчитаем количество параметров (весов) LeNet.\n",
        "\n",
        "***Свёртка1***: 6 ядер размера 5$×$5 + 6 параметров bias = ***156***.\n",
        "\n",
        "***Pooling1***: параметров нет!\n",
        "\n",
        "***Свёртка2***: 16 ядер размера 5$×$5$×$6 + 16 параметров bias = ***2416***.\n",
        "\n",
        "***Pooling2***: параметров нет!\n",
        "\n",
        "***Линейный слой1:*** входной слой: 5$×$5$×$16 = 400, выходной: 120. Число параметров 400$×$120 + 120 = ***48120***.\n",
        "\n",
        "***Линейный слой2:*** входной слой: 120, выходной: 84. Число параметров 120$×$84 + 84 = ***10164***.\n",
        "\n",
        "***Выходной слой:*** входной слой: 84, выходной: 10. Число параметров 84$×$10 + 10 = ***850***.\n",
        "\n",
        "***Итоговое число параметров:*** 156 + 2416 + 48120 + 10164 + 850 = ***61706***."
      ]
    },
    {
      "cell_type": "markdown",
      "metadata": {
        "id": "s_g6JjZVAgla"
      },
      "source": [
        "Реализуем архитектуру на python в виде класса LeNet."
      ]
    },
    {
      "cell_type": "code",
      "execution_count": 30,
      "metadata": {
        "id": "iSX6Rs3WQydO"
      },
      "outputs": [],
      "source": [
        "class LeNet(nn.Module):\n",
        "    def __init__(self):\n",
        "        super(LeNet, self).__init__()\n",
        "        # Свёртка1\n",
        "        self.conv1 = nn.Conv2d(in_channels=1, out_channels=6, kernel_size=5, padding = 2)\n",
        "        # Свёртка2\n",
        "        self.conv2 = nn.Conv2d(in_channels=6, out_channels=16, kernel_size=5)\n",
        "        # Pooling1\n",
        "        self.pool1 = nn.MaxPool2d(kernel_size=2, stride = 2)\n",
        "        # Pooling2\n",
        "        self.pool2 = nn.MaxPool2d(kernel_size=2, stride = 2)\n",
        "        # Линейный слой1\n",
        "        self.fc1 = nn.Linear(16 * 5 * 5, 120)\n",
        "        # Линейный слой2\n",
        "        self.fc2 = nn.Linear(120, 84)\n",
        "        # Выходной слой\n",
        "        self.fc3 = nn.Linear(84, 10)\n",
        "\n",
        "    def forward(self, x):\n",
        "        # Свёртка1 + активация Тангес\n",
        "        x = F.tanh(self.conv1(x))\n",
        "        # Pooling1\n",
        "        x = self.pool1(x)\n",
        "        # Свёртка1 + активация Тангес\n",
        "        x = F.tanh(self.conv2(x))\n",
        "        # Pooling2\n",
        "        x = self.pool2(x)\n",
        "        # Flatten\n",
        "        size_ = int(x.nelement() / x.shape[0])\n",
        "        x = x.view(-1, size_)\n",
        "        # Линейный слой1 + активация Тангес\n",
        "        x = F.tanh(self.fc1(x))\n",
        "        # Линейный слой2 + активация Тангес\n",
        "        x = F.tanh(self.fc2(x))\n",
        "        # Выходной слой\n",
        "        x = self.fc3(x)\n",
        "        return x"
      ]
    },
    {
      "cell_type": "code",
      "execution_count": 31,
      "metadata": {
        "id": "3U82u8sdQ_ve"
      },
      "outputs": [],
      "source": [
        "device = \"cuda\" if torch.cuda.is_available() else \"cpu\""
      ]
    },
    {
      "cell_type": "code",
      "execution_count": 32,
      "metadata": {
        "id": "y4Hz0NrRQ8Sm"
      },
      "outputs": [],
      "source": [
        "model = LeNet().to(device)\n",
        "criterion = nn.CrossEntropyLoss()\n",
        "optimizer = torch.optim.Adam(model.parameters())\n",
        "loaders = {\"train\": train_dataloader, \"valid\": valid_dataloader}"
      ]
    },
    {
      "cell_type": "markdown",
      "metadata": {
        "id": "ACt1q1rd9C5A"
      },
      "source": [
        "***Обратите внимание!*** Мы используем .to(device), что означает, что мы перемещаем наши объекты на GPU и обучаемся там же."
      ]
    },
    {
      "cell_type": "code",
      "execution_count": 33,
      "metadata": {
        "colab": {
          "base_uri": "https://localhost:8080/"
        },
        "id": "wbaLJgvWRFUu",
        "outputId": "dcb9fcd8-49f5-4b1b-97bb-f1d940d45d76"
      },
      "outputs": [
        {
          "output_type": "stream",
          "name": "stdout",
          "text": [
            "Epoch: 1\n",
            "Loader: train. Accuracy: 0.90885\n",
            "Loader: valid. Accuracy: 0.9736\n",
            "Epoch: 2\n",
            "Loader: train. Accuracy: 0.9759\n",
            "Loader: valid. Accuracy: 0.9795\n",
            "Epoch: 3\n",
            "Loader: train. Accuracy: 0.9847833333333333\n",
            "Loader: valid. Accuracy: 0.9791\n",
            "Epoch: 4\n",
            "Loader: train. Accuracy: 0.9893\n",
            "Loader: valid. Accuracy: 0.98\n",
            "Epoch: 5\n",
            "Loader: train. Accuracy: 0.9920833333333333\n",
            "Loader: valid. Accuracy: 0.9823\n",
            "Epoch: 6\n",
            "Loader: train. Accuracy: 0.99415\n",
            "Loader: valid. Accuracy: 0.9837\n",
            "Epoch: 7\n",
            "Loader: train. Accuracy: 0.9955833333333334\n",
            "Loader: valid. Accuracy: 0.9827\n",
            "Epoch: 8\n",
            "Loader: train. Accuracy: 0.9960166666666667\n",
            "Loader: valid. Accuracy: 0.9855\n",
            "Epoch: 9\n",
            "Loader: train. Accuracy: 0.9971833333333333\n",
            "Loader: valid. Accuracy: 0.985\n",
            "Epoch: 10\n",
            "Loader: train. Accuracy: 0.9971833333333333\n",
            "Loader: valid. Accuracy: 0.984\n"
          ]
        }
      ],
      "source": [
        "from torch.nn import functional as F\n",
        "max_epochs = 10\n",
        "accuracy = {\"train\": [], \"valid\": []}\n",
        "for epoch in range(max_epochs):\n",
        "    for k, dataloader in loaders.items():\n",
        "        epoch_correct = 0\n",
        "        epoch_all = 0\n",
        "        for x_batch, y_batch in dataloader:\n",
        "            if k == \"train\":\n",
        "                model.train()\n",
        "                optimizer.zero_grad()\n",
        "                outp = model(x_batch.to(device))\n",
        "            else:\n",
        "                model.eval()\n",
        "                with torch.no_grad():\n",
        "                    outp = model(x_batch.to(device))\n",
        "            preds = outp.argmax(-1)\n",
        "            correct =  (preds == y_batch).sum()\n",
        "            all = y_batch.shape[0]\n",
        "            epoch_correct += correct.item()\n",
        "            epoch_all += all\n",
        "            if k == \"train\":\n",
        "                loss = criterion(outp, y_batch.to(device))\n",
        "                loss.backward()\n",
        "                optimizer.step()\n",
        "        if k == \"train\":\n",
        "            print(f\"Epoch: {epoch+1}\")\n",
        "        print(f\"Loader: {k}. Accuracy: {epoch_correct/epoch_all}\")\n",
        "        accuracy[k].append(epoch_correct/epoch_all)\n"
      ]
    },
    {
      "cell_type": "markdown",
      "metadata": {
        "id": "Yp45xiLrC-JC"
      },
      "source": [
        "Вспомните, какую точность давали другие алгоритмы на данном датасете. Свёрточная нейронная сеть показала ***лучший*** результат!"
      ]
    },
    {
      "cell_type": "markdown",
      "metadata": {
        "id": "LKtK4dk7E5iu"
      },
      "source": [
        "### Задача (3 балла)\n",
        "\n",
        "Для датасета CIFAR10, постройте и обучите следующую нейронную сеть.\n",
        "\n",
        "***Архитектура***:\n",
        "\n",
        "Входное изображение размером 32(height)$×$32(widht)$×$(3 channel).\n",
        "\n",
        "1. Свёртка1(ядро: 3$×$3, пэддинг: 0, каналов на выходе: 6). ***На выходе:*** ВАШ ОТВЕТ.  \n",
        "\n",
        "2. Pooling1(ядро: 2$×$2, stride: 2). ***На выходе:*** ВАШ ОТВЕТ.\n",
        "\n",
        "3. Свёртка2(ядро: 3$×$3, пэддинг: 0, каналов на выходе: 12). ***На выходе:*** ВАШ ОТВЕТ.\n",
        "\n",
        "4. Pooling2(ядро: 2$×$2, stride: 2). ***На выходе:*** ВАШ ОТВЕТ.\n",
        "\n",
        "5. Линейный слой1 (256 нейронов)\n",
        "\n",
        "6. Линейный слой2 (128 нейрона)\n",
        "\n",
        "7. Линейный слой3 (64 нейрона)\n",
        "\n",
        "8. Выходной слой (10 нейронов)\n",
        "\n",
        "* После Свёртки1 и Свёртки два следует ***функция активации: ReLU***.\n",
        "\n",
        "* После Pooling2 следует ***flatten***.\n",
        "\n",
        "***Сколько параметров имеет данная архитектура?*** ВАШ ОТВЕТ.\n",
        "\n",
        "Если всё сделает правильно, то легко получите точность выше 60 на 10 эпохах!\n"
      ]
    },
    {
      "cell_type": "code",
      "execution_count": 68,
      "metadata": {
        "id": "N42JWWSw9wbU",
        "colab": {
          "base_uri": "https://localhost:8080/"
        },
        "outputId": "09b22edf-41c9-4c3e-b053-964b052c62af"
      },
      "outputs": [
        {
          "output_type": "stream",
          "name": "stdout",
          "text": [
            "Files already downloaded and verified\n",
            "Files already downloaded and verified\n"
          ]
        }
      ],
      "source": [
        "from torch.nn import functional as F\n",
        "\n",
        "data_tfs = tfs.Compose([\n",
        "    tfs.ToTensor(),\n",
        "    tfs.Normalize((0.5, 0.5, 0.5), (0.5, 0.5, 0.5))\n",
        "])\n",
        "\n",
        "# install for train and test\n",
        "root = './'\n",
        "train_dataset = CIFAR10(root, train=True,  transform=data_tfs, download=True)\n",
        "val_dataset  = CIFAR10(root, train=False, transform=data_tfs, download=True)"
      ]
    },
    {
      "cell_type": "code",
      "source": [
        "train_dataloader =  DataLoader(train_dataset, batch_size=128)\n",
        "valid_dataloader =  DataLoader(val_dataset, batch_size=128)"
      ],
      "metadata": {
        "id": "k-cva5I-Sk_r"
      },
      "execution_count": 69,
      "outputs": []
    },
    {
      "cell_type": "code",
      "source": [
        "class LeNet(nn.Module):\n",
        "    def __init__(self):\n",
        "        super(LeNet, self).__init__()\n",
        "        # Свёртка1\n",
        "        self.conv1 = nn.Conv2d(in_channels=3, out_channels=6, kernel_size=3, padding = 0)\n",
        "        # Свёртка2\n",
        "        self.conv2 = nn.Conv2d(in_channels=6, out_channels=12, kernel_size=3)\n",
        "        # Pooling1\n",
        "        self.pool1 = nn.MaxPool2d(kernel_size=2, stride = 2)\n",
        "        # Pooling2\n",
        "        self.pool2 = nn.MaxPool2d(kernel_size=2, stride = 2)\n",
        "        # Линейный слой1\n",
        "        self.fc1 = nn.Linear(6 * 6 * 12, 256)\n",
        "        # Линейный слой2\n",
        "        self.fc2 = nn.Linear(256, 64)\n",
        "        # Выходной слой\n",
        "        self.fc3 = nn.Linear(64, 10)\n",
        "\n",
        "    def forward(self, x):\n",
        "        # Свёртка1 + активация Тангес\n",
        "        x = F.tanh(self.conv1(x))\n",
        "        # Pooling1\n",
        "        x = self.pool1(x)\n",
        "        # Свёртка1 + активация Тангес\n",
        "        x = F.tanh(self.conv2(x))\n",
        "        # Pooling2\n",
        "        x = self.pool2(x)\n",
        "        # Flatten\n",
        "        size_ = int(x.nelement() / x.shape[0])\n",
        "        x = x.view(-1, size_)\n",
        "        # Линейный слой1 + активация Тангес\n",
        "        x = F.relu(self.fc1(x))\n",
        "        # Линейный слой2 + активация Тангес\n",
        "        x = F.relu(self.fc2(x))\n",
        "        # Выходной слой\n",
        "        x = self.fc3(x)\n",
        "        return x"
      ],
      "metadata": {
        "id": "1Szv90B4S6bZ"
      },
      "execution_count": 70,
      "outputs": []
    },
    {
      "cell_type": "code",
      "source": [
        "device = \"cuda\" if torch.cuda.is_available() else \"cpu\""
      ],
      "metadata": {
        "id": "SXZHbsS0WRcc"
      },
      "execution_count": 71,
      "outputs": []
    },
    {
      "cell_type": "code",
      "source": [
        "model = LeNet().to(device)\n",
        "criterion = nn.CrossEntropyLoss()\n",
        "optimizer = torch.optim.Adam(model.parameters())\n",
        "loaders = {\"train\": train_dataloader, \"valid\": valid_dataloader}"
      ],
      "metadata": {
        "id": "bMQaO29vWT6j"
      },
      "execution_count": 72,
      "outputs": []
    },
    {
      "cell_type": "code",
      "source": [
        "from torch.nn import functional as F\n",
        "max_epochs = 10\n",
        "accuracy = {\"train\": [], \"valid\": []}\n",
        "for epoch in range(max_epochs):\n",
        "    for k, dataloader in loaders.items():\n",
        "        epoch_correct = 0\n",
        "        epoch_all = 0\n",
        "        for x_batch, y_batch in dataloader:\n",
        "            if k == \"train\":\n",
        "                model.train()\n",
        "                optimizer.zero_grad()\n",
        "                outp = model(x_batch.to(device))\n",
        "            else:\n",
        "                model.eval()\n",
        "                with torch.no_grad():\n",
        "                    outp = model(x_batch.to(device))\n",
        "            preds = outp.argmax(-1)\n",
        "            correct =  (preds == y_batch).sum()\n",
        "            all = y_batch.shape[0]\n",
        "            epoch_correct += correct.item()\n",
        "            epoch_all += all\n",
        "            if k == \"train\":\n",
        "                loss = criterion(outp, y_batch.to(device))\n",
        "                loss.backward()\n",
        "                optimizer.step()\n",
        "        if k == \"train\":\n",
        "            print(f\"Epoch: {epoch+1}\")\n",
        "        print(f\"Loader: {k}. Accuracy: {epoch_correct/epoch_all}\")\n",
        "        accuracy[k].append(epoch_correct/epoch_all)\n"
      ],
      "metadata": {
        "colab": {
          "base_uri": "https://localhost:8080/"
        },
        "id": "DVmeqhOQWWMa",
        "outputId": "26d11b4d-6be8-4f09-e3d6-79e4190625ea"
      },
      "execution_count": 73,
      "outputs": [
        {
          "output_type": "stream",
          "name": "stdout",
          "text": [
            "Epoch: 1\n",
            "Loader: train. Accuracy: 0.40482\n",
            "Loader: valid. Accuracy: 0.4896\n",
            "Epoch: 2\n",
            "Loader: train. Accuracy: 0.5321\n",
            "Loader: valid. Accuracy: 0.5467\n",
            "Epoch: 3\n",
            "Loader: train. Accuracy: 0.58766\n",
            "Loader: valid. Accuracy: 0.5842\n",
            "Epoch: 4\n",
            "Loader: train. Accuracy: 0.62508\n",
            "Loader: valid. Accuracy: 0.6123\n",
            "Epoch: 5\n",
            "Loader: train. Accuracy: 0.6562\n",
            "Loader: valid. Accuracy: 0.6262\n",
            "Epoch: 6\n",
            "Loader: train. Accuracy: 0.67986\n",
            "Loader: valid. Accuracy: 0.6349\n",
            "Epoch: 7\n",
            "Loader: train. Accuracy: 0.70156\n",
            "Loader: valid. Accuracy: 0.6426\n",
            "Epoch: 8\n",
            "Loader: train. Accuracy: 0.7215\n",
            "Loader: valid. Accuracy: 0.6463\n",
            "Epoch: 9\n",
            "Loader: train. Accuracy: 0.74052\n",
            "Loader: valid. Accuracy: 0.6475\n",
            "Epoch: 10\n",
            "Loader: train. Accuracy: 0.7588\n",
            "Loader: valid. Accuracy: 0.6496\n"
          ]
        }
      ]
    },
    {
      "cell_type": "markdown",
      "metadata": {
        "id": "yroqggIuWLo2"
      },
      "source": [
        "### Архитектура AlexNet\n",
        "\n",
        "Рассмотрите файл(AlexNet) во вложении.  "
      ]
    },
    {
      "cell_type": "markdown",
      "metadata": {
        "id": "U7_06X66AQ1w"
      },
      "source": [
        "### Задача 5(3 балла)\n",
        "\n",
        "Реализуйте класс, соответствующий архитектуре AlexNet"
      ]
    },
    {
      "cell_type": "code",
      "source": [
        "class AlexNet(nn.Module):\n",
        "    def __init__(self):\n",
        "        super(LeNet, self).__init__()\n",
        "        # Свёртка1\n",
        "        self.conv1 = nn.Conv2d(in_channels=3, out_channels=96, kernel_size=11, padding = 0, stride = 4)\n",
        "        # Свёртка2\n",
        "        self.conv2 = nn.Conv2d(in_channels=96, out_channels=256, kernel_size=5, padding = 5)\n",
        "        # Свёртка3\n",
        "        self.conv3 = nn.Conv2d(in_channels=256, out_channels=384, padding=1, kernel_size=3)\n",
        "        # Свёртка4\n",
        "        self.conv4 = nn.Conv2d(in_channels=384, out_channels=384, kernel_size=3, padding=1)\n",
        "        # Свёртка5\n",
        "        self.conv5 = nn.Conv2d(in_channels=384, out_channels=256, kernel_size=3, padding=1)\n",
        "        # Pooling1\n",
        "        self.pool1 = nn.MaxPool2d(kernel_size=3, stride = 2)\n",
        "        # Pooling2\n",
        "        self.pool2 = nn.MaxPool2d(kernel_size=3, stride = 2)\n",
        "        # Pooling3\n",
        "        self.pool3 = nn.MaxPool12d(kernel_size=3, stride=2)\n",
        "        # Линейный слой1\n",
        "        self.fc1 = nn.Linear(5 * 5 * 256, 4096)\n",
        "        # Линейный слой2\n",
        "        self.fc2 = nn.Linear(4096, 4096)\n",
        "        # Выходной слой\n",
        "        self.fc3 = nn.Linear(4096, 1000)\n",
        "\n",
        "    def forward(self, x):\n",
        "        # Свёртка1 + активация Relu\n",
        "        x = F.relu(self.conv1(x))\n",
        "        # Pooling1\n",
        "        x = self.pool1(x)\n",
        "        # Свёртка2 + активация Relu\n",
        "        x = F.relu(self.conv2(x))\n",
        "        # Pooling2\n",
        "        x = self.pool2(x)\n",
        "        # Свёртка3 + активация ReLu\n",
        "        x = F.relu(self.conv3(x))\n",
        "        # Свёртка4 + активация ReLu\n",
        "        x = F.relu(self.conv4(x))\n",
        "        # Свёртка5 + активация ReLu\n",
        "        x = F.relu(self.conv5(x))\n",
        "        # Pooling 3\n",
        "        x = self.pool3(x)\n",
        "        # Flatten\n",
        "        size_ = int(x.nelement() / x.shape[0])\n",
        "        x = x.view(-1, size_)\n",
        "        # Линейный слой1 + активация ReLu\n",
        "        x = F.relu(self.fc1(x))\n",
        "        # DropOut\n",
        "        x = F.dropout(x, p = 0.5)\n",
        "        # Линейный слой2 + активация Тангес\n",
        "        x = F.relu(self.fc2(x))\n",
        "        # DropOut\n",
        "        x = F.dropout(x, p = 0.5)\n",
        "        # Линейный слой2 + активация Relu\n",
        "        x = F.relu(self.fc2(x))\n",
        "        # Выходной слой\n",
        "        x = self.fc3(x)\n",
        "        return x"
      ],
      "metadata": {
        "id": "eLne7G3DloD0"
      },
      "execution_count": null,
      "outputs": []
    }
  ],
  "metadata": {
    "colab": {
      "provenance": [],
      "toc_visible": true
    },
    "kernelspec": {
      "display_name": "Python 3 (ipykernel)",
      "language": "python",
      "name": "python3"
    },
    "language_info": {
      "codemirror_mode": {
        "name": "ipython",
        "version": 3
      },
      "file_extension": ".py",
      "mimetype": "text/x-python",
      "name": "python",
      "nbconvert_exporter": "python",
      "pygments_lexer": "ipython3",
      "version": "3.9.13"
    }
  },
  "nbformat": 4,
  "nbformat_minor": 0
}