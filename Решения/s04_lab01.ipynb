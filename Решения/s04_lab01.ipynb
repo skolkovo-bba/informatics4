{
 "cells": [
  {
   "cell_type": "markdown",
   "id": "c56ca2a2",
   "metadata": {},
   "source": [
    "# Лабораторная 1"
   ]
  },
  {
   "cell_type": "markdown",
   "id": "beb66331",
   "metadata": {},
   "source": [
    "***План лабораторной;***\n",
    "\n",
    "1. Постановка задачи обучения с учителем. Признаки объекта. Типы задач.\n",
    "2. Классический k-NN. Взвешенный k-NN. k-NN в sсikit-learn. Ядра и метод потенциальных функций\n",
    "3. Итоги"
   ]
  },
  {
   "cell_type": "markdown",
   "id": "1954d971",
   "metadata": {},
   "source": [
    "## 1.1 Постановка задачи обучения с учителем"
   ]
  },
  {
   "cell_type": "markdown",
   "id": "4689b884",
   "metadata": {},
   "source": [
    "Пусть \n",
    "\n",
    "* $X$ - множество объектов, или же, что более точно множество их информационных описаний\n",
    "* $Y$ - множество ответов \n",
    "* $y: X \\rightarrow Y$ - некоторая неизвестная зависимость\n",
    "\n",
    "Задача ***обучения с учителем выглядит следующим образом*** \n",
    "\n",
    "***Дано:*** \n",
    "\n",
    "$ {x_1 ... x_l} \\subset X $ - обучающая выборка \n",
    "\n",
    "$y_1 = y(x_1) ... y_l = y(x_l)$ - ответы\n",
    "\n",
    "***Требуется найти:*** \n",
    "\n",
    "$a: X \\rightarrow Y $ - алгоритм, приближающий $y$ на множестве $X$"
   ]
  },
  {
   "cell_type": "markdown",
   "id": "4b242705",
   "metadata": {},
   "source": [
    "## 1.2 Признаки объекта"
   ]
  },
  {
   "cell_type": "markdown",
   "id": "d480c9c8",
   "metadata": {},
   "source": [
    "Для того чтобы работать с объектами, алгоритм должен опираться на какие-то свойства объекта. Эти свойства и есть *признаки* объекта, а их множество является *признаковым описанием* объекта. \n",
    "\n",
    "Более срого ***признаки*** объекта $ f_j $ задаются следующим образом: \n",
    "\n",
    "$f_j : X \\rightarrow D_j$ \n",
    "\n",
    "*Типы признаков*:\n",
    "\n",
    "1. Бинарные (пример: наличие или отсутствие ванной комнаты у квартиры, наличие или отсутствие детей у пассажира титаника) \n",
    "2. Численные (пример: рост и вес человека, мощность двигателя машины) \n",
    "3. Категориальные (пример: день недели, погода) \n",
    "\n",
    "***Важно и очень важно*** понимать разницу между объектом и его признаковым описанием."
   ]
  },
  {
   "cell_type": "markdown",
   "id": "109b379d",
   "metadata": {},
   "source": [
    "## 1.3 Типы задач"
   ]
  },
  {
   "cell_type": "markdown",
   "id": "5bcda223",
   "metadata": {},
   "source": [
    "1. ***Задача бинарной классификации*** - $Y = \\{0, 1\\}$\n",
    "\n",
    "Пример: вернёт ли клиент кредит, болен ли пациент. \n",
    "\n",
    "2. ***Задача классификации на M непересекающихся классов*** - $Y = \\{0 ... M\\}$\n",
    "\n",
    "Пример: классификация рукописных цифр. \n",
    "\n",
    "3. ***Задача классификации на M пересекающихся классов*** - $Y = \\{0, 1\\}^M$\n",
    "\n",
    "Пример: жанр для фильма(фильм может иметь несколько жанров). \n",
    "\n",
    "4. ***Задача регрессии*** - $Y = R$\n",
    "\n",
    "Пример: время выполнения программы. \n",
    "\n",
    "5. ***Задача ранжирования*** - $Y$ - упорядоченное множество.\n",
    "\n",
    "Пример: Поисковый запрос. "
   ]
  },
  {
   "cell_type": "markdown",
   "id": "41854263",
   "metadata": {},
   "source": [
    "### Задача 1(1 балл)\n",
    "\n",
    "Загрузим датасет Ирисы Фишера. \n",
    "\n",
    "***Датасет ирисов Фишера*** впервые представлен британским статистиком и биологом Рональдом Фишером в 1936 году. Датасет состоит из измерений четырех признаков (длина наружной доли околоцветника, ширина наружной доли околоцветника, длина внутренней доли околоцветника, ширина внутренней доли околоцветника) и трех видов ирисов: setosa, versicolor и virginica.\n",
    "\n",
    "Датасет содержит 150 экземпляров ирисов, по 50 для каждого вида. Ирисы Фишера часто используется для демонстрации методов классификации и кластеризации в машинном обучении, а также для иллюстрации визуализации данных и кластерного анализа.\n"
   ]
  },
  {
   "cell_type": "code",
   "execution_count": null,
   "id": "3e7cbc0a",
   "metadata": {},
   "outputs": [
    {
     "ename": "",
     "evalue": "",
     "output_type": "error",
     "traceback": [
      "\u001b[1;31mДля выполнения ячеек с \"base\" требуется пакет ipykernel.\n",
      "\u001b[1;31mВыполните следующую команду, чтобы установить \"ipykernel\" в среде Python. \n",
      "\u001b[1;31mКоманда: \"conda install -n base ipykernel --update-deps --force-reinstall\""
     ]
    }
   ],
   "source": [
    "# библиотеки, используемые в лабораторной работе\n",
    "import pandas as pd\n",
    "import numpy as np\n",
    "import seaborn as sns\n",
    "import matplotlib.pyplot as plt\n",
    "\n",
    "from sklearn import datasets\n",
    "from sklearn.datasets import load_iris\n",
    "from sklearn.datasets import load_breast_cancer\n",
    "from sklearn.datasets import make_circles\n",
    "from sklearn.model_selection import train_test_split\n",
    "from sklearn.neighbors import KNeighborsClassifier\n",
    "from sklearn.metrics import accuracy_score"
   ]
  },
  {
   "cell_type": "markdown",
   "id": "e1b3ba71",
   "metadata": {},
   "source": [
    "Визуализируем датасет "
   ]
  },
  {
   "cell_type": "code",
   "execution_count": null,
   "id": "fe717f3a",
   "metadata": {},
   "outputs": [
    {
     "ename": "",
     "evalue": "",
     "output_type": "error",
     "traceback": [
      "\u001b[1;31mДля выполнения ячеек с \"base\" требуется пакет ipykernel.\n",
      "\u001b[1;31mВыполните следующую команду, чтобы установить \"ipykernel\" в среде Python. \n",
      "\u001b[1;31mКоманда: \"conda install -n base ipykernel --update-deps --force-reinstall\""
     ]
    }
   ],
   "source": [
    "iris_dataset = sns.load_dataset('iris')\n",
    "sns.pairplot(iris_dataset, hue='species')\n",
    "plt.show()"
   ]
  },
  {
   "cell_type": "markdown",
   "id": "f6778615",
   "metadata": {},
   "source": [
    "1. Сколько объектов в данном датасете?\n",
    "2. Сколько признаков у каждого объекта?\n",
    "3. Какие типы признаков у каждого объекта?\n",
    "4. Какой тип задачи можно решить с помощью данного даного датасета?"
   ]
  },
  {
   "cell_type": "markdown",
   "id": "5b869b77",
   "metadata": {},
   "source": [
    "1. В датасете Ирисы Фишера содержится 150 объектов.\n",
    "\n",
    "2. У каждого объекта четыре признака, которые являются измерениями частей цветка: длина наружной дольки околоцветника (англ. sepal length), ширина наружной дольки околоцветника (англ. sepal width), длина внутренней дольки околоцветника (англ. petal length), и ширина внутренней дольки околоцветника (англ. petal width). Также в датасете присутствует метка класса, указывающая на вид ириса, к которому относится объект.\n",
    "\n",
    "3. Все четыре признака у каждого объекта — это количественные (вещественные числа), измеряемые в сантиметрах.\n",
    "\n",
    "4. Используя данный датасет, можно решать задачи классификации, при которых предсказывается вид ириса на основе измерений его частей цветка. Также его можно использовать для задачи кластеризации (например, для проверки алгоритмов, которые могли бы группировать наблюдения в три различные группы в соответствии с видами ирисов без предварительного знания их меток). Кроме того, данный датасет подходит для визуализации данных и обучения в области машинного обучения, так как он не очень большой и имеет четкую структуру."
   ]
  },
  {
   "cell_type": "markdown",
   "id": "bcc394dd",
   "metadata": {},
   "source": [
    "## 2.1 Метрические методы классификации"
   ]
  },
  {
   "cell_type": "markdown",
   "id": "c147a68a",
   "metadata": {},
   "source": [
    "***Гипотеза компактности***\n",
    "\n",
    "Гипотеза компактности - это основная идея, лежащая в основе алгоритмов k-ближайших соседей (k-NN) в машинном обучении. Она предполагает, что объекты одного класса скорее всего находятся близко друг к другу в пространстве признаков. Другими словами, объекты, принадлежащие к одному классу, склонны иметь похожие значения признаков и, следовательно, будут расположены близко друг к другу в пространстве признаков.\n",
    "\n",
    "***Гипотеза непрерывности***\n",
    "\n",
    "Гипотеза непрерывности подразумевает, что объекты, находящиеся близко друг к другу в пространстве признаков, имеют близкие значения целевой переменной или принадлежат к одному и тому же классу. Это предположение позволяет алгоритмам классификации учитывать близость объектов при принятии решений о принадлежности к классу."
   ]
  },
  {
   "cell_type": "markdown",
   "id": "83e95bc7",
   "metadata": {},
   "source": [
    "Посмотрите на выборку выше и убедитесь в выполнимости гипотезы непрерывности и компактности. "
   ]
  },
  {
   "cell_type": "markdown",
   "id": "4e2fcf41",
   "metadata": {},
   "source": [
    "***Алгоритм k-ближайших соседей (k-NN)*** является одним из простейших методов для классификации объектов в машинном обучении. Он основан на принципе гипотезы компактности и непрерывности: объекты одного класса склонны находиться близко друг к другу в пространстве признаков.\n",
    "\n",
    "Фраза, которая хорошая объясняет работу алгоритма: ***\"Скажи мне, кто твой друг, и я скажу, кто ты\"***. Также стоит отметить, что метрические алгоритмы почти не имеют фазы обучения. Алгоритм просто запоминают всю обучающую выборку, а на этапе предсказания просто ищут похожие на целевой объекты. \n",
    "\n",
    "Такое обучение называется ***lazy learning***.  \n",
    "\n",
    "***Принцип работы алгоритма k-NN***:\n",
    "\n",
    "1. Загрузка обучающего набора данных, содержащего объекты и соответствующие им классы.\n",
    "2. Для нового объекта вычисляется расстояние до всех объектов обучающего набора с использованием метрики расстояния, например, евклидово расстояние.\n",
    "3. Выбираются k ближайших соседей нового объекта из обучающего набора данных.\n",
    "4. Определяется класс нового объекта на основе классов его ближайших соседей (например, путем простого большинства среди соседей).\n",
    "5. Новый объект относится к тому классу, который представлен большинством среди его k ближайших соседей.\n",
    "\n",
    "Параметр k является гиперпараметром алгоритма, и его выбор влияет на точность классификации. Большие значения k могут быть более устойчивыми к выбросам, но более склонны к обобщению, в то время как малые значения k склонны к чувствительности к шумам, но могут иметь плохую предсказательную способность. "
   ]
  },
  {
   "cell_type": "markdown",
   "id": "dfbc6c8e",
   "metadata": {},
   "source": [
    "Работа алгоритма хорошо продемонстрирована на схеме ниже:\n",
    "1. У нас есть обучающая выборка из \"синих квадратов\" и \"красных треугольников\". Нам нужно понять к какому классу относится зелёный круг.\n",
    "2. Для зелёного круга вычисляем расстояние до всех объектов обучающего набора. \n",
    "3. Выбираем k ближайших соседей зелёного круга(в нашем случае k = 3).\n",
    "4. Определяется класс зелёного круга на основе классов его ближайших соседей (например, путем простого большинства среди соседей).\n",
    "5. Зелёный круг относится к тому классу, который представлен большинством среди его k ближайших соседей(в нашем случае круг окажется треугольником). "
   ]
  },
  {
   "attachments": {
    "KnnClassification.svg.png": {
     "image/png": "[encoded data removed]"
    }
   },
   "cell_type": "markdown",
   "id": "b6e2980d",
   "metadata": {},
   "source": [
    "![KnnClassification.svg.png](attachment:KnnClassification.svg.png)"
   ]
  },
  {
   "cell_type": "markdown",
   "id": "24bc04c8",
   "metadata": {},
   "source": [
    "***Реализуем алгоритм k-nn своими руками***:"
   ]
  },
  {
   "cell_type": "code",
   "execution_count": null,
   "id": "9e4671bc",
   "metadata": {},
   "outputs": [
    {
     "ename": "",
     "evalue": "",
     "output_type": "error",
     "traceback": [
      "\u001b[1;31mДля выполнения ячеек с \"base\" требуется пакет ipykernel.\n",
      "\u001b[1;31mВыполните следующую команду, чтобы установить \"ipykernel\" в среде Python. \n",
      "\u001b[1;31mКоманда: \"conda install -n base ipykernel --update-deps --force-reinstall\""
     ]
    }
   ],
   "source": [
    "np.bincount([1, 1, 2, 3, 0, 0, 0, 7, 7])"
   ]
  },
  {
   "cell_type": "code",
   "execution_count": null,
   "id": "a2f2d67f",
   "metadata": {},
   "outputs": [
    {
     "ename": "",
     "evalue": "",
     "output_type": "error",
     "traceback": [
      "\u001b[1;31mДля выполнения ячеек с \"base\" требуется пакет ipykernel.\n",
      "\u001b[1;31mВыполните следующую команду, чтобы установить \"ipykernel\" в среде Python. \n",
      "\u001b[1;31mКоманда: \"conda install -n base ipykernel --update-deps --force-reinstall\""
     ]
    }
   ],
   "source": [
    "# Функция для вычисления евклидова расстояния между точками\n",
    "def euclidean_distance(x1, x2):\n",
    "    return np.sqrt(np.sum((x1 - x2)**2))\n",
    "\n",
    "# Класс, представляющий алгоритм k-NN\n",
    "class KNN:\n",
    "    def __init__(self, k=3):\n",
    "        self.k = k\n",
    "\n",
    "    # Метод для обучения модели\n",
    "    def fit(self, X, y):\n",
    "        self.X_train = X\n",
    "        self.y_train = y\n",
    "\n",
    "    # Метод для предсказания класса нового объекта\n",
    "    def predict(self, X):\n",
    "        y_pred = [self._predict(x) for x in X]\n",
    "        return np.array(y_pred)\n",
    "\n",
    "    # Внутренний метод для предсказания класса для одного объекта\n",
    "    def _predict(self, x):\n",
    "        # Вычисляем расстояние до всех объектов в обучающем наборе\n",
    "        distances = [euclidean_distance(x, x_train) for x_train in self.X_train]\n",
    "        # Сортируем по расстоянию и возвращаем индексы k ближайших соседей\n",
    "        k_indices = np.argsort(distances)[:self.k]\n",
    "        # Получаем метки классов ближайших соседей\n",
    "        k_nearest_labels = [self.y_train[i] for i in k_indices]\n",
    "        # Возвращаем наиболее часто встречающийся класс\n",
    "        most_common = np.bincount(k_nearest_labels).argmax()\n",
    "        return most_common"
   ]
  },
  {
   "cell_type": "code",
   "execution_count": null,
   "id": "d24779a3",
   "metadata": {},
   "outputs": [
    {
     "ename": "",
     "evalue": "",
     "output_type": "error",
     "traceback": [
      "\u001b[1;31mДля выполнения ячеек с \"base\" требуется пакет ipykernel.\n",
      "\u001b[1;31mВыполните следующую команду, чтобы установить \"ipykernel\" в среде Python. \n",
      "\u001b[1;31mКоманда: \"conda install -n base ipykernel --update-deps --force-reinstall\""
     ]
    }
   ],
   "source": [
    "# Загрузим датасет ирисов\n",
    "iris = datasets.load_iris()\n",
    "X, y = iris.data, iris.target\n",
    "\n",
    "# Разделим на обучающую и тестовую выборку\n",
    "X_train, X_test, y_train, y_test = train_test_split(X, y, test_size=0.3, random_state=22)\n",
    "\n",
    "# Создадим и обучим модель k-NN\n",
    "clf = KNN(k=3)\n",
    "clf.fit(X_train, y_train)\n",
    "predictions = clf.predict(X_test)\n",
    "\n",
    "# Оценим точность модели\n",
    "accuracy = np.mean(predictions == y_test)\n",
    "print(f\"Точность: {accuracy}\")"
   ]
  },
  {
   "cell_type": "markdown",
   "id": "50f47abf",
   "metadata": {},
   "source": [
    "### Задача2(1 балл)\n",
    "\n",
    "1. Используя модель, приведённую выше, реализуйте k-nn с ***метрикой манхэттен***.\n",
    "2. Постройте график зависимости точности алгоритма от числа соседей(k = 1, 2 ... 10)."
   ]
  },
  {
   "cell_type": "code",
   "execution_count": null,
   "id": "e0168f29",
   "metadata": {},
   "outputs": [
    {
     "ename": "",
     "evalue": "",
     "output_type": "error",
     "traceback": [
      "\u001b[1;31mДля выполнения ячеек с \"base\" требуется пакет ipykernel.\n",
      "\u001b[1;31mВыполните следующую команду, чтобы установить \"ipykernel\" в среде Python. \n",
      "\u001b[1;31mКоманда: \"conda install -n base ipykernel --update-deps --force-reinstall\""
     ]
    }
   ],
   "source": [
    "import numpy as np\n",
    "\n",
    "# Функция для вычисления Манхэттенского расстояния между точками\n",
    "def manhattan_distance(x1, x2):\n",
    "    return np.sum(np.abs(x1 - x2))\n",
    "\n",
    "# Класс, представляющий алгоритм k-NN с метрикой Манхэттен\n",
    "class KNN:\n",
    "    def __init__(self, k=3, distance_func=manhattan_distance):\n",
    "        self.k = k\n",
    "        self.distance_func = distance_func\n",
    "\n",
    "    def fit(self, X, y):\n",
    "        self.X_train = X\n",
    "        self.y_train = y\n",
    "\n",
    "    def predict(self, X):\n",
    "        y_pred = [self._predict(x) for x in X]\n",
    "        return np.array(y_pred)\n",
    "\n",
    "    def _predict(self, x):\n",
    "        distances = [self.distance_func(x, x_train) for x_train in self.X_train]\n",
    "        k_indices = np.argsort(distances)[:self.k]\n",
    "        k_nearest_labels = [self.y_train[i] for i in k_indices]\n",
    "        most_common = np.bincount(k_nearest_labels).argmax()\n",
    "        return most_common\n"
   ]
  },
  {
   "cell_type": "code",
   "execution_count": null,
   "id": "100e4805",
   "metadata": {},
   "outputs": [
    {
     "ename": "",
     "evalue": "",
     "output_type": "error",
     "traceback": [
      "\u001b[1;31mДля выполнения ячеек с \"base\" требуется пакет ipykernel.\n",
      "\u001b[1;31mВыполните следующую команду, чтобы установить \"ipykernel\" в среде Python. \n",
      "\u001b[1;31mКоманда: \"conda install -n base ipykernel --update-deps --force-reinstall\""
     ]
    }
   ],
   "source": [
    "import numpy as np\n",
    "from sklearn import datasets\n",
    "from sklearn.model_selection import train_test_split\n",
    "import matplotlib.pyplot as plt\n",
    "\n",
    "# Функция для вычисления Манхэттенского расстояния между точками\n",
    "def manhattan_distance(x1, x2):\n",
    "    return np.sum(np.abs(x1 - x2))\n",
    "\n",
    "# Весь код здесь для класса KNN...\n",
    "\n",
    "# Загрузим датасет ирисов\n",
    "iris = datasets.load_iris()\n",
    "X, y = iris.data, iris.target\n",
    "\n",
    "# Разделим на обучающую и тестовую выборку\n",
    "X_train, X_test, y_train, y_test = train_test_split(X, y, test_size=0.3, random_state=22)\n",
    "\n",
    "accuracies = []\n",
    "\n",
    "# Проверим точность для разных значений k\n",
    "for k in range(1, 11):\n",
    "    # Создаем и обучаем модель k-NN с метрикой Манхэттен\n",
    "    clf = KNN(k=k, distance_func=manhattan_distance)\n",
    "    clf.fit(X_train, y_train)\n",
    "    predictions = clf.predict(X_test)\n",
    "    \n",
    "    # Оценим точность модели\n",
    "    accuracy = np.mean(predictions == y_test)\n",
    "    accuracies.append(accuracy)\n",
    "    \n",
    "# Строим график зависимости точности от k\n",
    "plt.plot(range(1, 11), accuracies, marker='o')\n",
    "plt.title('Accuracy vs. Number of Neighbors (k)')\n",
    "plt.xlabel('Number of Neighbors (k)')\n",
    "plt.ylabel('Accuracy')\n",
    "plt.xticks(range(1, 11))\n",
    "plt.show()\n"
   ]
  },
  {
   "cell_type": "markdown",
   "id": "b75215a8",
   "metadata": {},
   "source": [
    "## 2.2 Взвешенный k-nn "
   ]
  },
  {
   "cell_type": "markdown",
   "id": "b620a07b",
   "metadata": {},
   "source": [
    "У нашего алгоритма есть недостаток: он ***никак не учитывает*** расстояния до соседних объектов. Однако данная информация зачастую может быть важна. Этот недостаток устраняет взвешенный k-NN.\n",
    "\n",
    "Принцип работы ***взвешенного алгоритма k-NN*** следующий:\n",
    "\n",
    "1. Вычисление расстояния: для каждого объекта тестовой выборки вычисляются расстояния до всех объектов обучающей выборки (обычно используется евклидово расстояние, но могут быть использованы и другие метрики, такие как манхэттенское расстояние, косинусное расстояние и т. д.).\n",
    "\n",
    "2. Нахождение k ближайших соседей: выбираются k обучающих объектов с наименьшими расстояниями до данного тестового объекта.\n",
    "\n",
    "3. ***Присвоение весов***: каждому из ближайших соседей присваивается вес, который обратно пропорционален расстоянию до него. Чем меньше расстояние, тем больший вес получает сосед. Обычно используется функция, которая дает больший вес ближайшим соседям и меньший вес более отдаленным.\n",
    "\n",
    "4. Прогнозирование класса: после вычисления весов каждого из соседей, для прогнозирования класса тестового объекта используется взвешенное голосование с учетом весов. То есть, каждый сосед голосует за свой класс, причем его голос взвешивается соответственно весу этого соседа. Итоговый класс определяется классом, получившим наибольшую сумму взвешенных голосов.\n",
    "\n",
    "Рассмотрим пункт 3-4 более подробно. \n",
    "\n",
    "Пусть у нас имеется k ближайщих соседей. Самый близкий будет иметь номер 1, самый дальний номер k. Введём для каждого соседа вес - $w_i$, который зависит от номера соседа. \n",
    "\n",
    "При этом, наиболее распространённый выбор $w_i$:\n",
    "\n",
    "* $w_i = \\frac{k - i + 1}{k}$ - линейные веса \n",
    "\n",
    "* $w_i = q^i$, $0 < q < 1$ - экспоненциальные веса \n",
    "\n",
    "Тогда класс объекта $u$ будет вычисляться по формуле: $a(u) = argmax( \\sum_{i = 1}^k w_i I(y_i = y))$\n",
    "\n",
    "где $y_i$ - класс объекта $x_i$, а $I$ - функция принимающая значение 1 в случае верности тождества в скобках и 0 в других случаях.  \n",
    "\n",
    "Таким образом нам нужно найти такое значение $y$ при котором выражение $a(u)$ будет максимальным. То есть теперь мы выбираем класс объекта не путем простого большинства среди соседей, а путем большинства среди соседей с ***некоторыми весами***. "
   ]
  },
  {
   "cell_type": "markdown",
   "id": "4f29779f",
   "metadata": {},
   "source": [
    "### Задача 3(2 балла)\n",
    "\n",
    "1. Реализуйте взвешенный k-nn.  \n",
    "2. Рассчитайте точность работы алгоритма. "
   ]
  },
  {
   "cell_type": "code",
   "execution_count": null,
   "id": "4c106a13",
   "metadata": {},
   "outputs": [
    {
     "ename": "",
     "evalue": "",
     "output_type": "error",
     "traceback": [
      "\u001b[1;31mДля выполнения ячеек с \"base\" требуется пакет ipykernel.\n",
      "\u001b[1;31mВыполните следующую команду, чтобы установить \"ipykernel\" в среде Python. \n",
      "\u001b[1;31mКоманда: \"conda install -n base ipykernel --update-deps --force-reinstall\""
     ]
    }
   ],
   "source": [
    "import numpy as np\n",
    "from sklearn import datasets\n",
    "from sklearn.model_selection import train_test_split\n",
    "\n",
    "# Загружаем датасет\n",
    "iris = datasets.load_iris()\n",
    "X, y = iris.data, iris.target\n",
    "\n",
    "# Разделим на обучающую и тестовую выборку\n",
    "X_train, X_test, y_train, y_test = train_test_split(X, y, test_size=0.3, random_state=22)\n",
    "\n",
    "class KNN_Weighted:\n",
    "    def __init__(self, k=3):\n",
    "        self.k = k\n",
    "\n",
    "    def fit(self, X, y):\n",
    "        self.X_train = X\n",
    "        self.y_train = y\n",
    "\n",
    "    def predict(self, X):\n",
    "        y_pred = [self._predict(x) for x in X]\n",
    "        return np.array(y_pred)\n",
    "\n",
    "    def _predict(self, x):\n",
    "        # Вычисляем расстояния от x до всех точек в обучающем наборе\n",
    "        distances = [euclidean_distance(x, x_train) for x_train in self.X_train]\n",
    "\n",
    "        # Получаем индексы отсортированных элементов (от меньшего к большему)\n",
    "        k_indices = np.argsort(distances)[:self.k]\n",
    "\n",
    "        # Получаем k ближайших меток\n",
    "        k_nearest_labels = [self.y_train[i] for i in k_indices]\n",
    "\n",
    "        # Вычисляем веса для k ближайших соседей (обратно пропорциональные расстояниям)\n",
    "        weights = [1 / distances[i] if distances[i] != 0 else float('inf') for i in k_indices]\n",
    "\n",
    "        # Считаем взвешенную сумму меток для прогнозируемого значения\n",
    "        label_weights = np.bincount(k_nearest_labels, weights=weights)\n",
    "\n",
    "        # Возвращаем метку с наибольшим весом\n",
    "        return np.argmax(label_weights)\n",
    "\n",
    "# Обучение модели\n",
    "k = 3 # Вы можете экспериментировать с разным числом k\n",
    "clf_weighted = KNN_Weighted(k=k)\n",
    "clf_weighted.fit(X_train, y_train)\n",
    "\n",
    "# Предсказание меток для тестового набора данных\n",
    "predictions_weighted = clf_weighted.predict(X_test)\n",
    "\n",
    "# Точность модели\n",
    "accuracy_weighted = np.mean(predictions_weighted == y_test)\n",
    "print(f'Точность взвешенного KNN: {accuracy_weighted}')"
   ]
  },
  {
   "cell_type": "markdown",
   "id": "bf1b2e5f",
   "metadata": {},
   "source": [
    "## 2.3 k-NN в sсikit-learn"
   ]
  },
  {
   "cell_type": "markdown",
   "id": "de8e6101",
   "metadata": {},
   "source": [
    "Конечно же k-NN реализован в sсikit-learn и представлен классом `KNeighborsClassifier` в модуле `neighbors`. Вот основные гиперпараметры этого классификатора:\n",
    "\n",
    "1. `n_neighbors`: Число соседей, которые используются для классификации каждого образца. Это, вероятно, самый важный гиперпараметр в классификаторе k-NN.\n",
    "\n",
    "2. `weights`: Этот параметр позволяет задать веса, используемые для голосования среди соседей. Возможные значения:\n",
    "- `uniform`: все соседи вносят одинаковый вклад в голосование.\n",
    "- `distance`: вес каждого соседа зависит от расстояния, то есть ближайшие соседи имеют больший вес.\n",
    "\n",
    "3. `p`: Параметр метрики расстояния. По умолчанию, p=2, что соответствует евклидовой метрике. Однако можно установить p=1, чтобы использовать манхэттенскую метрику.\n",
    "\n",
    "4. `metric`: Метрика расстояния. По умолчанию используется метрика Минковского, которая имеет параметр p. Однако можно также указать другие метрики, такие как косинусное расстояние, Жаккарда и другие."
   ]
  },
  {
   "cell_type": "code",
   "execution_count": null,
   "id": "8ac9c007",
   "metadata": {},
   "outputs": [
    {
     "ename": "",
     "evalue": "",
     "output_type": "error",
     "traceback": [
      "\u001b[1;31mДля выполнения ячеек с \"base\" требуется пакет ipykernel.\n",
      "\u001b[1;31mВыполните следующую команду, чтобы установить \"ipykernel\" в среде Python. \n",
      "\u001b[1;31mКоманда: \"conda install -n base ipykernel --update-deps --force-reinstall\""
     ]
    }
   ],
   "source": [
    "# Загружаем датасет ирисах Фишера\n",
    "iris = load_iris()\n",
    "X = iris.data\n",
    "y = iris.target\n",
    "\n",
    "# Разделяем на обучающую и тестовую выборку\n",
    "X_train, X_test, y_train, y_test = train_test_split(X, y, test_size=0.3, random_state=22)\n",
    "\n",
    "# Создаем объект классификатора k-ближайших соседей\n",
    "knn = KNeighborsClassifier(n_neighbors=5)\n",
    "\n",
    "# Обучаем модель на обучающих данных\n",
    "knn.fit(X_train, y_train)\n",
    "\n",
    "# Делаем предсказания на тестовых данных\n",
    "y_pred = knn.predict(X_test)\n",
    "\n",
    "# Оцениваем точность модели\n",
    "accuracy = accuracy_score(y_test, y_pred)\n",
    "print(\"Точность модели k-ближайших соседей на датасете:\", accuracy)"
   ]
  },
  {
   "cell_type": "markdown",
   "id": "a3dd00e7",
   "metadata": {},
   "source": [
    "### Задача 4(2 балла)\n",
    "\n",
    "1. Загрузите датасет 'breast_cancer' и отнормируйте данные.\n",
    "2. Постройте графики зависимости точности алгоритма от числа ближайщих соседей(k = 1,2...10).\n",
    "3. Найдите какое значение параметра weights даёт лучший результат при k = 5.\n",
    "4. Найдите какое значение параметра metric даёт лучший результат при k = 5.\n",
    "5. Найдите тройку k, weights, metric дающую лучшую точность. \n",
    "\n",
    "***Используйте разбиение X_train, X_test, y_train, y_test = train_test_split(X, y, test_size=0.3, random_state=22)!***"
   ]
  },
  {
   "cell_type": "markdown",
   "id": "905ba908",
   "metadata": {},
   "source": [
    "Набор данных о раке груди, доступный в библиотеке scikit-learn, содержит информацию о различных признаках изображений, полученных с помощью цифровой маммографии. Эти признаки были извлечены из изображений и могут быть использованы для диагностики рака груди. Вот некоторые из ключевых признаков в этом наборе данных:\n",
    "\n",
    "1. Радиус (среднее расстояние от центра до периферии)\n",
    "2. Текстура (стандартное отклонение значений шкал серого цвета)\n",
    "3. Площадь\n",
    "4. Гладкость (локальные вариации по длине радиуса)\n",
    "5. Периметр\n",
    "6. Площадь"
   ]
  },
  {
   "cell_type": "code",
   "execution_count": null,
   "id": "c3497bde",
   "metadata": {},
   "outputs": [
    {
     "ename": "",
     "evalue": "",
     "output_type": "error",
     "traceback": [
      "\u001b[1;31mДля выполнения ячеек с \"base\" требуется пакет ipykernel.\n",
      "\u001b[1;31mВыполните следующую команду, чтобы установить \"ipykernel\" в среде Python. \n",
      "\u001b[1;31mКоманда: \"conda install -n base ipykernel --update-deps --force-reinstall\""
     ]
    }
   ],
   "source": [
    "from sklearn.datasets import load_breast_cancer\n",
    "from sklearn.model_selection import train_test_split\n",
    "from sklearn.preprocessing import StandardScaler\n",
    "\n",
    "# Загружаем датасет о раке груди\n",
    "cancer = load_breast_cancer()\n",
    "X = cancer.data\n",
    "y = cancer.target\n",
    "\n",
    "# Нормирование данных\n",
    "scaler = StandardScaler()\n",
    "X_scaled = scaler.fit_transform(X)\n",
    "\n",
    "# Разбиение на тренировочные и тестовые данные\n",
    "X_train, X_test, y_train, y_test = train_test_split(X_scaled, y, test_size=0.3, random_state=22)\n",
    "from sklearn.neighbors import KNeighborsClassifier\n",
    "from sklearn.metrics import accuracy_score\n",
    "import matplotlib.pyplot as plt\n",
    "\n",
    "# Список для хранения точности\n",
    "accuracies = []\n",
    "\n",
    "# Итерация по числу соседей от 1 до 10\n",
    "for k in range(1, 11):\n",
    "    classifier = KNeighborsClassifier(n_neighbors=k)\n",
    "    classifier.fit(X_train, y_train)\n",
    "    y_pred = classifier.predict(X_test)\n",
    "    accuracy = accuracy_score(y_test, y_pred)\n",
    "    accuracies.append(accuracy)\n",
    "\n",
    "# Построение графика\n",
    "plt.plot(range(1, 11), accuracies, marker='o')\n",
    "plt.xlabel('Число ближайших соседей (k)')\n",
    "plt.ylabel('Точность')\n",
    "plt.title('Зависимость точности от k')\n",
    "plt.xticks(range(1, 11))\n",
    "plt.grid(True)\n",
    "plt.show()\n",
    "# Список для хранения точности для разных значений параметра weights\n",
    "weights_options = ['uniform', 'distance']\n",
    "best_weight_acc = 0\n",
    "best_weight = ''\n",
    "\n",
    "# Итерация по значениям параметра weights\n",
    "for weight in weights_options:\n",
    "    classifier = KNeighborsClassifier(n_neighbors=5, weights=weight)\n",
    "    classifier.fit(X_train, y_train)\n",
    "    y_pred = classifier.predict(X_test)\n",
    "    accuracy = accuracy_score(y_test, y_pred)\n",
    "    if accuracy > best_weight_acc:\n",
    "        best_weight_acc = accuracy\n",
    "        best_weight = weight\n",
    "\n",
    "print(f'Лучшее значение weights: {best_weight} с точностью: {best_weight_acc}')\n",
    "# Список для хранения точности для разных значений параметра metric\n",
    "metrics_options = ['euclidean', 'manhattan', 'chebyshev', 'minkowski']\n",
    "best_metric_acc = 0\n",
    "best_metric = ''\n",
    "\n",
    "# Итерация по значениям параметра metric\n",
    "for metric in metrics_options:\n",
    "    classifier = KNeighborsClassifier(n_neighbors=5, metric=metric)\n",
    "    classifier.fit(X_train, y_train)\n",
    "    y_pred = classifier.predict(X_test)\n",
    "    accuracy = accuracy_score(y_test, y_pred)\n",
    "    if accuracy > best_metric_acc:\n",
    "        best_metric_acc = accuracy\n",
    "        best_metric = metric\n",
    "\n",
    "print(f'Лучшее значение metric: {best_metric} с точностью: {best_metric_acc}')\n",
    "# Поиск лучшей тройки (k, weights, metric)\n",
    "best_overall_acc = 0\n",
    "best_overall_k = 0\n",
    "best_overall_weight = ''\n",
    "best_overall_metric = ''\n",
    "\n",
    "for k in range(1, 11):\n",
    "    for weight in weights_options:\n",
    "        for metric in metrics_options:\n",
    "            classifier = KNeighborsClassifier(n_neighbors=k, weights=weight, metric=metric)\n",
    "            classifier.fit(X_train, y_train)\n",
    "            y_pred = classifier.predict(X_test)\n",
    "            accuracy = accuracy_score(y_test, y_pred)\n",
    "            if accuracy > best_overall_acc:\n",
    "                best_overall_acc = accuracy\n",
    "                best_overall_k = k\n",
    "                best_overall_weight = weight\n",
    "                best_overall_metric = metric\n",
    "\n",
    "print(f'Лучшее значение тройки (k, weights, metric): {best_overall_k}, {best_overall_weight}, {best_overall_metric} с точностью: {best_overall_acc}')\n"
   ]
  },
  {
   "cell_type": "markdown",
   "id": "22cea264",
   "metadata": {},
   "source": [
    "### 2.4 Ядра и метод потенциальных функций"
   ]
  },
  {
   "cell_type": "markdown",
   "id": "f02315cc",
   "metadata": {},
   "source": [
    "До сих пор мы использовали веса, зависящие от номера соседа, но напрямую не зависящие от расстояния до него.\n",
    "\n",
    "Пусть есть объект $x$, который мы хотим классифицировать. Введём $w_i(x) = K(\\frac{r(x_i,x)}{h})$, где r$(x_i,x)$ - расстояние между между $x$ и его i-соседом.  \n",
    "\n",
    "$K(r)$ - ядро, не возрастает и положительно на $[0;1]$, h - ширина окна. \n",
    "\n",
    "На практике в качестве $К(r)$ используют:\n",
    "\n",
    "* $K(r) = \\frac{1}{2}I(|x| <= 1)$ - ***прямоугольное ядро***\n",
    "* $K(r) = \\frac{1}{\\sqrt(2\\pi))}e^{-2x^2}$ - ***гауссово ядро***\n",
    "\n",
    "***Метод потенциальных функций***\n",
    "\n",
    "Возьмём в качестве веса $w_i = q^i K(\\frac{r(x_i, x)}{h_i})$. Здесь есть ***прямая аналогия с физикой***.\n",
    "\n",
    "* $q^i$ - величина заряда в точке $x_i$\n",
    "* $h_i$ - радиус действия потенциала с центром в точке $h$\n",
    "* $K(r) = \\frac{1}{r}$"
   ]
  },
  {
   "cell_type": "markdown",
   "id": "3c5c8f60",
   "metadata": {},
   "source": [
    "### Задача 5(3 балла)\n",
    "\n",
    "1. Реализуйте метод потенциальных функций для датасета, сгенерированого ниже. \n",
    "2. Веса может взять равными 1.\n",
    "3. $h = 1$. \n",
    "4. $K(r) = \\frac{1}{r}$."
   ]
  },
  {
   "cell_type": "code",
   "execution_count": null,
   "id": "fff49285",
   "metadata": {
    "scrolled": true
   },
   "outputs": [
    {
     "ename": "",
     "evalue": "",
     "output_type": "error",
     "traceback": [
      "\u001b[1;31mДля выполнения ячеек с \"base\" требуется пакет ipykernel.\n",
      "\u001b[1;31mВыполните следующую команду, чтобы установить \"ipykernel\" в среде Python. \n",
      "\u001b[1;31mКоманда: \"conda install -n base ipykernel --update-deps --force-reinstall\""
     ]
    }
   ],
   "source": [
    "# Создание синтетического датасета\n",
    "X, y = make_circles(n_samples=200, factor=0.9, noise=0.01, random_state=42)\n",
    "\n",
    "# Визуализация датасета\n",
    "plt.scatter(X[y==0, 0], X[y==0, 1], c='green', label='Класс 0')\n",
    "plt.scatter(X[y==1, 0], X[y==1, 1], c='skyblue', label='Класс 1')\n",
    "plt.xlabel('Признак 1')\n",
    "plt.ylabel('Признак 2')\n",
    "plt.legend()\n",
    "plt.show()"
   ]
  },
  {
   "cell_type": "code",
   "execution_count": null,
   "id": "22507036",
   "metadata": {},
   "outputs": [
    {
     "ename": "",
     "evalue": "",
     "output_type": "error",
     "traceback": [
      "\u001b[1;31mДля выполнения ячеек с \"base\" требуется пакет ipykernel.\n",
      "\u001b[1;31mВыполните следующую команду, чтобы установить \"ipykernel\" в среде Python. \n",
      "\u001b[1;31mКоманда: \"conda install -n base ipykernel --update-deps --force-reinstall\""
     ]
    }
   ],
   "source": [
    "import numpy as np\n",
    "\n",
    "# Классификатор метода потенциальных функций\n",
    "class PotentialFunctionKNN:\n",
    "    def __init__(self, k, potential_function):\n",
    "        self.k = k\n",
    "        self.potential_function = potential_function\n",
    "        self.X_train = None\n",
    "        self.y_train = None\n",
    "\n",
    "    def fit(self, X, y):\n",
    "        self.X_train = X\n",
    "        self.y_train = y\n",
    "        # Веса равные 1\n",
    "        self.weights = np.ones(len(y))\n",
    "\n",
    "    def predict(self, X):\n",
    "        y_pred = [self._predict(x) for x in X]\n",
    "        return np.array(y_pred)\n",
    "\n",
    "    def _predict(self, x):\n",
    "        # Вычисляем потенциал для точки x относительно всех тренировочных точек\n",
    "        potential = np.array([self.potential_function(x, x_train) for x_train in self.X_train])\n",
    "        \n",
    "        # Умножаем потенциалы на веса соответствующих точек\n",
    "        weights_by_class = np.zeros(len(np.unique(self.y_train)))\n",
    "        for i, w in enumerate(potential):\n",
    "            weights_by_class[self.y_train[i]] += w * self.weights[i]\n",
    "        \n",
    "        return np.argmax(weights_by_class)\n",
    "\n",
    "# Функция потенциала\n",
    "def potential_function(x, x_train, h=1):\n",
    "    r = np.sqrt(np.sum((x - x_train) ** 2))\n",
    "    return 1 / (r / h) if r != 0 else float('inf')\n",
    "\n",
    "# Разделение на обучающий и тестовый наборы\n",
    "X_train, X_test, y_train, y_test = train_test_split(X, y, test_size=0.3, random_state=22)\n",
    "\n",
    "# Создание экземпляра классификатора и применение к данным\n",
    "k = 5  # Вы можете экспериментировать с различным числом k\n",
    "clf = PotentialFunctionKNN(k=k, potential_function=potential_function)\n",
    "clf.fit(X_train, y_train)\n",
    "y_pred = clf.predict(X_test)\n",
    "\n",
    "# Оценка точности\n",
    "accuracy = np.mean(y_pred == y_test)\n",
    "print(f'Точность классификатора метода потенциальных функций: {accuracy:.2f}')\n"
   ]
  },
  {
   "cell_type": "markdown",
   "id": "eb11dddc",
   "metadata": {},
   "source": [
    "## 3. Итоги"
   ]
  },
  {
   "cell_type": "markdown",
   "id": "e93edb4f",
   "metadata": {},
   "source": [
    "Классификация k-ближайших соседей (k-NN) - это простой метод машинного обучения. Вот несколько его плюсов и минусов:\n",
    "\n",
    "***Плюсы***:\n",
    "1. Простота и интуитивная понятность: k-NN легко понять и реализовать. Он не имеет сложных гиперпараметров, обучение модели сводится к хранению обучающего набора данных.\n",
    "2. Нет обучения: k-NN - ленивый алгоритм, что означает, что нет фазы обучения. Это позволяет быстро адаптироваться к новым данным.\n",
    "3. Хорошо работает для простых задач: на небольших наборах данных с небольшим количеством признаков k-NN может дать неплохие результаты.\n",
    "\n",
    "***Минусы***:\n",
    "1. Высокие вычислительные затраты на предсказание: при больших объемах данных k-NN может быть медленным, так как для предсказания класса необходимо вычислить расстояние до всех обучающих примеров.\n",
    "2. Чувствительность к выбору параметра k: выбор значения k (количества соседей) может сильно влиять на результаты классификации.\n",
    "3. Неэффективен для данных с большим количеством признаков: при большом количестве признаков, особенно если они не нормализованы, алгоритм может работать менее эффективно из-за \"проклятия размерности\".\n",
    "4. Нет понимания глубины признаков: k-NN не учитывает важность признаков и не выявляет глубинные закономерности в данных.\n",
    "\n",
    "Несмотря на свои недостатки, k-NN может быть полезным методом в некоторых случаях, особенно при работе с небольшими объемами данных и простыми задачами."
   ]
  },
  {
   "cell_type": "markdown",
   "id": "49106e54",
   "metadata": {},
   "source": [
    "### Задача 6(1 балл)\n",
    "\n",
    "Приведите пример, когда метод k-NN может давать плохие результаты. Почему?"
   ]
  },
  {
   "cell_type": "markdown",
   "id": "7d62c8ca",
   "metadata": {},
   "source": [
    "Метод k-NN может давать плохие результаты в следующих ситуациях:\n",
    "\n",
    "1. Высокая размерность данных («проклятие размерности»): В пространствах с высокой размерностью точки могут оказаться равноудаленными друг от друга, что затрудняет идентификацию близких соседей. \n",
    "2. Неравномерное распределение классов: Если один класс имеет значительно больше примеров, чем другой, k-NN может быть смещён в сторону преобладающего класса.\n",
    "3. Шумные данные и выбросы: k-NN очень чувствителен к шумным данным и выбросам, поскольку они могут сильно повлиять на расчет расстояния между точками.\n",
    "4. Некорректно выбранное значение k: Слишком маленькое значение k может привести к переобучению, а слишком большое - к тому, что классификация будет основана на слишком обширном округе рассматриваемых точек.\n",
    "5. Зависимые признаки: Если признаки высоко скоррелированы, может быть трудно выявить настоящие закономерности в данных.\n",
    "6. Неправильно масштабированные признаки: Поскольку k-NN использует метрики расстояния для нахождения ближайших соседей, разный масштаб признаков может привести к доминированию некоторых признаков над другими. \n",
    "\n",
    "Во всех этих случаях подход k-NN может испытывать трудности с классификацией и, как результат, давать плохие результаты."
   ]
  }
 ],
 "metadata": {
  "kernelspec": {
   "display_name": "Python 3 (ipykernel)",
   "language": "python",
   "name": "python3"
  },
  "language_info": {
   "codemirror_mode": {
    "name": "ipython",
    "version": 3
   },
   "file_extension": ".py",
   "mimetype": "text/x-python",
   "name": "python",
   "nbconvert_exporter": "python",
   "pygments_lexer": "ipython3",
   "version": "3.10.13"
  }
 },
 "nbformat": 4,
 "nbformat_minor": 5
}
