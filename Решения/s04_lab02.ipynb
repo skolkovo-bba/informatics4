{
 "cells": [
  {
   "cell_type": "markdown",
   "id": "aa138198",
   "metadata": {},
   "source": [
    "# Лабораторная работа 2"
   ]
  },
  {
   "cell_type": "code",
   "execution_count": 1,
   "id": "c2b4639b",
   "metadata": {},
   "outputs": [
    {
     "ename": "ImportError",
     "evalue": "\n`load_boston` has been removed from scikit-learn since version 1.2.\n\nThe Boston housing prices dataset has an ethical problem: as\ninvestigated in [1], the authors of this dataset engineered a\nnon-invertible variable \"B\" assuming that racial self-segregation had a\npositive impact on house prices [2]. Furthermore the goal of the\nresearch that led to the creation of this dataset was to study the\nimpact of air quality but it did not give adequate demonstration of the\nvalidity of this assumption.\n\nThe scikit-learn maintainers therefore strongly discourage the use of\nthis dataset unless the purpose of the code is to study and educate\nabout ethical issues in data science and machine learning.\n\nIn this special case, you can fetch the dataset from the original\nsource::\n\n    import pandas as pd\n    import numpy as np\n\n    data_url = \"http://lib.stat.cmu.edu/datasets/boston\"\n    raw_df = pd.read_csv(data_url, sep=\"\\s+\", skiprows=22, header=None)\n    data = np.hstack([raw_df.values[::2, :], raw_df.values[1::2, :2]])\n    target = raw_df.values[1::2, 2]\n\nAlternative datasets include the California housing dataset and the\nAmes housing dataset. You can load the datasets as follows::\n\n    from sklearn.datasets import fetch_california_housing\n    housing = fetch_california_housing()\n\nfor the California housing dataset and::\n\n    from sklearn.datasets import fetch_openml\n    housing = fetch_openml(name=\"house_prices\", as_frame=True)\n\nfor the Ames housing dataset.\n\n[1] M Carlisle.\n\"Racist data destruction?\"\n<https://medium.com/@docintangible/racist-data-destruction-113e3eff54a8>\n\n[2] Harrison Jr, David, and Daniel L. Rubinfeld.\n\"Hedonic housing prices and the demand for clean air.\"\nJournal of environmental economics and management 5.1 (1978): 81-102.\n<https://www.researchgate.net/publication/4974606_Hedonic_housing_prices_and_the_demand_for_clean_air>\n",
     "output_type": "error",
     "traceback": [
      "\u001b[1;31m---------------------------------------------------------------------------\u001b[0m",
      "\u001b[1;31mImportError\u001b[0m                               Traceback (most recent call last)",
      "Cell \u001b[1;32mIn[1], line 1\u001b[0m\n\u001b[1;32m----> 1\u001b[0m \u001b[38;5;28;01mfrom\u001b[39;00m \u001b[38;5;21;01msklearn\u001b[39;00m\u001b[38;5;21;01m.\u001b[39;00m\u001b[38;5;21;01mdatasets\u001b[39;00m \u001b[38;5;28;01mimport\u001b[39;00m load_boston\n\u001b[0;32m      2\u001b[0m \u001b[38;5;28;01mfrom\u001b[39;00m \u001b[38;5;21;01msklearn\u001b[39;00m\u001b[38;5;21;01m.\u001b[39;00m\u001b[38;5;21;01mmodel_selection\u001b[39;00m \u001b[38;5;28;01mimport\u001b[39;00m train_test_split\n\u001b[0;32m      3\u001b[0m \u001b[38;5;28;01mfrom\u001b[39;00m \u001b[38;5;21;01msklearn\u001b[39;00m\u001b[38;5;21;01m.\u001b[39;00m\u001b[38;5;21;01mpreprocessing\u001b[39;00m \u001b[38;5;28;01mimport\u001b[39;00m StandardScaler\n",
      "File \u001b[1;32mc:\\Users\\Dima\\AppData\\Local\\Programs\\Python\\Python310\\lib\\site-packages\\sklearn\\datasets\\__init__.py:157\u001b[0m, in \u001b[0;36m__getattr__\u001b[1;34m(name)\u001b[0m\n\u001b[0;32m    108\u001b[0m \u001b[38;5;28;01mif\u001b[39;00m name \u001b[38;5;241m==\u001b[39m \u001b[38;5;124m\"\u001b[39m\u001b[38;5;124mload_boston\u001b[39m\u001b[38;5;124m\"\u001b[39m:\n\u001b[0;32m    109\u001b[0m     msg \u001b[38;5;241m=\u001b[39m textwrap\u001b[38;5;241m.\u001b[39mdedent(\u001b[38;5;124m\"\"\"\u001b[39m\n\u001b[0;32m    110\u001b[0m \u001b[38;5;124m        `load_boston` has been removed from scikit-learn since version 1.2.\u001b[39m\n\u001b[0;32m    111\u001b[0m \n\u001b[1;32m   (...)\u001b[0m\n\u001b[0;32m    155\u001b[0m \u001b[38;5;124m        <https://www.researchgate.net/publication/4974606_Hedonic_housing_prices_and_the_demand_for_clean_air>\u001b[39m\n\u001b[0;32m    156\u001b[0m \u001b[38;5;124m        \u001b[39m\u001b[38;5;124m\"\"\"\u001b[39m)\n\u001b[1;32m--> 157\u001b[0m     \u001b[38;5;28;01mraise\u001b[39;00m \u001b[38;5;167;01mImportError\u001b[39;00m(msg)\n\u001b[0;32m    158\u001b[0m \u001b[38;5;28;01mtry\u001b[39;00m:\n\u001b[0;32m    159\u001b[0m     \u001b[38;5;28;01mreturn\u001b[39;00m \u001b[38;5;28mglobals\u001b[39m()[name]\n",
      "\u001b[1;31mImportError\u001b[0m: \n`load_boston` has been removed from scikit-learn since version 1.2.\n\nThe Boston housing prices dataset has an ethical problem: as\ninvestigated in [1], the authors of this dataset engineered a\nnon-invertible variable \"B\" assuming that racial self-segregation had a\npositive impact on house prices [2]. Furthermore the goal of the\nresearch that led to the creation of this dataset was to study the\nimpact of air quality but it did not give adequate demonstration of the\nvalidity of this assumption.\n\nThe scikit-learn maintainers therefore strongly discourage the use of\nthis dataset unless the purpose of the code is to study and educate\nabout ethical issues in data science and machine learning.\n\nIn this special case, you can fetch the dataset from the original\nsource::\n\n    import pandas as pd\n    import numpy as np\n\n    data_url = \"http://lib.stat.cmu.edu/datasets/boston\"\n    raw_df = pd.read_csv(data_url, sep=\"\\s+\", skiprows=22, header=None)\n    data = np.hstack([raw_df.values[::2, :], raw_df.values[1::2, :2]])\n    target = raw_df.values[1::2, 2]\n\nAlternative datasets include the California housing dataset and the\nAmes housing dataset. You can load the datasets as follows::\n\n    from sklearn.datasets import fetch_california_housing\n    housing = fetch_california_housing()\n\nfor the California housing dataset and::\n\n    from sklearn.datasets import fetch_openml\n    housing = fetch_openml(name=\"house_prices\", as_frame=True)\n\nfor the Ames housing dataset.\n\n[1] M Carlisle.\n\"Racist data destruction?\"\n<https://medium.com/@docintangible/racist-data-destruction-113e3eff54a8>\n\n[2] Harrison Jr, David, and Daniel L. Rubinfeld.\n\"Hedonic housing prices and the demand for clean air.\"\nJournal of environmental economics and management 5.1 (1978): 81-102.\n<https://www.researchgate.net/publication/4974606_Hedonic_housing_prices_and_the_demand_for_clean_air>\n"
     ]
    }
   ],
   "source": [
    "from sklearn.datasets import load_boston\n",
    "from sklearn.model_selection import train_test_split\n",
    "from sklearn.preprocessing import StandardScaler\n",
    "from sklearn.datasets import fetch_california_housing\n",
    "import numpy as np\n",
    "import matplotlib.pyplot as plt"
   ]
  },
  {
   "cell_type": "markdown",
   "id": "ae7a835d",
   "metadata": {},
   "source": [
    "## 1.1 Линейная регрессия"
   ]
  },
  {
   "cell_type": "markdown",
   "id": "8dca5308",
   "metadata": {},
   "source": [
    "Напомним про постановку задачи машинного обучения с учителем. \n",
    "\n",
    "Пусть \n",
    "\n",
    "* $X$ - множество объектов, или же, что более точно множество их информационных описаний\n",
    "* $Y$ - множество ответов \n",
    "* $y: X \\rightarrow Y$ - некоторая неизвестная зависимость\n",
    "\n",
    "Задача ***обучения с учителем выглядит следующим образом*** \n",
    "\n",
    "***Дано:*** \n",
    "\n",
    "$ {x_1 ... x_l} \\subset X $ - обучающая выборка \n",
    "\n",
    "$y_1 = y(x_1) ... y_l = y(x_l)$ - ответы\n",
    "\n",
    "***Требуется найти:*** \n",
    "\n",
    "$a: X \\rightarrow Y $ - алгоритм, приближающий $y$ на множестве $X$"
   ]
  },
  {
   "cell_type": "markdown",
   "id": "b8cbd441",
   "metadata": {},
   "source": [
    "В случае модели ***линейной регрессии*** имеем: \n",
    "\n",
    "* $Y = R$\n",
    "\n",
    "***Модель регрессии*** - ***линейная модель*** представляется уравнением вида $y = <w,x> + w_0$.\n",
    "\n",
    "* $x^i$ - объект, имеющий $l$ признаков. \n",
    "* $w$ - веса, $w = (w_1, ... w_l)$\n",
    "* $<w,x> = \\sum_{j=1}^{l} w_j x^{i}_j$\n",
    "* где $w_0$ - сдвиг."
   ]
  },
  {
   "cell_type": "markdown",
   "id": "968c96ab",
   "metadata": {},
   "source": [
    "Функция, оценивающая степень ошибки называется ***функцией потерь***. В случае линейной регрессии ***функцией потерь*** будет следующая функция: $$L(w) = \\sum_{i=1}^{n} (y_i - (<w,x^i> + w_0))^2$$\n",
    "\n",
    "На практике часто используется в качестве функции потерь: ***Mean Squared Error, MSE или среднеквадратическое отклонение***:\n",
    "\n",
    "$$L(w) = \\frac{1}{N}\\sum_{i=1}^{N} (y_i - (<w,x^i> + w_0))^2$$\n",
    "\n",
    "***Методом обучения*** как раз и будет метод наименьших квадратов, а именно нахождение таких значений $w$ и $w_0$, которые ***минимизируют сумму квадратов (MSE)*** между фактическими значениями $y_i$ и предсказанными значениями.\n",
    "\n",
    "$w_0$ часто опускают для упрощения задачи, добавляя ко всем $x_i$ признак тождественно равный единицы. Задача при этом не изменится. Мы далее будем делать также. "
   ]
  },
  {
   "cell_type": "markdown",
   "id": "3af72312",
   "metadata": {},
   "source": [
    "## 1.2 Поиск минимума"
   ]
  },
  {
   "cell_type": "markdown",
   "id": "734a63d8",
   "metadata": {},
   "source": [
    "Минимум можно найти различными способами:\n",
    "    \n",
    "Самый простой - ***аналитический***. Не будем перегружать эту лабораторную работу математическими выкладками. Просто поверьте, что минимум будет равен $w = (X^TX)^{-1}X^Ty$, где $X$ - матрица признаков. "
   ]
  },
  {
   "cell_type": "markdown",
   "id": "6216ebd7",
   "metadata": {},
   "source": [
    "### Задача 1(1балл)\n",
    "\n",
    "Реализуйте функцию, принимающую на вход матрицу признаков $X$ и матрицу значений $y$ и вычисляющую точное аналитическое решение для заданных $X$ и $y$.  "
   ]
  },
  {
   "cell_type": "code",
   "execution_count": 3,
   "id": "f1610f32",
   "metadata": {},
   "outputs": [
    {
     "name": "stdout",
     "output_type": "stream",
     "text": [
      "Найденные веса: [ 1.57651732 -3.12954483]\n"
     ]
    }
   ],
   "source": [
    "import numpy as np\n",
    "\n",
    "def solution(X, y):\n",
    "    \"\"\"\n",
    "    Вычисляет аналитическое решение линейной регрессии.\n",
    "    \n",
    "    Аргументы:\n",
    "    X -- матрица признаков размерности (n_samples, n_features)\n",
    "    y -- вектор целевых значений размерности (n_samples,)\n",
    "    \n",
    "    Возвращает:\n",
    "    w -- вектор весов размерности (n_features,)\n",
    "    \"\"\"\n",
    "    # ВЫЧИСЛИМ (X^T * X)\n",
    "    XT_X = np.dot(X.T, X)\n",
    "    \n",
    "    # НАХОДИМ ОБРАТНУЮ МАТРИЦУ ДЛЯ (X^T * X)\n",
    "    try:\n",
    "        XT_X_inv = np.linalg.inv(XT_X)\n",
    "    except np.linalg.LinAlgError:\n",
    "        raise ValueError(\"Матрица X^T * X необратима.\")\n",
    "    \n",
    "    # НАХОДИМ ПРОИЗВЕДЕНИЕ ОБРАТНОЙ МАТРИЦЫ НА X^T\n",
    "    XT_X_inv_XT = np.dot(XT_X_inv, X.T)\n",
    "    \n",
    "    # ВЫЧИСЛЯЕМ ВЕКТОР ВЕСОВ\n",
    "    w = np.dot(XT_X_inv_XT, y)\n",
    "    \n",
    "    return w\n",
    "\n",
    "\n",
    "import numpy as np\n",
    "\n",
    "# Создание примера данных\n",
    "np.random.seed(42)  # Для воспроизводимости результатов\n",
    "\n",
    "# Сгенерируем примерные данные (100 примеров, 2 признака)\n",
    "X = np.random.rand(100, 2)\n",
    "\n",
    "# Создаем вектор целевых значений, используя произвольные веса и некоторый шум\n",
    "true_weights = np.array([1.5, -3.2])\n",
    "y = X @ true_weights + np.random.randn(100) * 0.5  # @ оператор для матричного умножения\n",
    "\n",
    "# Применение созданной функции для нахождения весов\n",
    "w = solution(X, y)\n",
    "\n",
    "print(\"Найденные веса:\", w)\n"
   ]
  },
  {
   "cell_type": "markdown",
   "id": "f13a3e8a",
   "metadata": {},
   "source": [
    "***Однако обращении матрицы — это вычислительно сложно!***. Сложность такого алгоритма $O(n^3)$, где $n$ - размерность матрицы. \n",
    "\n",
    "Кроме того, такое численное решение неустойчиво, малое смешение $y$ может привести к критическому смешению $w$. \n",
    "\n",
    "Поэтому имеет смысл рассмотреть другие методы поиска минимума - методы, основанные на градиентном спуске. "
   ]
  },
  {
   "cell_type": "markdown",
   "id": "99dc955f",
   "metadata": {},
   "source": [
    "## 1.3 Градиентный спуск."
   ]
  },
  {
   "cell_type": "markdown",
   "id": "94f1fdf1",
   "metadata": {},
   "source": [
    "Предположим, у нас есть функция потерь $L(w)$, где $w$ - это вектор параметров, который мы хотим оптимизировать. Наша цель - минимизировать эту функцию потерь путем изменения параметров $w$. Градиентный спуск осуществляет это изменение, используя градиент функции потерь.\n",
    "\n",
    "Шаги градиентного спуска выглядят следующим образом:\n",
    "\n",
    "1. Инициализируем параметры $w$ случайными значениями или нулями.\n",
    "2. Для каждой итерации $t$ обновляем параметры по формуле:\n",
    "$$w^{(t+1)} = w^{(t)} - \\alpha \\nabla J(w^{(t)})$$\n",
    "Где $\\alpha$ - это ***коэффициент обучения (learning rate)***, который определяет размер шага, а $\\nabla J(w^{(t)})$ - градиент функции потерь по параметрам $w$.\n",
    "\n",
    "Градиент вычисляется как вектор частных производных функции потерь по каждому элементу $w$, и он показывает направление наискорейшего роста функции потерь.\n",
    "\n",
    "Формула для вычисления градиента в точке $w$:\n",
    "$$\\nabla J(w) = \\left[ \\frac{\\partial J(w)}{\\partial w_1}, \\frac{\\partial J(w)}{\\partial w_2}, ..., \\frac{\\partial J(w)}{\\partial w_l} \\right]$$\n",
    "\n",
    "Где каждая частная производная $\\frac{\\partial J(w)}{\\partial w_i}$ вычисляется отдельно для каждого параметра $w_i$.\n",
    "\n",
    "После вычисления градиента мы обновляем параметры модели, вычитая градиент, умноженный на коэффициент обучения. Этот процесс повторяется до тех пор, пока изменения параметров остаются незначительными или до тех пор, пока функция потерь не минимизируется в нужной степени.\n",
    "\n",
    "Таким образом, градиентный спуск представляет собой мощный метод оптимизации, который позволяет находить оптимальные параметры модели путем минимизации функции потерь."
   ]
  },
  {
   "cell_type": "markdown",
   "id": "2d35e557",
   "metadata": {},
   "source": [
    "Запишем функцию потерь в матричном виде: $L(w,X,y) = \\frac{1}{N}||Xw - y||^2$. \n",
    "\n",
    "Тогда $\\nabla J(w) = \\frac{2}{N}X^T(Xw-y)$. "
   ]
  },
  {
   "cell_type": "code",
   "execution_count": 4,
   "id": "def1aaeb",
   "metadata": {},
   "outputs": [
    {
     "data": {
      "image/png": "[encoded data removed]",
      "text/plain": [
       "<Figure size 640x480 with 1 Axes>"
      ]
     },
     "metadata": {},
     "output_type": "display_data"
    }
   ],
   "source": [
    "# реализуем градиентный спуск для MSE\n",
    "\n",
    "def gradient_descent(X, y, w, learning_rate, number_iterations):\n",
    "    # список ошибки на каждой итерации \n",
    "    loss_iterations = []\n",
    "    N = len(y)\n",
    "    for i in range(number_iterations):\n",
    "        # вычисляем градиент\n",
    "        gradient = 2/N * X.T.dot(X.dot(w) - y)\n",
    "        # корректируем параметры\n",
    "        w = w - learning_rate * gradient\n",
    "        \n",
    "        # вычисляем функцию потерь\n",
    "        cost = np.mean((X.dot(w) - y) ** 2)\n",
    "        loss_iterations.append(cost)\n",
    "\n",
    "    return w, loss_iterations\n",
    "\n",
    "# пример использования\n",
    "# сгенерируем синтетические данные\n",
    "X = 2 * np.random.rand(100, 1)\n",
    "y = 4 + 3 * X + np.random.randn(100, 1)\n",
    "\n",
    "# добавляем столбец с единицами для коэффициента сдвига (intercept)\n",
    "X_w0 = np.c_[np.ones((100, 1)), X]\n",
    "\n",
    "# устанавливаем параметры\n",
    "w = np.random.randn(2, 1)\n",
    "learning_rate = 0.2\n",
    "number_iterations = 50\n",
    "\n",
    "# обучаем модель с использованием градиентного спуска\n",
    "w, loss_iterations = gradient_descent(X_w0, y, w, learning_rate, number_iterations)\n",
    "\n",
    "# визуализируем процесс обучения\n",
    "import matplotlib.pyplot as plt\n",
    "plt.plot(loss_iterations)\n",
    "plt.xlabel('Iterations')\n",
    "plt.ylabel('Mean Squared Error')\n",
    "plt.title('Gradient Descent Training Process')\n",
    "plt.show()"
   ]
  },
  {
   "cell_type": "markdown",
   "id": "0ab5d2d6",
   "metadata": {},
   "source": [
    "### Задача 2(2 балла)\n",
    "Датасет \"Boston House Prices\" известен как один из классических наборов данных для задач машинного обучения. Он включает информацию о различных аспектах жилых домов в пригородах Бостона. В этом наборе данных содержится 506 наблюдений и 13 признаков, используемых для прогнозирования медианной стоимости домов в тысячах долларов.\n",
    "\n",
    "1. Разделите выборку на обучающую и тестовую, в отношении 4:1. \n",
    "2. Нормализуйте данные. \n",
    "3. С помощью градиентного спуска обучите линейную модель и постройте три графика MSE от числа итераций для learning_rate = 0.05, learning_rate = 0.1, learning_rate = 0.2. "
   ]
  },
  {
   "cell_type": "code",
   "execution_count": 8,
   "id": "016b9443",
   "metadata": {},
   "outputs": [
    {
     "data": {
      "image/png": "[encoded data removed]",
      "text/plain": [
       "<Figure size 640x480 with 1 Axes>"
      ]
     },
     "metadata": {},
     "output_type": "display_data"
    }
   ],
   "source": [
    "import numpy as np\n",
    "from sklearn.datasets import fetch_california_housing\n",
    "from sklearn.model_selection import train_test_split\n",
    "from sklearn.preprocessing import StandardScaler\n",
    "import matplotlib.pyplot as plt\n",
    "\n",
    "# Загрузка набора данных\n",
    "housing = fetch_california_housing()\n",
    "X = housing.data\n",
    "y = housing.target\n",
    "\n",
    "# Разделение выборки на обучающую и тестовую, в отношении 4:1\n",
    "X_train, X_test, y_train, y_test = train_test_split(X, y, test_size=0.2, random_state=42)\n",
    "\n",
    "# Нормализация данных\n",
    "scaler = StandardScaler()\n",
    "X_train_scaled = scaler.fit_transform(X_train)\n",
    "X_test_scaled = scaler.transform(X_test)\n",
    "\n",
    "# Добавление столбца с 1 для веса b (смещение, bias)\n",
    "X_train_scaled = np.c_[np.ones(X_train_scaled.shape[0]), X_train_scaled]  \n",
    "X_test_scaled = np.c_[np.ones(X_test_scaled.shape[0]), X_test_scaled]\n",
    "\n",
    "# Функция для выполнения шага градиентного спуска\n",
    "def gradient_step(X, y, w, learning_rate):\n",
    "    # Расчет градиентов\n",
    "    predictions = X.dot(w)\n",
    "    error = predictions - y\n",
    "    gradient = 2 * X.T.dot(error) / len(X)\n",
    "    # Обновление весов\n",
    "    w -= learning_rate * gradient\n",
    "    return w, np.mean(error ** 2)\n",
    "\n",
    "# Функция для обучения модели на основе градиентного спуска\n",
    "def gradient_descent(X, y, learning_rate, iterations):\n",
    "    w = np.zeros(X.shape[1])\n",
    "    mse_history = []\n",
    "    for i in range(iterations):\n",
    "        w, mse = gradient_step(X, y, w, learning_rate)\n",
    "        mse_history.append(mse)\n",
    "    return w, mse_history\n",
    "\n",
    "# Параметры обучения\n",
    "learning_rates = [0.05, 0.1, 0.2]\n",
    "iterations = 100\n",
    "\n",
    "# Проведение обучения и наблюдение за MSE\n",
    "for lr in learning_rates:\n",
    "    _, mse_history = gradient_descent(X_train_scaled, y_train, lr, iterations)\n",
    "    plt.plot(mse_history, label=f'LR={lr}')\n",
    "\n",
    "plt.title('MSE by Number of Iterations')\n",
    "plt.xlabel('Iterations')\n",
    "plt.ylabel('MSE')\n",
    "plt.legend()\n",
    "plt.show()\n"
   ]
  },
  {
   "cell_type": "markdown",
   "id": "9f2b2949",
   "metadata": {},
   "source": [
    "## 1.4 Стохастический градиентный спуск"
   ]
  },
  {
   "cell_type": "markdown",
   "id": "55f01e36",
   "metadata": {},
   "source": [
    "На каждом шаге градиентного спуска мы вычисляем градиент по всей выборке. Эта операция имеет сложность $O(Nl)$, где l - числа признаков, а N - число объектов. Возникает идея стохастического градиентного спуска. "
   ]
  },
  {
   "cell_type": "markdown",
   "id": "16bfc293",
   "metadata": {},
   "source": [
    "***Стохастический градиентный спуск (SGD)*** - это метод оптимизации, используемый для обучения моделей машинного обучения, таких как линейная регрессия или нейронные сети. Основная идея состоит в том, чтобы на каждом шаге обновлять параметры модели, используя градиент функции потерь на основе только одного случайно выбранного примера(или примеров) из обучающего набора. Это позволяет избежать вычислительной сложности, связанной с обработкой всего набора данных, и может привести к более быстрой сходимости.\n",
    "\n",
    "Математический процесс стохастического градиентного спуска заключается в следующих шагах:\n",
    "\n",
    "1. Выбирается случайный пример(или примеры) из обучающего набора с меткой ($x^{(i)}, y^{(i)})$.\n",
    "2. Вычисляется градиент функции потерь по параметрам модели для этого примера: $\\nabla J^{(i)}(w)$.\n",
    "3. Обновляются параметры модели $w$ в направлении, противоположном градиенту, с использованием скорости обучения $\\alpha$: $w := w - \\alpha \\nabla J^{(i)}(w)$.\n",
    "\n",
    "Этот процесс повторяется для всех примеров в обучающем наборе или до достижения критерия останова, такого как сходимость на валидационном наборе данных или заданное количество эпох (полных проходов через обучающий набор).\n",
    "\n",
    "Хотя стохастический градиентный спуск обычно обучает модели быстрее, чем обычный градиентный спуск, его использование подвержено случайности выбора примеров, что может привести к менее стабильной сходимости к оптимальному решению.\n",
    "\n",
    "***batch(батч)*** - подвыборка, по которой считается градиент в стохастическом градиентном спуске. \n",
    "\n",
    "***Эпоха*** - это один полный проход по выборке. "
   ]
  },
  {
   "cell_type": "markdown",
   "id": "0c797ea4",
   "metadata": {},
   "source": [
    "### Задача 3(3 балла)\n",
    "\n",
    "1. Реализуйте алгортим стохастического градиентного спуска. \n",
    "2. С помощью стохастического градиентного спуска обучите линейную модель и постройте три графика MSE от числа итераций для learning_rate = 0.05, learning_rate = 0.1, learning_rate = 0.2. Размер batch возьмите равным $\\frac{N}{10}$. Число эпох возьмите равным 3.  "
   ]
  },
  {
   "cell_type": "code",
   "execution_count": 9,
   "id": "891bf23e",
   "metadata": {},
   "outputs": [
    {
     "data": {
      "image/png": "[encoded data removed]",
      "text/plain": [
       "<Figure size 640x480 with 1 Axes>"
      ]
     },
     "metadata": {},
     "output_type": "display_data"
    }
   ],
   "source": [
    "import numpy as np\n",
    "from sklearn.datasets import fetch_california_housing\n",
    "from sklearn.model_selection import train_test_split\n",
    "from sklearn.preprocessing import StandardScaler\n",
    "import matplotlib.pyplot as plt\n",
    "\n",
    "# Загрузка набора данных\n",
    "housing = fetch_california_housing()\n",
    "X = housing.data\n",
    "y = housing.target\n",
    "\n",
    "# Разделение выборки на обучающую и тестовую\n",
    "X_train, X_test, y_train, y_test = train_test_split(X, y, test_size=0.2, random_state=42)\n",
    "\n",
    "# Нормализация данных\n",
    "scaler = StandardScaler()\n",
    "X_train_scaled = scaler.fit_transform(X_train)\n",
    "X_test_scaled = scaler.transform(X_test)\n",
    "\n",
    "# Добавляем столбец для веса смещения b\n",
    "X_train_scaled = np.c_[np.ones(X_train_scaled.shape[0]), X_train_scaled]  \n",
    "X_test_scaled = np.c_[np.ones(X_test_scaled.shape[0]), X_test_scaled]\n",
    "\n",
    "# Функция стохастического градиентного спуска\n",
    "def sgd(X, y, learning_rate=0.01, epochs=1, batch_size=1):\n",
    "    m, n = X.shape\n",
    "    w = np.zeros(n)\n",
    "    mse_history = []\n",
    "    \n",
    "    for epoch in range(epochs):\n",
    "        indices = np.arange(m)\n",
    "        np.random.shuffle(indices)\n",
    "        X = X[indices]\n",
    "        y = y[indices]\n",
    "        for i in range(0, m, batch_size):\n",
    "            xi = X[i:i+batch_size]\n",
    "            yi = y[i:i+batch_size]\n",
    "            predictions = xi.dot(w)\n",
    "            errors = predictions - yi\n",
    "            gradients = 2/batch_size * xi.T.dot(errors)\n",
    "            w -= learning_rate * gradients\n",
    "            mse = np.mean(errors ** 2)\n",
    "            mse_history.append(mse)\n",
    "    return w, mse_history\n",
    "\n",
    "# Установка параметров\n",
    "learning_rates = [0.05, 0.1, 0.2]\n",
    "epochs = 3\n",
    "batch_size = len(X_train_scaled) // 10  # Размер батча равен N/10\n",
    "\n",
    "# Запуск стохастического градиентного спуска с различными learning rates\n",
    "for lr in learning_rates:\n",
    "    _, mse_history = sgd(X_train_scaled, y_train, learning_rate=lr, epochs=epochs, batch_size=batch_size)\n",
    "    plt.plot(mse_history, label='LR={}'.format(lr))\n",
    "\n",
    "plt.title('SGD: MSE by Number of Iterations')\n",
    "plt.xlabel('Iterations')\n",
    "plt.ylabel('MSE')\n",
    "plt.legend()\n",
    "plt.show()"
   ]
  },
  {
   "cell_type": "markdown",
   "id": "1edf1b63",
   "metadata": {},
   "source": [
    "## 2 Линейный классификатор "
   ]
  },
  {
   "cell_type": "markdown",
   "id": "268437dd",
   "metadata": {},
   "source": [
    "Линейный классификатор - это модель машинного обучения, используемая для разделения двух классов данных, обычно в предположении, что классы линейно разделимы. Математически, линейный классификатор представляет собой гиперплоскость, которая разделяет объекты одного класса от объектов другого класса в пространстве функций признаков.\n",
    "\n",
    "Предположим, что у нас есть набор обучающих данных, каждый из которых представлен вектором признаков x и меткой класса y. Линейный классификатор моделирует прогноз для метки класса y как взвешенную комбинацию входных признаков с добавленным смещением (bias), и затем применяет функцию активации для преобразования этой комбинации в прогноз класса.\n",
    "\n",
    "Предположим, что у нас есть D-мерное пространство признаков, и мы хотим разделить два класса (+1 и -1). Линейный классификатор моделирует прогноз как:\n",
    "\n",
    "$y = sign(w^T x + b)$\n",
    "\n",
    "Линейный классификатор можно обучать с использованием различных методов, включая градиентный спуск, стохастический градиентный спуск, метод опорных векторов (SVM) и другие. Главная цель обучения линейного классификатора состоит в том, чтобы найти оптимальные веса $w$ и смещение $b$, которые минимизируют функцию потерь и обеспечивают хорошую обобщающую способность модели."
   ]
  },
  {
   "cell_type": "markdown",
   "id": "29dd45ad",
   "metadata": {},
   "source": [
    "## 3. L1 и L2 регурялизация"
   ]
  },
  {
   "cell_type": "markdown",
   "id": "c2d354e2",
   "metadata": {},
   "source": [
    "***L1 и L2 регуляризация*** - это методы добавления штрафа за сложность модели во время обучения, который помогает предотвратить переобучение. Регуляризация добавляет дополнительный член в функцию потерь модели, который зависит от весов (параметров) модели, тем самым штрафуя большие веса и предотвращая их излишнюю сложность.\n",
    "\n",
    "1. ***L1 Регуляризация***:\n",
    "Также известная как Lasso регуляризация. В L1 регуляризации дополнительный член в функции потерь представляет собой сумму абсолютных значений весов модели:\n",
    "$L1: \\lambda \\sum_{i=1}^{n} |w_i|$\n",
    "где $( \\lambda $) - коэффициент регуляризации, который контролирует величину штрафа, а $( w_i $) - веса модели.\n",
    "\n",
    "Преимуществом L1 регуляризации является ее способность к отбору признаков - некоторые веса могут быть точно нулевыми, что делает ее полезной при работе с большим количеством признаков, отбирая наиболее важные из них.\n",
    "\n",
    "2. ***L2 Регуляризация***:\n",
    "Также известная как Ridge регуляризация. В L2 регуляризации дополнительный член в функции потерь представляет собой сумму квадратов весов модели:\n",
    "$L2: \\lambda \\sum_{i=1}^{n} w_i^2$\n",
    "где $( \\lambda $) - коэффициент регуляризации, а $( w_i $) - веса модели.\n",
    "\n",
    "L2 регуляризация штрафует большие веса, но не склонна делать их точно нулевыми. Это делает ее полезной при предотвращении переобучения и улучшении обобщающей способности модели.\n",
    "\n",
    "Оба метода регуляризации (L1 и L2) могут быть использованы отдельно или совместно для улучшения стабильности и обобщающей способности моделей машинного обучения."
   ]
  },
  {
   "cell_type": "markdown",
   "id": "adfc885d",
   "metadata": {},
   "source": [
    "Рассмотрим пример регрессии-Lasso в sklearn. "
   ]
  },
  {
   "cell_type": "markdown",
   "id": "3c3ef728",
   "metadata": {},
   "source": [
    "### Задача 4(3 балла)\n",
    "\n",
    "1. Реализуйте и обучите модель Lasso и Ridge \n",
    "2. Найдите при каком значении alpha достигается лучший результат."
   ]
  },
  {
   "cell_type": "code",
   "execution_count": 10,
   "id": "e6f2fe58",
   "metadata": {},
   "outputs": [
    {
     "name": "stdout",
     "output_type": "stream",
     "text": [
      "Lasso лучшее alpha: 0.011264816923358867, Train score: 0.6070636053227159, Test score: 0.5817654259615687\n",
      "Ridge лучшее alpha: 221.22162910704503, Train score: 0.6100432406462383, Test score: 0.5788848620853491\n"
     ]
    }
   ],
   "source": [
    "# Импорт необходимых библиотек\n",
    "from sklearn.datasets import fetch_california_housing\n",
    "from sklearn.model_selection import train_test_split\n",
    "from sklearn.preprocessing import StandardScaler\n",
    "from sklearn.linear_model import Lasso, Ridge\n",
    "import numpy as np\n",
    "\n",
    "# Загрузка набора данных\n",
    "housing = fetch_california_housing()\n",
    "X = housing.data\n",
    "y = housing.target\n",
    "\n",
    "# Масштабирование признаков\n",
    "scaler = StandardScaler()\n",
    "X_scaled = scaler.fit_transform(X)\n",
    "\n",
    "# Разделение данных на обучающий и тестовый наборы\n",
    "X_train, X_test, y_train, y_test = train_test_split(X_scaled, y, test_size=0.2, random_state=42)\n",
    "\n",
    "# Подбор лучшего значения alpha для модели Lasso\n",
    "lasso_alphas = np.logspace(-4, -0.5, 30)\n",
    "best_alpha_lasso = lasso_alphas[0]\n",
    "best_score_lasso = -np.inf\n",
    "\n",
    "for alpha in lasso_alphas:\n",
    "    lasso = Lasso(alpha=alpha)\n",
    "    lasso.fit(X_train, y_train)\n",
    "    score = lasso.score(X_test, y_test)\n",
    "    if score > best_score_lasso:\n",
    "        best_alpha_lasso = alpha\n",
    "        best_score_lasso = score\n",
    "\n",
    "# Обучение модели Lasso с лучшим alpha\n",
    "lasso = Lasso(alpha=best_alpha_lasso)\n",
    "lasso.fit(X_train, y_train)\n",
    "\n",
    "# Подбор лучшего значения alpha для модели Ridge\n",
    "ridge_alphas = np.logspace(-4, 4, 30)\n",
    "best_alpha_ridge = ridge_alphas[0]\n",
    "best_score_ridge = -np.inf\n",
    "\n",
    "for alpha in ridge_alphas:\n",
    "    ridge = Ridge(alpha=alpha)\n",
    "    ridge.fit(X_train, y_train)\n",
    "    score = ridge.score(X_test, y_test)\n",
    "    if score > best_score_ridge:\n",
    "        best_alpha_ridge = alpha\n",
    "        best_score_ridge = score\n",
    "\n",
    "# Обучение модели Ridge с лучшим alpha\n",
    "ridge = Ridge(alpha=best_alpha_ridge)\n",
    "ridge.fit(X_train, y_train)\n",
    "\n",
    "# Вывод результатов\n",
    "print(f\"Lasso лучшее alpha: {best_alpha_lasso}, Train score: {lasso.score(X_train, y_train)}, Test score: {lasso.score(X_test, y_test)}\")\n",
    "print(f\"Ridge лучшее alpha: {best_alpha_ridge}, Train score: {ridge.score(X_train, y_train)}, Test score: {ridge.score(X_test, y_test)}\")\n"
   ]
  },
  {
   "cell_type": "markdown",
   "id": "c75d7733",
   "metadata": {},
   "source": [
    "В качестве метрики здесь выступает коэффециент детерминации. Подробнее можно почитать тут https://ru.wikipedia.org/wiki/Коэффициент_детерминации"
   ]
  },
  {
   "cell_type": "markdown",
   "id": "f3be488e",
   "metadata": {},
   "source": [
    "### Задача 5(1 балл)"
   ]
  },
  {
   "cell_type": "markdown",
   "id": "3a816887",
   "metadata": {},
   "source": [
    "Чтобы доказать, что аналитическое решение минимума функции потерь\n",
    "\n",
    "$$\n",
    "L(w) = \\frac{1}{N}\\sum_{i=1}^{N} (y_i - (\\langle w, x^i \\rangle + w_0))^2\n",
    "$$\n",
    "\n",
    "равно\n",
    "\n",
    "$$\n",
    "w = (X^TX)^{-1}X^Ty,\n",
    "$$\n",
    "давайте исследуем процесс шаг за шагом.\n",
    "\n",
    "Первым делом представим нашу систему в матричной форме. Здесь $X$ будет матрицей, где каждая строка $x^i$ представляет признаки $i$-го объекта, расширенного единичным элементом для учета $w_0$ в векторе $w$. Следовательно, $y$ будет вектором ответов, а $w$ — вектор параметров, включая $w_0$ как первый элемент вектора.\n",
    "\n",
    "Таким образом, наша функция потерь переписывается в матричной форме как:\n",
    "\n",
    "$$\n",
    "L(w) = \\frac{1}{N} \\|y - Xw\\|^2,\n",
    "$$\n",
    "\n",
    "где $\\|\\cdot\\|^2$ обозначает квадрат евклидовой нормы вектора.\n",
    "\n",
    "Далее, нам необходимо найти минимум этой функции по вектору $w$, то есть найти такой вектор $w$, при котором функция потерь достигает минимального значения. Для этого найдем градиент функции $L(w)$ по $w$ и приравняем его к нулю:\n",
    "\n",
    "$$\n",
    "\\frac{\\partial L(w)}{\\partial w} = -\\frac{2}{N}X^T(y - Xw) = 0.\n",
    "$$\n",
    "\n",
    "Развернем это равенство:\n",
    "\n",
    "$$\n",
    "X^Ty = X^TXw.\n",
    "$$\n",
    "\n",
    "Домножив обе части уравнения слева на обратную матрицу к $X^TX$, получаем:\n",
    "\n",
    "$$\n",
    "(X^TX)^{-1}X^Ty = w.\n",
    "$$\n",
    "\n",
    "Таким образом, мы получаем выражение для $w$:\n",
    "\n",
    "$$\n",
    "w = (X^TX)^{-1}X^Ty,\n",
    "$$\n",
    "\n",
    "что и есть аналитическое решение, минимизирующее нашу функцию потерь $L(w)$. Это решение известно как решение нормальных уравнений в контексте линейной регрессии. Однако, стоит отметить, что данное решение существует и корректно, только если матрица $X^TX$ обратима, что требует, чтобы столбцы матрицы $X$ были линейно независимы."
   ]
  }
 ],
 "metadata": {
  "kernelspec": {
   "display_name": "Python 3 (ipykernel)",
   "language": "python",
   "name": "python3"
  },
  "language_info": {
   "codemirror_mode": {
    "name": "ipython",
    "version": 3
   },
   "file_extension": ".py",
   "mimetype": "text/x-python",
   "name": "python",
   "nbconvert_exporter": "python",
   "pygments_lexer": "ipython3",
   "version": "3.11.5"
  }
 },
 "nbformat": 4,
 "nbformat_minor": 5
}
