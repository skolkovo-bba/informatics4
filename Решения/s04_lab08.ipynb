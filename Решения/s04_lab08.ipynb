{
  "cells": [
    {
      "cell_type": "markdown",
      "id": "1ec601dc",
      "metadata": {
        "id": "1ec601dc"
      },
      "source": [
        "# Лабораторная 8"
      ]
    },
    {
      "cell_type": "code",
      "execution_count": 1,
      "id": "1c7fcb03",
      "metadata": {
        "id": "1c7fcb03"
      },
      "outputs": [],
      "source": [
        "import numpy as np\n",
        "import matplotlib.pyplot as plt\n",
        "import os\n",
        "\n",
        "import torch\n",
        "import torchvision\n",
        "from torch import nn\n",
        "from torch.nn import functional as F\n",
        "from torch.utils.data import TensorDataset, DataLoader\n",
        "\n",
        "from PIL import Image\n",
        "from torchvision import transforms as tfs\n",
        "from torchvision.datasets import MNIST\n",
        "from torchvision.datasets import CIFAR10"
      ]
    },
    {
      "cell_type": "markdown",
      "id": "e4c58bf0",
      "metadata": {
        "id": "e4c58bf0"
      },
      "source": [
        "## 1. Обучение Нейронной сети"
      ]
    },
    {
      "cell_type": "markdown",
      "id": "3ca9858c",
      "metadata": {
        "id": "3ca9858c"
      },
      "source": [
        "### Градиентный спуск"
      ]
    },
    {
      "cell_type": "markdown",
      "id": "e98c5c78",
      "metadata": {
        "id": "e98c5c78"
      },
      "source": [
        "Вспомним в чём заключается суть градиентного спуска в минимизации функции потерь.\n",
        "\n",
        "Предположим, у нас есть функция потерь $L(w)$, где $w$ - это вектор параметров, который мы хотим оптимизировать. Наша цель - минимизировать эту функцию потерь путем изменения параметров $w$. Градиентный спуск осуществляет это изменение, используя градиент функции потерь.\n",
        "\n",
        "Шаги градиентного спуска выглядят следующим образом:\n",
        "\n",
        "1. Инициализируем параметры $w$ случайными значениями или нулями.\n",
        "2. Для каждой итерации $t$ обновляем параметры по формуле:\n",
        "$$w^{(t+1)} = w^{(t)} - \\alpha \\nabla L(w^{(t)})$$\n",
        "Где $\\alpha$ - это ***коэффициент обучения (learning rate)***, который определяет размер шага, а $\\nabla L(w^{(t)})$ - градиент функции потерь по параметрам $w$.\n",
        "\n",
        "Градиент вычисляется как вектор частных производных функции потерь по каждому элементу $w$, и он показывает направление наискорейшего роста функции потерь.\n",
        "\n",
        "Формула для вычисления градиента в точке $w$:\n",
        "$$\\nabla L(w) = \\left[ \\frac{\\partial L(w)}{\\partial w_1}, \\frac{\\partial L(w)}{\\partial w_2}, ..., \\frac{\\partial L(w)}{\\partial w_l} \\right]$$\n",
        "\n",
        "Где каждая частная производная $\\frac{\\partial L(w)}{\\partial w_i}$ вычисляется отдельно для каждого параметра $w_i$.\n",
        "\n",
        "После вычисления градиента мы обновляем параметры модели, вычитая градиент, умноженный на коэффициент обучения. Этот процесс повторяется до тех пор, пока изменения параметров остаются незначительными или до тех пор, пока функция потерь не минимизируется в нужной степени.\n",
        "\n",
        "Таким образом, градиентный спуск представляет собой мощный метод оптимизации, который позволяет находить оптимальные параметры модели путем минимизации функции потерь."
      ]
    },
    {
      "cell_type": "markdown",
      "id": "ee94dfb2",
      "metadata": {
        "id": "ee94dfb2"
      },
      "source": [
        "Обучение нейронной сети осуществляется с помощью обратного распространения ошибки.\n",
        "\n",
        "***Метод обратного распространения ошибки (backpropagation)*** является ключевым алгоритмом для обучения нейронных сетей. Он используется для вычисления градиента функции потерь по отношению к весам нейронной сети, что позволяет оптимизировать эти веса с использованием методов градиентного спуска или его модификаций.\n",
        "\n",
        "Алгоритм backpropagation:\n",
        "\n",
        "1. Прямое распространение (forward pass):\n",
        "Входные данные пропускаются через нейронную сеть, и каждый нейрон вычисляет своё значение активации, используя входные данные, веса и функцию активации. Значения активаций передаются от слоя к слою до получения вывода сети.\n",
        "\n",
        "2. Обратное распространение (backpropagation):\n",
        "a. Рассчитывается ошибка предсказания, выраженная функцией потерь (например, среднеквадратичная ошибка для задачи регрессии или кросс-энтропия для задачи классификации).\n",
        "b. Вычисляется градиент функции потерь по отношению к каждому весу в нейронной сети с использованием метода автоматического дифференцирования и правила цепи (chain rule) из дифференциального исчисления.\n",
        "c. Этот градиент \"пропускается\" через сеть в обратном направлении, чтобы рассчитать градиенты функции потерь по отношению к выходу каждого нейрона в скрытых слоях сети.\n",
        "\n",
        "3. Градиентный спуск (gradient descent):\n",
        "Расчитанные градиенты используются для обновления весов нейронной сети с целью минимизировать функцию потерь. Это можно делать при помощи методов градиентного спуска, таких как стохастический градиентный спуск (SGD), адаптивные методы оптимизации (например, Adam, RMSprop и т. д.)."
      ]
    },
    {
      "cell_type": "markdown",
      "id": "290f5133",
      "metadata": {
        "id": "290f5133"
      },
      "source": [
        "## 1.2 Кросс-энтропия"
      ]
    },
    {
      "cell_type": "markdown",
      "id": "4f2cab66",
      "metadata": {
        "id": "4f2cab66"
      },
      "source": [
        "Для случая ***бинарной классификации*** с двумя классами, кросс-энтропия рассчитывается следующим образом:\n",
        "\n",
        "$H(y, \\hat{y}) = - (y \\log \\hat{y} + (1 - y) \\log(1 - \\hat{y}))$\n",
        "\n",
        "где:\n",
        "- $y$ - реальное значение (0 или 1),\n",
        "- $\\hat{y}$ - предсказанная вероятность отнесения к классу 1.\n",
        "\n",
        "В случае ***многоклассовой классификации***, кросс-энтропия рассчитывается по формуле:\n",
        "\n",
        "$H(y, \\hat{y}) = - \\sum_{i} y(i) \\log \\hat{y}(i)$\n",
        "\n",
        "где:\n",
        "- $y(i)$ - индикаторная функция, равная 1, если объект относится к классу i и 0 в противном случае,\n",
        "- $\\hat{y}(i)$ - вероятность, предсказанная моделью, отнесения объекта к классу i."
      ]
    },
    {
      "cell_type": "markdown",
      "id": "28ea6449",
      "metadata": {
        "id": "28ea6449"
      },
      "source": [
        "### Задача 1(1 балл)\n",
        "\n",
        "Напишите функцию, реализующую кросс-энтропию.\n",
        "\n",
        "Чему равен градиент кросс-энтропии."
      ]
    },
    {
      "cell_type": "code",
      "source": [
        "y = [np.random.choice([0, 1]) for i in range (10)]\n",
        "yhat = [np.random.rand() for i in range (10)]\n",
        "H = 0\n",
        "for i in range (10):\n",
        "  H += - y[i] * np.log(yhat[i])\n",
        "H"
      ],
      "metadata": {
        "colab": {
          "base_uri": "https://localhost:8080/"
        },
        "id": "SC7VqE8T_7Xd",
        "outputId": "e54e2213-cfad-4e5f-c3b4-3b87b42b6daa"
      },
      "id": "SC7VqE8T_7Xd",
      "execution_count": 6,
      "outputs": [
        {
          "output_type": "execute_result",
          "data": {
            "text/plain": [
              "4.878702183912813"
            ]
          },
          "metadata": {},
          "execution_count": 6
        }
      ]
    },
    {
      "cell_type": "code",
      "execution_count": null,
      "id": "84cde321",
      "metadata": {
        "id": "84cde321"
      },
      "outputs": [],
      "source": []
    },
    {
      "cell_type": "markdown",
      "id": "88974b67",
      "metadata": {
        "id": "88974b67"
      },
      "source": [
        "## 2. Dropout"
      ]
    },
    {
      "cell_type": "markdown",
      "id": "eda25390",
      "metadata": {
        "id": "eda25390"
      },
      "source": [
        "***Dropout*** - это техника регуляризации, которая используется в нейронных сетях для предотвращения переобучения. Она заключается в том, чтобы случайным образом убирать некоторые нейроны во время обучения.\n",
        "\n",
        "Во время каждой итерации обучения случайно выбираются нейроны, которые ***будут удалены*** и не будут участвовать в обучении на данной итерации.\n",
        "\n",
        "Такой подход помогает сети избегать переобучения и улучшает ее обобщающую способность. После обучения все нейроны восстанавливаются, и в процессе тестирования сети все нейроны работают."
      ]
    },
    {
      "cell_type": "code",
      "execution_count": 7,
      "id": "853455a9",
      "metadata": {
        "colab": {
          "base_uri": "https://localhost:8080/"
        },
        "id": "853455a9",
        "outputId": "eb226e16-e325-4680-f733-91c73d5a06b5"
      },
      "outputs": [
        {
          "output_type": "stream",
          "name": "stdout",
          "text": [
            "Downloading http://yann.lecun.com/exdb/mnist/train-images-idx3-ubyte.gz\n",
            "Downloading http://yann.lecun.com/exdb/mnist/train-images-idx3-ubyte.gz to ./MNIST/raw/train-images-idx3-ubyte.gz\n"
          ]
        },
        {
          "output_type": "stream",
          "name": "stderr",
          "text": [
            "100%|██████████| 9912422/9912422 [00:00<00:00, 87504417.23it/s]\n"
          ]
        },
        {
          "output_type": "stream",
          "name": "stdout",
          "text": [
            "Extracting ./MNIST/raw/train-images-idx3-ubyte.gz to ./MNIST/raw\n",
            "\n",
            "Downloading http://yann.lecun.com/exdb/mnist/train-labels-idx1-ubyte.gz\n",
            "Downloading http://yann.lecun.com/exdb/mnist/train-labels-idx1-ubyte.gz to ./MNIST/raw/train-labels-idx1-ubyte.gz\n"
          ]
        },
        {
          "output_type": "stream",
          "name": "stderr",
          "text": [
            "100%|██████████| 28881/28881 [00:00<00:00, 10556487.48it/s]\n"
          ]
        },
        {
          "output_type": "stream",
          "name": "stdout",
          "text": [
            "Extracting ./MNIST/raw/train-labels-idx1-ubyte.gz to ./MNIST/raw\n",
            "\n",
            "Downloading http://yann.lecun.com/exdb/mnist/t10k-images-idx3-ubyte.gz\n",
            "Downloading http://yann.lecun.com/exdb/mnist/t10k-images-idx3-ubyte.gz to ./MNIST/raw/t10k-images-idx3-ubyte.gz\n"
          ]
        },
        {
          "output_type": "stream",
          "name": "stderr",
          "text": [
            "100%|██████████| 1648877/1648877 [00:00<00:00, 23283085.82it/s]\n"
          ]
        },
        {
          "output_type": "stream",
          "name": "stdout",
          "text": [
            "Extracting ./MNIST/raw/t10k-images-idx3-ubyte.gz to ./MNIST/raw\n",
            "\n",
            "Downloading http://yann.lecun.com/exdb/mnist/t10k-labels-idx1-ubyte.gz\n",
            "Downloading http://yann.lecun.com/exdb/mnist/t10k-labels-idx1-ubyte.gz to ./MNIST/raw/t10k-labels-idx1-ubyte.gz\n"
          ]
        },
        {
          "output_type": "stream",
          "name": "stderr",
          "text": [
            "100%|██████████| 4542/4542 [00:00<00:00, 4918804.23it/s]\n"
          ]
        },
        {
          "output_type": "stream",
          "name": "stdout",
          "text": [
            "Extracting ./MNIST/raw/t10k-labels-idx1-ubyte.gz to ./MNIST/raw\n",
            "\n"
          ]
        }
      ],
      "source": [
        "# Рассмотрим датасет MNIST\n",
        "data_tfs = tfs.Compose([\n",
        "    tfs.ToTensor(),\n",
        "    tfs.Normalize((0.5), (0.5))\n",
        "])\n",
        "root = './'\n",
        "train_dataset = MNIST(root, train=True,  transform=data_tfs, download=True)\n",
        "val_dataset  = MNIST(root, train=False, transform=data_tfs, download=True)\n",
        "\n",
        "train_dataloader =  DataLoader(train_dataset, batch_size=128)\n",
        "valid_dataloader =  DataLoader(val_dataset, batch_size=1000)"
      ]
    },
    {
      "cell_type": "markdown",
      "id": "3ff26124",
      "metadata": {
        "id": "3ff26124"
      },
      "source": [
        "Рассмотрим архитектуру нейронной сети, в которой присутствует Dropout. **\"Отключение\" нейронов** можно осуществлять с помощью метода ***torch.nn.Dropout()***.\n",
        "\n",
        "На самом деле архитектура ниже, созданная с помощью ***nn.Sequential***, уже не выглядит компактной с точки зрения Python. Позже мы рассмотрим, как записывать подобные архитектуры более компактно."
      ]
    },
    {
      "cell_type": "code",
      "execution_count": 8,
      "id": "87275f75",
      "metadata": {
        "id": "87275f75"
      },
      "outputs": [],
      "source": [
        "activation = nn.Tanh()\n",
        "model = nn.Sequential(\n",
        "    nn.Flatten(),\n",
        "    nn.Linear(28 * 28, 256),\n",
        "    activation,\n",
        "    # \"выключение\" нейронов, p - вероятность того, что нейрон будет выключен\n",
        "    nn.Dropout(p=0.1),\n",
        "    nn.Linear(256, 128),\n",
        "    activation,\n",
        "    # \"выключение\" нейронов, p - вероятность того, что нейрон будет выключен\n",
        "    nn.Dropout(p=0.1),\n",
        "    nn.Linear(128, 64),\n",
        "    activation,\n",
        "    # \"выключение\" нейронов, p - вероятность того, что нейрон будет выключен\n",
        "    nn.Dropout(p=0.1),\n",
        "    # линейный слой со 64 признаками на входе и 10 на выходе\n",
        "    nn.Linear(64, 10)\n",
        ")"
      ]
    },
    {
      "cell_type": "code",
      "execution_count": 9,
      "id": "1fd41269",
      "metadata": {
        "id": "1fd41269"
      },
      "outputs": [],
      "source": [
        "# функция потерь\n",
        "criterion = nn.CrossEntropyLoss()\n",
        "# оптимизатор - то что обновляет веса модели(model.parameters)\n",
        "optimizer = torch.optim.Adam(model.parameters())\n",
        "# словарь для удобства вывода результатов\n",
        "loaders = {\"train\": train_dataloader, \"valid\": valid_dataloader}"
      ]
    },
    {
      "cell_type": "code",
      "execution_count": 10,
      "id": "fb75c408",
      "metadata": {
        "id": "fb75c408"
      },
      "outputs": [],
      "source": [
        "device = \"cuda\" if torch.cuda.is_available() else \"cpu\""
      ]
    },
    {
      "cell_type": "code",
      "execution_count": 11,
      "id": "5b9410b3",
      "metadata": {
        "colab": {
          "base_uri": "https://localhost:8080/"
        },
        "id": "5b9410b3",
        "outputId": "c238f3f2-9a1c-4547-d25b-1c1f9db862ab"
      },
      "outputs": [
        {
          "output_type": "stream",
          "name": "stdout",
          "text": [
            "Epoch: 1\n",
            "Loader: train. Accuracy: 0.87525\n",
            "Loader: valid. Accuracy: 0.9279\n",
            "Epoch: 2\n",
            "Loader: train. Accuracy: 0.93955\n",
            "Loader: valid. Accuracy: 0.9525\n",
            "Epoch: 3\n",
            "Loader: train. Accuracy: 0.9516\n",
            "Loader: valid. Accuracy: 0.9562\n",
            "Epoch: 4\n",
            "Loader: train. Accuracy: 0.9598666666666666\n",
            "Loader: valid. Accuracy: 0.963\n",
            "Epoch: 5\n",
            "Loader: train. Accuracy: 0.9625\n",
            "Loader: valid. Accuracy: 0.9657\n",
            "Epoch: 6\n",
            "Loader: train. Accuracy: 0.9651\n",
            "Loader: valid. Accuracy: 0.9693\n",
            "Epoch: 7\n",
            "Loader: train. Accuracy: 0.9689166666666666\n",
            "Loader: valid. Accuracy: 0.9704\n",
            "Epoch: 8\n",
            "Loader: train. Accuracy: 0.9696333333333333\n",
            "Loader: valid. Accuracy: 0.969\n",
            "Epoch: 9\n",
            "Loader: train. Accuracy: 0.9707166666666667\n",
            "Loader: valid. Accuracy: 0.9719\n",
            "Epoch: 10\n",
            "Loader: train. Accuracy: 0.9717166666666667\n",
            "Loader: valid. Accuracy: 0.9716\n"
          ]
        }
      ],
      "source": [
        "# число эпох\n",
        "max_epochs = 10\n",
        "# словарь для хранения точности на обучающей и на тестовой выборке(valid)\n",
        "accuracy = {\"train\": [], \"valid\": []}\n",
        "# итерируемся по датасету столько раз, сколько число эпох\n",
        "for epoch in range(max_epochs):\n",
        "    # k принимает два значения - train и valid\n",
        "    for k, dataloader in loaders.items():\n",
        "        epoch_correct = 0\n",
        "        epoch_all = 0\n",
        "        # выбираем batch из выборки, по нему и будем делать оптимизациооный шаг\n",
        "        for x_batch, y_batch in dataloader:\n",
        "            if k == \"train\":\n",
        "                # переходим в \"режим обучения\"\n",
        "                model.train()\n",
        "                # обнуляем градиенты модели\n",
        "                optimizer.zero_grad()\n",
        "                # выходные значения модели\n",
        "                outp = model(x_batch)\n",
        "                # считаем функцию потерь\n",
        "                loss = criterion(outp, y_batch)\n",
        "                # считаем градиенты\n",
        "                loss.backward()\n",
        "                # делаем шаг градиентного спуска\n",
        "                optimizer.step()\n",
        "            else:\n",
        "                # переходим в \"режим тестирования\"\n",
        "                model.eval()\n",
        "                # отключение вычисления и хранения градиентов\n",
        "                with torch.no_grad():\n",
        "                    outp = model(x_batch)\n",
        "            # вычисляем точность\n",
        "            preds = outp.argmax(-1)\n",
        "            correct = (preds == y_batch).sum()\n",
        "            all = y_batch.shape[0]\n",
        "            epoch_correct += correct.item()\n",
        "            epoch_all += all\n",
        "        # выводим точность\n",
        "        if k == \"train\":\n",
        "            print(f\"Epoch: {epoch+1}\")\n",
        "        print(f\"Loader: {k}. Accuracy: {epoch_correct/epoch_all}\")\n",
        "        accuracy[k].append(epoch_correct/epoch_all)"
      ]
    },
    {
      "cell_type": "markdown",
      "id": "61d4fa56",
      "metadata": {
        "id": "61d4fa56"
      },
      "source": [
        "### Задача 2 (2 балла)\n",
        "\n",
        "1. Рассмотрите архитектуры нейронной сети, в которой присутствует Dropout с ***p = 0.2 и p = 0.8***.\n",
        "\n",
        "2. Рассчитайте точность на 10 эпохах.\n",
        "\n",
        "3. Сделайте вывод о эффективности Dropout для данной архитектуры и данного датасета."
      ]
    },
    {
      "cell_type": "code",
      "execution_count": 12,
      "id": "d1d64bab",
      "metadata": {
        "colab": {
          "base_uri": "https://localhost:8080/"
        },
        "id": "d1d64bab",
        "outputId": "9f37d851-9237-4df2-e0c4-40aa0a7c9f3f"
      },
      "outputs": [
        {
          "output_type": "stream",
          "name": "stdout",
          "text": [
            "Epoch: 1\n",
            "Loader: train. Accuracy: 0.8647166666666667\n",
            "Loader: valid. Accuracy: 0.931\n",
            "Epoch: 2\n",
            "Loader: train. Accuracy: 0.9293666666666667\n",
            "Loader: valid. Accuracy: 0.9527\n",
            "Epoch: 3\n",
            "Loader: train. Accuracy: 0.94075\n",
            "Loader: valid. Accuracy: 0.9576\n",
            "Epoch: 4\n",
            "Loader: train. Accuracy: 0.9478166666666666\n",
            "Loader: valid. Accuracy: 0.9622\n",
            "Epoch: 5\n",
            "Loader: train. Accuracy: 0.9533\n",
            "Loader: valid. Accuracy: 0.9674\n",
            "Epoch: 6\n",
            "Loader: train. Accuracy: 0.9559166666666666\n",
            "Loader: valid. Accuracy: 0.9674\n",
            "Epoch: 7\n",
            "Loader: train. Accuracy: 0.9576833333333333\n",
            "Loader: valid. Accuracy: 0.9655\n",
            "Epoch: 8\n",
            "Loader: train. Accuracy: 0.9578666666666666\n",
            "Loader: valid. Accuracy: 0.9694\n",
            "Epoch: 9\n",
            "Loader: train. Accuracy: 0.96155\n",
            "Loader: valid. Accuracy: 0.9664\n",
            "Epoch: 10\n",
            "Loader: train. Accuracy: 0.9632166666666667\n",
            "Loader: valid. Accuracy: 0.9686\n"
          ]
        }
      ],
      "source": [
        "# Рассмотрим датасет MNIST\n",
        "data_tfs = tfs.Compose([\n",
        "    tfs.ToTensor(),\n",
        "    tfs.Normalize((0.5), (0.5))\n",
        "])\n",
        "root = './'\n",
        "train_dataset = MNIST(root, train=True,  transform=data_tfs, download=True)\n",
        "val_dataset  = MNIST(root, train=False, transform=data_tfs, download=True)\n",
        "\n",
        "train_dataloader =  DataLoader(train_dataset, batch_size=128)\n",
        "valid_dataloader =  DataLoader(val_dataset, batch_size=1000)\n",
        "\n",
        "activation = nn.Tanh()\n",
        "model = nn.Sequential(\n",
        "    nn.Flatten(),\n",
        "    nn.Linear(28 * 28, 256),\n",
        "    activation,\n",
        "    # \"выключение\" нейронов, p - вероятность того, что нейрон будет выключен\n",
        "    nn.Dropout(p=0.2),\n",
        "    nn.Linear(256, 128),\n",
        "    activation,\n",
        "    # \"выключение\" нейронов, p - вероятность того, что нейрон будет выключен\n",
        "    nn.Dropout(p=0.2),\n",
        "    nn.Linear(128, 64),\n",
        "    activation,\n",
        "    # \"выключение\" нейронов, p - вероятность того, что нейрон будет выключен\n",
        "    nn.Dropout(p=0.2),\n",
        "    # линейный слой со 64 признаками на входе и 10 на выходе\n",
        "    nn.Linear(64, 10)\n",
        ")\n",
        "\n",
        "# функция потерь\n",
        "criterion = nn.CrossEntropyLoss()\n",
        "# оптимизатор - то что обновляет веса модели(model.parameters)\n",
        "optimizer = torch.optim.Adam(model.parameters())\n",
        "# словарь для удобства вывода результатов\n",
        "loaders = {\"train\": train_dataloader, \"valid\": valid_dataloader}\n",
        "\n",
        "device = \"cuda\" if torch.cuda.is_available() else \"cpu\"\n",
        "\n",
        "# число эпох\n",
        "max_epochs = 10\n",
        "# словарь для хранения точности на обучающей и на тестовой выборке(valid)\n",
        "accuracy = {\"train\": [], \"valid\": []}\n",
        "# итерируемся по датасету столько раз, сколько число эпох\n",
        "for epoch in range(max_epochs):\n",
        "    # k принимает два значения - train и valid\n",
        "    for k, dataloader in loaders.items():\n",
        "        epoch_correct = 0\n",
        "        epoch_all = 0\n",
        "        # выбираем batch из выборки, по нему и будем делать оптимизациооный шаг\n",
        "        for x_batch, y_batch in dataloader:\n",
        "            if k == \"train\":\n",
        "                # переходим в \"режим обучения\"\n",
        "                model.train()\n",
        "                # обнуляем градиенты модели\n",
        "                optimizer.zero_grad()\n",
        "                # выходные значения модели\n",
        "                outp = model(x_batch)\n",
        "                # считаем функцию потерь\n",
        "                loss = criterion(outp, y_batch)\n",
        "                # считаем градиенты\n",
        "                loss.backward()\n",
        "                # делаем шаг градиентного спуска\n",
        "                optimizer.step()\n",
        "            else:\n",
        "                # переходим в \"режим тестирования\"\n",
        "                model.eval()\n",
        "                # отключение вычисления и хранения градиентов\n",
        "                with torch.no_grad():\n",
        "                    outp = model(x_batch)\n",
        "            # вычисляем точность\n",
        "            preds = outp.argmax(-1)\n",
        "            correct = (preds == y_batch).sum()\n",
        "            all = y_batch.shape[0]\n",
        "            epoch_correct += correct.item()\n",
        "            epoch_all += all\n",
        "        # выводим точность\n",
        "        if k == \"train\":\n",
        "            print(f\"Epoch: {epoch+1}\")\n",
        "        print(f\"Loader: {k}. Accuracy: {epoch_correct/epoch_all}\")\n",
        "        accuracy[k].append(epoch_correct/epoch_all)"
      ]
    },
    {
      "cell_type": "code",
      "source": [
        "# Рассмотрим датасет MNIST\n",
        "data_tfs = tfs.Compose([\n",
        "    tfs.ToTensor(),\n",
        "    tfs.Normalize((0.5), (0.5))\n",
        "])\n",
        "root = './'\n",
        "train_dataset = MNIST(root, train=True,  transform=data_tfs, download=True)\n",
        "val_dataset  = MNIST(root, train=False, transform=data_tfs, download=True)\n",
        "\n",
        "train_dataloader =  DataLoader(train_dataset, batch_size=128)\n",
        "valid_dataloader =  DataLoader(val_dataset, batch_size=1000)\n",
        "\n",
        "activation = nn.Tanh()\n",
        "model = nn.Sequential(\n",
        "    nn.Flatten(),\n",
        "    nn.Linear(28 * 28, 256),\n",
        "    activation,\n",
        "    # \"выключение\" нейронов, p - вероятность того, что нейрон будет выключен\n",
        "    nn.Dropout(p=0.8),\n",
        "    nn.Linear(256, 128),\n",
        "    activation,\n",
        "    # \"выключение\" нейронов, p - вероятность того, что нейрон будет выключен\n",
        "    nn.Dropout(p=0.8),\n",
        "    nn.Linear(128, 64),\n",
        "    activation,\n",
        "    # \"выключение\" нейронов, p - вероятность того, что нейрон будет выключен\n",
        "    nn.Dropout(p=0.8),\n",
        "    # линейный слой со 64 признаками на входе и 10 на выходе\n",
        "    nn.Linear(64, 10)\n",
        ")\n",
        "\n",
        "# функция потерь\n",
        "criterion = nn.CrossEntropyLoss()\n",
        "# оптимизатор - то что обновляет веса модели(model.parameters)\n",
        "optimizer = torch.optim.Adam(model.parameters())\n",
        "# словарь для удобства вывода результатов\n",
        "loaders = {\"train\": train_dataloader, \"valid\": valid_dataloader}\n",
        "\n",
        "device = \"cuda\" if torch.cuda.is_available() else \"cpu\"\n",
        "\n",
        "# число эпох\n",
        "max_epochs = 10\n",
        "# словарь для хранения точности на обучающей и на тестовой выборке(valid)\n",
        "accuracy = {\"train\": [], \"valid\": []}\n",
        "# итерируемся по датасету столько раз, сколько число эпох\n",
        "for epoch in range(max_epochs):\n",
        "    # k принимает два значения - train и valid\n",
        "    for k, dataloader in loaders.items():\n",
        "        epoch_correct = 0\n",
        "        epoch_all = 0\n",
        "        # выбираем batch из выборки, по нему и будем делать оптимизациооный шаг\n",
        "        for x_batch, y_batch in dataloader:\n",
        "            if k == \"train\":\n",
        "                # переходим в \"режим обучения\"\n",
        "                model.train()\n",
        "                # обнуляем градиенты модели\n",
        "                optimizer.zero_grad()\n",
        "                # выходные значения модели\n",
        "                outp = model(x_batch)\n",
        "                # считаем функцию потерь\n",
        "                loss = criterion(outp, y_batch)\n",
        "                # считаем градиенты\n",
        "                loss.backward()\n",
        "                # делаем шаг градиентного спуска\n",
        "                optimizer.step()\n",
        "            else:\n",
        "                # переходим в \"режим тестирования\"\n",
        "                model.eval()\n",
        "                # отключение вычисления и хранения градиентов\n",
        "                with torch.no_grad():\n",
        "                    outp = model(x_batch)\n",
        "            # вычисляем точность\n",
        "            preds = outp.argmax(-1)\n",
        "            correct = (preds == y_batch).sum()\n",
        "            all = y_batch.shape[0]\n",
        "            epoch_correct += correct.item()\n",
        "            epoch_all += all\n",
        "        # выводим точность\n",
        "        if k == \"train\":\n",
        "            print(f\"Epoch: {epoch+1}\")\n",
        "        print(f\"Loader: {k}. Accuracy: {epoch_correct/epoch_all}\")\n",
        "        accuracy[k].append(epoch_correct/epoch_all)"
      ],
      "metadata": {
        "colab": {
          "base_uri": "https://localhost:8080/"
        },
        "id": "YCETREoNDLnd",
        "outputId": "39418795-e05c-4fcf-8556-cca8fecc79cd"
      },
      "id": "YCETREoNDLnd",
      "execution_count": 13,
      "outputs": [
        {
          "output_type": "stream",
          "name": "stdout",
          "text": [
            "Epoch: 1\n",
            "Loader: train. Accuracy: 0.29015\n",
            "Loader: valid. Accuracy: 0.5964\n",
            "Epoch: 2\n",
            "Loader: train. Accuracy: 0.511\n",
            "Loader: valid. Accuracy: 0.6614\n",
            "Epoch: 3\n",
            "Loader: train. Accuracy: 0.56825\n",
            "Loader: valid. Accuracy: 0.7001\n",
            "Epoch: 4\n",
            "Loader: train. Accuracy: 0.6038666666666667\n",
            "Loader: valid. Accuracy: 0.7332\n",
            "Epoch: 5\n",
            "Loader: train. Accuracy: 0.62285\n",
            "Loader: valid. Accuracy: 0.7484\n",
            "Epoch: 6\n",
            "Loader: train. Accuracy: 0.6387333333333334\n",
            "Loader: valid. Accuracy: 0.7515\n",
            "Epoch: 7\n",
            "Loader: train. Accuracy: 0.6444833333333333\n",
            "Loader: valid. Accuracy: 0.7708\n",
            "Epoch: 8\n",
            "Loader: train. Accuracy: 0.6556\n",
            "Loader: valid. Accuracy: 0.777\n",
            "Epoch: 9\n",
            "Loader: train. Accuracy: 0.66655\n",
            "Loader: valid. Accuracy: 0.7899\n",
            "Epoch: 10\n",
            "Loader: train. Accuracy: 0.6711833333333334\n",
            "Loader: valid. Accuracy: 0.8106\n"
          ]
        }
      ]
    },
    {
      "cell_type": "markdown",
      "id": "2e68df1b",
      "metadata": {
        "id": "2e68df1b"
      },
      "source": [
        "## 3.Batch normalization"
      ]
    },
    {
      "cell_type": "markdown",
      "id": "ff15e282",
      "metadata": {
        "id": "ff15e282"
      },
      "source": [
        "***Batch normalization (или батч-нормализация)*** — это метод нормализации входных данных каждого слоя нейронной сети. Важно понимать, что ***batch normalization не равно*** нормализации данных, на которых мы обучаемся.\n",
        "\n",
        "Batch normalization можно осуществлять с помощью метода ***torch.nn.BatchNorm1d(число признаков(нейронов))***.  \n",
        "\n",
        "Обратите внимания, что ***BatchNorm1d*** следует ***после*** линейного слоя nn.Linear."
      ]
    },
    {
      "cell_type": "code",
      "execution_count": null,
      "id": "8640fa5d",
      "metadata": {
        "id": "8640fa5d"
      },
      "outputs": [],
      "source": [
        "activation = nn.Tanh()\n",
        "model = nn.Sequential(\n",
        "    nn.Flatten(),\n",
        "    nn.Linear(28 * 28, 256),\n",
        "    nn.BatchNorm1d(256),\n",
        "    activation,\n",
        "    nn.Linear(256, 128),\n",
        "    nn.BatchNorm1d(128),\n",
        "    activation,\n",
        "    nn.Linear(128, 64),\n",
        "    nn.BatchNorm1d(64),\n",
        "    activation,\n",
        "    # линейный слой со 64 признаками на входе и 10 на выходе\n",
        "    nn.Linear(64, 10)\n",
        ")"
      ]
    },
    {
      "cell_type": "markdown",
      "id": "61275770",
      "metadata": {
        "id": "61275770"
      },
      "source": [
        "### Задача 3(2 балла)"
      ]
    },
    {
      "cell_type": "markdown",
      "id": "92183790",
      "metadata": {
        "id": "92183790"
      },
      "source": [
        "1. Рассмотрите архитектуры нейронной сети, в которой присутствует BatchNorm1d.\n",
        "2. Рассчитайте точность на 10 эпохах.\n",
        "3. Сделайте вывод о эффективности BatchNorm1d для данной архитектуры и данного датасета."
      ]
    },
    {
      "cell_type": "code",
      "execution_count": 14,
      "id": "7ffb7641",
      "metadata": {
        "colab": {
          "base_uri": "https://localhost:8080/"
        },
        "id": "7ffb7641",
        "outputId": "599b5e0a-4f10-413b-9042-14adadcbbcb9"
      },
      "outputs": [
        {
          "output_type": "stream",
          "name": "stdout",
          "text": [
            "Epoch: 1\n",
            "Loader: train. Accuracy: 0.91565\n",
            "Loader: valid. Accuracy: 0.9422\n",
            "Epoch: 2\n",
            "Loader: train. Accuracy: 0.9588666666666666\n",
            "Loader: valid. Accuracy: 0.9598\n",
            "Epoch: 3\n",
            "Loader: train. Accuracy: 0.9734333333333334\n",
            "Loader: valid. Accuracy: 0.9623\n",
            "Epoch: 4\n",
            "Loader: train. Accuracy: 0.9818833333333333\n",
            "Loader: valid. Accuracy: 0.9657\n",
            "Epoch: 5\n",
            "Loader: train. Accuracy: 0.9877666666666667\n",
            "Loader: valid. Accuracy: 0.9688\n",
            "Epoch: 6\n",
            "Loader: train. Accuracy: 0.9907\n",
            "Loader: valid. Accuracy: 0.966\n",
            "Epoch: 7\n",
            "Loader: train. Accuracy: 0.9915833333333334\n",
            "Loader: valid. Accuracy: 0.9662\n",
            "Epoch: 8\n",
            "Loader: train. Accuracy: 0.9929666666666667\n",
            "Loader: valid. Accuracy: 0.9703\n",
            "Epoch: 9\n",
            "Loader: train. Accuracy: 0.9932\n",
            "Loader: valid. Accuracy: 0.9714\n",
            "Epoch: 10\n",
            "Loader: train. Accuracy: 0.9954166666666666\n",
            "Loader: valid. Accuracy: 0.9743\n"
          ]
        }
      ],
      "source": [
        "# Рассмотрим датасет MNIST\n",
        "data_tfs = tfs.Compose([\n",
        "    tfs.ToTensor(),\n",
        "    tfs.Normalize((0.5), (0.5))\n",
        "])\n",
        "root = './'\n",
        "train_dataset = MNIST(root, train=True,  transform=data_tfs, download=True)\n",
        "val_dataset  = MNIST(root, train=False, transform=data_tfs, download=True)\n",
        "\n",
        "train_dataloader =  DataLoader(train_dataset, batch_size=128)\n",
        "valid_dataloader =  DataLoader(val_dataset, batch_size=1000)\n",
        "\n",
        "activation = nn.Tanh()\n",
        "model = nn.Sequential(\n",
        "    nn.Flatten(),\n",
        "    nn.Linear(28 * 28, 256),\n",
        "    nn.BatchNorm1d(256),\n",
        "    activation,\n",
        "    nn.Linear(256, 128),\n",
        "    nn.BatchNorm1d(128),\n",
        "    activation,\n",
        "    nn.Linear(128, 64),\n",
        "    nn.BatchNorm1d(64),\n",
        "    activation,\n",
        "    # линейный слой со 64 признаками на входе и 10 на выходе\n",
        "    nn.Linear(64, 10)\n",
        ")\n",
        "\n",
        "# функция потерь\n",
        "criterion = nn.CrossEntropyLoss()\n",
        "# оптимизатор - то что обновляет веса модели(model.parameters)\n",
        "optimizer = torch.optim.Adam(model.parameters())\n",
        "# словарь для удобства вывода результатов\n",
        "loaders = {\"train\": train_dataloader, \"valid\": valid_dataloader}\n",
        "\n",
        "device = \"cuda\" if torch.cuda.is_available() else \"cpu\"\n",
        "\n",
        "# число эпох\n",
        "max_epochs = 10\n",
        "# словарь для хранения точности на обучающей и на тестовой выборке(valid)\n",
        "accuracy = {\"train\": [], \"valid\": []}\n",
        "# итерируемся по датасету столько раз, сколько число эпох\n",
        "for epoch in range(max_epochs):\n",
        "    # k принимает два значения - train и valid\n",
        "    for k, dataloader in loaders.items():\n",
        "        epoch_correct = 0\n",
        "        epoch_all = 0\n",
        "        # выбираем batch из выборки, по нему и будем делать оптимизациооный шаг\n",
        "        for x_batch, y_batch in dataloader:\n",
        "            if k == \"train\":\n",
        "                # переходим в \"режим обучения\"\n",
        "                model.train()\n",
        "                # обнуляем градиенты модели\n",
        "                optimizer.zero_grad()\n",
        "                # выходные значения модели\n",
        "                outp = model(x_batch)\n",
        "                # считаем функцию потерь\n",
        "                loss = criterion(outp, y_batch)\n",
        "                # считаем градиенты\n",
        "                loss.backward()\n",
        "                # делаем шаг градиентного спуска\n",
        "                optimizer.step()\n",
        "            else:\n",
        "                # переходим в \"режим тестирования\"\n",
        "                model.eval()\n",
        "                # отключение вычисления и хранения градиентов\n",
        "                with torch.no_grad():\n",
        "                    outp = model(x_batch)\n",
        "            # вычисляем точность\n",
        "            preds = outp.argmax(-1)\n",
        "            correct = (preds == y_batch).sum()\n",
        "            all = y_batch.shape[0]\n",
        "            epoch_correct += correct.item()\n",
        "            epoch_all += all\n",
        "        # выводим точность\n",
        "        if k == \"train\":\n",
        "            print(f\"Epoch: {epoch+1}\")\n",
        "        print(f\"Loader: {k}. Accuracy: {epoch_correct/epoch_all}\")\n",
        "        accuracy[k].append(epoch_correct/epoch_all)"
      ]
    },
    {
      "cell_type": "markdown",
      "id": "6e212de7",
      "metadata": {
        "id": "6e212de7"
      },
      "source": [
        "## 4. Инициализация весов"
      ]
    },
    {
      "cell_type": "markdown",
      "id": "77a1ba24",
      "metadata": {
        "id": "77a1ba24"
      },
      "source": [
        "Как уже было сказано ранее модель(нейронная сеть) обучается таким образом, чтобы веса $w$ достигали таких значений, чтобы функция потерь $L$ стремилась к минимуму.\n",
        "\n",
        "Однако возникает вопрос - как инициализовывать веса(какие они должны быть на первом шаге градиентного спуска).\n",
        "\n",
        "Могут быть предложены ***следующие решения***:\n",
        "\n",
        "1. ***Инициализация константными значениями(одинаковыми)***: данное решение ведёт к очень плохим результатам! Есть высокая вероятность, что оптимизационный алгоритм не сойдётся к минимуму.\n",
        "\n",
        "2. ***Инициализация случайными числами из различных распределений***: эмперические наблюдения говорят, что лучше всего подходят нормальное или равномерное распределение.\n",
        "\n",
        "3. ***Инициализация Ксавье (Xavier)***: этот метод предполагает инициализацию весов из нормального распределения со средним нулевым и стандартным отклонением, зависящим от числа входов и выходов слоя.\n",
        "\n",
        "4. **Инициализация Хе (He)**: этот метод похож на инициализацию Ксавье, но адаптирован для функций активации, которые могут приводить к затуханию градиента, например, для слоев с функцией активации ReLU.\n",
        "\n",
        "5. **Инициализация предобученными весами**: иногда можно использовать в качестве начальных весов, веса другой модели, имеющие ту же архитектуру."
      ]
    },
    {
      "cell_type": "markdown",
      "id": "40284292",
      "metadata": {
        "id": "40284292"
      },
      "source": [
        "В PyTorch веса полносвязной нейронной сети обычно инициализируются при создании `torch.nn.Linear`. ***По умолчанию*** в PyTorch ***используется метод Ксавье (Xavier)*** для инициализации весов слоя.\n"
      ]
    },
    {
      "cell_type": "markdown",
      "id": "88407ea5",
      "metadata": {
        "id": "88407ea5"
      },
      "source": [
        "## 5 Аугментации"
      ]
    },
    {
      "cell_type": "markdown",
      "id": "0185d3eb",
      "metadata": {
        "id": "0185d3eb"
      },
      "source": [
        "***Аугментация данных*** - это процесс создания новых объектов путем искажения или изменения существующих объектов. В контексте нейронных сетей аугментация данных часто используется для увеличения размера обучающего набора данных для улучшения обобщающей способности модели и предотвращения переобучения. Аугментация данных помогает модели учиться на более разнообразных и разношерстных примерах, что может улучшить качество предсказаний.\n",
        "\n",
        "Примеры аугментации данных для изображений могут включать в себя:\n",
        "- ***Горизонтальное отражение***\n",
        "- ***Вертикальное отражение***\n",
        "- ***Случайные повороты***\n",
        "- ***Случайные сдвиги и масштабирование***\n",
        "- ***Искажения яркости и контраста***\n",
        "- ***Добавление шума***\n",
        "\n",
        "Важно отметить, что аугментация данных должна быть сбалансирована, чтобы не привести к искажению слишком сильных особенностей в данных.\n"
      ]
    },
    {
      "cell_type": "markdown",
      "id": "b26c3e55",
      "metadata": {
        "id": "b26c3e55"
      },
      "source": [
        "Подробнее можно почитать тут: https://pytorch.org/vision/stable/transforms.html"
      ]
    },
    {
      "cell_type": "markdown",
      "id": "6d8904cb",
      "metadata": {
        "id": "6d8904cb"
      },
      "source": [
        "Рассмотрим датасет MNIST. В нём:\n",
        "\n",
        "* 60000 картинок обучающего набора\n",
        "* 10000 картинок тестового набора"
      ]
    },
    {
      "cell_type": "code",
      "execution_count": 15,
      "id": "d5d23063",
      "metadata": {
        "scrolled": true,
        "colab": {
          "base_uri": "https://localhost:8080/"
        },
        "id": "d5d23063",
        "outputId": "6197c25e-7933-462f-aa7a-6c82fb8aa994"
      },
      "outputs": [
        {
          "output_type": "stream",
          "name": "stdout",
          "text": [
            "Downloading http://yann.lecun.com/exdb/mnist/train-images-idx3-ubyte.gz\n",
            "Downloading http://yann.lecun.com/exdb/mnist/train-images-idx3-ubyte.gz to ./data/MNIST/raw/train-images-idx3-ubyte.gz\n"
          ]
        },
        {
          "output_type": "stream",
          "name": "stderr",
          "text": [
            "100%|██████████| 9912422/9912422 [00:00<00:00, 85556237.20it/s]\n"
          ]
        },
        {
          "output_type": "stream",
          "name": "stdout",
          "text": [
            "Extracting ./data/MNIST/raw/train-images-idx3-ubyte.gz to ./data/MNIST/raw\n",
            "\n",
            "Downloading http://yann.lecun.com/exdb/mnist/train-labels-idx1-ubyte.gz\n",
            "Downloading http://yann.lecun.com/exdb/mnist/train-labels-idx1-ubyte.gz to ./data/MNIST/raw/train-labels-idx1-ubyte.gz\n"
          ]
        },
        {
          "output_type": "stream",
          "name": "stderr",
          "text": [
            "100%|██████████| 28881/28881 [00:00<00:00, 41499038.65it/s]\n"
          ]
        },
        {
          "output_type": "stream",
          "name": "stdout",
          "text": [
            "Extracting ./data/MNIST/raw/train-labels-idx1-ubyte.gz to ./data/MNIST/raw\n",
            "\n",
            "Downloading http://yann.lecun.com/exdb/mnist/t10k-images-idx3-ubyte.gz\n",
            "Downloading http://yann.lecun.com/exdb/mnist/t10k-images-idx3-ubyte.gz to ./data/MNIST/raw/t10k-images-idx3-ubyte.gz\n"
          ]
        },
        {
          "output_type": "stream",
          "name": "stderr",
          "text": [
            "100%|██████████| 1648877/1648877 [00:00<00:00, 24722126.92it/s]\n"
          ]
        },
        {
          "output_type": "stream",
          "name": "stdout",
          "text": [
            "Extracting ./data/MNIST/raw/t10k-images-idx3-ubyte.gz to ./data/MNIST/raw\n",
            "\n",
            "Downloading http://yann.lecun.com/exdb/mnist/t10k-labels-idx1-ubyte.gz\n",
            "Downloading http://yann.lecun.com/exdb/mnist/t10k-labels-idx1-ubyte.gz to ./data/MNIST/raw/t10k-labels-idx1-ubyte.gz\n"
          ]
        },
        {
          "output_type": "stream",
          "name": "stderr",
          "text": [
            "100%|██████████| 4542/4542 [00:00<00:00, 8158684.70it/s]\n"
          ]
        },
        {
          "output_type": "stream",
          "name": "stdout",
          "text": [
            "Extracting ./data/MNIST/raw/t10k-labels-idx1-ubyte.gz to ./data/MNIST/raw\n",
            "\n"
          ]
        }
      ],
      "source": [
        "# классический датасет\n",
        "data_tfs = tfs.Compose([\n",
        "    tfs.ToTensor(),\n",
        "    tfs.Normalize((0.5), (0.5))\n",
        "])\n",
        "root = './'\n",
        "\n",
        "# Аугментация данных\n",
        "augmentation = tfs.Compose([\n",
        "    tfs.ToTensor(),\n",
        "    tfs.RandomAffine(degrees=10, translate=(0.1, 0.1), scale=(0.8, 1.2)), # Случайные аффинные преобразования\n",
        "    tfs.ColorJitter(brightness=0.1, contrast=0.1), # Искажения яркости и контраста\n",
        "    tfs.RandomHorizontalFlip(p=0.3), # Горизонтальное отражение с вероятностью 0.1\n",
        "    tfs.Normalize((0.5), (0.5))\n",
        "])\n",
        "\n",
        "# классический датасет\n",
        "train_dataset = MNIST(root, train=True,  transform=data_tfs, download=True)\n",
        "\n",
        "# применение аугментаций к датасету\n",
        "augmented_dataset = torchvision.datasets.MNIST(root='./data', train=True, transform=augmentation, download=True)\n",
        "\n",
        "# датасет для тестирования\n",
        "val_dataset  = MNIST(root, train=False, transform=data_tfs, download=True)"
      ]
    },
    {
      "cell_type": "markdown",
      "id": "a2b1867c",
      "metadata": {
        "id": "a2b1867c"
      },
      "source": [
        "Таким образом из исходного датасета мы получили два обучающих датасета:\n",
        "\n",
        "* ***исходный датасет***\n",
        "* датасет, полученный из исходного, путём ***различных преобразований***"
      ]
    },
    {
      "cell_type": "code",
      "execution_count": 16,
      "id": "9f7ace2d",
      "metadata": {
        "id": "9f7ace2d"
      },
      "outputs": [],
      "source": [
        "# Увеличение размера датасета в два раза\n",
        "doubled_dataset = torch.utils.data.ConcatDataset([train_dataset, augmented_dataset])\n",
        "\n",
        "# Создание DataLoader для обучения\n",
        "train_dataloader = torch.utils.data.DataLoader(doubled_dataset, batch_size=256, shuffle=True)\n",
        "valid_dataloader =  DataLoader(val_dataset, batch_size=1000)"
      ]
    },
    {
      "cell_type": "markdown",
      "id": "415b8e29",
      "metadata": {
        "id": "415b8e29"
      },
      "source": [
        "***Исходные картинки***"
      ]
    },
    {
      "cell_type": "code",
      "execution_count": 17,
      "id": "348a5af2",
      "metadata": {
        "colab": {
          "base_uri": "https://localhost:8080/",
          "height": 499
        },
        "id": "348a5af2",
        "outputId": "fc8092ef-4854-4ac5-e3dd-3f2701faef5f"
      },
      "outputs": [
        {
          "output_type": "display_data",
          "data": {
            "text/plain": [
              "<Figure size 600x600 with 9 Axes>"
            ],
            "image/png": "[encoded data removed]"
          },
          "metadata": {}
        }
      ],
      "source": [
        "fig, axes = plt.subplots(3, 3, figsize=(6, 6))\n",
        "\n",
        "for i, ax in enumerate(axes.flat):\n",
        "    # Выводим каждую картинку на своем месте\n",
        "\n",
        "    tensor_to_pil = tfs.ToPILImage()\n",
        "    img = tensor_to_pil(doubled_dataset[i][0])\n",
        "    ax.imshow(img, cmap='gray')\n",
        "    ax.axis('off')  # отключаем оси координат\n",
        "\n",
        "plt.show()"
      ]
    },
    {
      "cell_type": "markdown",
      "id": "253f32d8",
      "metadata": {
        "id": "253f32d8"
      },
      "source": [
        "### Преобразованные картинки"
      ]
    },
    {
      "cell_type": "code",
      "execution_count": 18,
      "id": "3d2d989b",
      "metadata": {
        "colab": {
          "base_uri": "https://localhost:8080/",
          "height": 499
        },
        "id": "3d2d989b",
        "outputId": "0c5fded5-e7f7-44bb-cf75-2e88eadf1000"
      },
      "outputs": [
        {
          "output_type": "display_data",
          "data": {
            "text/plain": [
              "<Figure size 600x600 with 9 Axes>"
            ],
            "image/png": "[encoded data removed]"
          },
          "metadata": {}
        }
      ],
      "source": [
        "fig, axes = plt.subplots(3, 3, figsize=(6, 6))\n",
        "\n",
        "for i, ax in enumerate(axes.flat):\n",
        "    # Выводим каждую картинку на своем месте\n",
        "\n",
        "    tensor_to_pil = tfs.ToPILImage()\n",
        "    img = tensor_to_pil(doubled_dataset[60000 + i][0])\n",
        "    ax.imshow(img, cmap='gray')\n",
        "    ax.axis('off')  # отключаем оси координат\n",
        "\n",
        "plt.show()"
      ]
    },
    {
      "cell_type": "code",
      "execution_count": 19,
      "id": "e45f91e8",
      "metadata": {
        "id": "e45f91e8"
      },
      "outputs": [],
      "source": [
        "activation = nn.ReLU()\n",
        "model = nn.Sequential(\n",
        "    # nn.Flatten преобразует входные данные, двумерный тензор,\n",
        "    #в одномерный тензор путем \"сплющивания\" всех осей на входном тензоре, кроме первой.\n",
        "    nn.Flatten(),\n",
        "    # линейный слой со 784 признаками на входе и 256 на выходе\n",
        "    nn.Linear(28 * 28, 256),\n",
        "    # функция активации ReLU\n",
        "    activation,\n",
        "    # линейный слой со 256 признаками на входе и 128 на выходе\n",
        "    nn.Linear(256, 128),\n",
        "    # функция активации ReLU\n",
        "    activation,\n",
        "    # линейный слой со 128 признаками на входе и 64 на выходе\n",
        "    nn.Linear(128, 64),\n",
        "    # функция активации ReLU\n",
        "    activation,\n",
        "    # линейный слой со 64 признаками на входе и 10 на выходе\n",
        "    nn.Linear(64, 10)\n",
        ")"
      ]
    },
    {
      "cell_type": "code",
      "execution_count": 20,
      "id": "e9b14624",
      "metadata": {
        "id": "e9b14624"
      },
      "outputs": [],
      "source": [
        "# функция потерь\n",
        "criterion = nn.CrossEntropyLoss()\n",
        "# оптимизатор - то что обновляет веса модели(model.parameters)\n",
        "optimizer = torch.optim.Adam(model.parameters())\n",
        "# словарь для удобства вывода результатов\n",
        "loaders = {\"train\": train_dataloader, \"valid\": valid_dataloader}"
      ]
    },
    {
      "cell_type": "code",
      "execution_count": 21,
      "id": "fc0d7081",
      "metadata": {
        "id": "fc0d7081"
      },
      "outputs": [],
      "source": [
        "device = \"cuda\" if torch.cuda.is_available() else \"cpu\""
      ]
    },
    {
      "cell_type": "code",
      "execution_count": 22,
      "id": "74f1737d",
      "metadata": {
        "colab": {
          "base_uri": "https://localhost:8080/"
        },
        "id": "74f1737d",
        "outputId": "451a94d8-1fd5-4e2d-b097-534ad0d19425"
      },
      "outputs": [
        {
          "output_type": "stream",
          "name": "stdout",
          "text": [
            "Epoch: 1\n",
            "Loader: train. Accuracy: 0.7297916666666666\n",
            "Loader: valid. Accuracy: 0.935\n",
            "Epoch: 2\n",
            "Loader: train. Accuracy: 0.8755583333333333\n",
            "Loader: valid. Accuracy: 0.9569\n",
            "Epoch: 3\n",
            "Loader: train. Accuracy: 0.9062583333333334\n",
            "Loader: valid. Accuracy: 0.9658\n",
            "Epoch: 4\n",
            "Loader: train. Accuracy: 0.9205583333333334\n",
            "Loader: valid. Accuracy: 0.9682\n",
            "Epoch: 5\n",
            "Loader: train. Accuracy: 0.9286833333333333\n",
            "Loader: valid. Accuracy: 0.9767\n",
            "Epoch: 6\n",
            "Loader: train. Accuracy: 0.93445\n",
            "Loader: valid. Accuracy: 0.9766\n",
            "Epoch: 7\n",
            "Loader: train. Accuracy: 0.9398083333333334\n",
            "Loader: valid. Accuracy: 0.9772\n",
            "Epoch: 8\n",
            "Loader: train. Accuracy: 0.9439\n",
            "Loader: valid. Accuracy: 0.976\n",
            "Epoch: 9\n",
            "Loader: train. Accuracy: 0.945725\n",
            "Loader: valid. Accuracy: 0.9752\n",
            "Epoch: 10\n",
            "Loader: train. Accuracy: 0.9478916666666667\n",
            "Loader: valid. Accuracy: 0.9792\n"
          ]
        }
      ],
      "source": [
        "# число эпох\n",
        "max_epochs = 10\n",
        "# словарь для хранения точности на обучающей и на тестовой выборке(valid)\n",
        "accuracy = {\"train\": [], \"valid\": []}\n",
        "# итерируемся по датасету столько раз, сколько число эпох\n",
        "for epoch in range(max_epochs):\n",
        "    # k принимает два значения - train и valid\n",
        "    for k, dataloader in loaders.items():\n",
        "        epoch_correct = 0\n",
        "        epoch_all = 0\n",
        "        # выбираем batch из выборки, по нему и будем делать оптимизациооный шаг\n",
        "        for x_batch, y_batch in dataloader:\n",
        "            if k == \"train\":\n",
        "                # переходим в \"режим обучения\"\n",
        "                model.train()\n",
        "                # обнуляем градиенты модели\n",
        "                optimizer.zero_grad()\n",
        "                # выходные значения модели\n",
        "                outp = model(x_batch)\n",
        "                # считаем функцию потерь\n",
        "                loss = criterion(outp, y_batch)\n",
        "                # считаем градиенты\n",
        "                loss.backward()\n",
        "                # делаем шаг градиентного спуска\n",
        "                optimizer.step()\n",
        "            else:\n",
        "                # переходим в \"режим тестирования\"\n",
        "                model.eval()\n",
        "                # отключение вычисления и хранения градиентов\n",
        "                with torch.no_grad():\n",
        "                    outp = model(x_batch)\n",
        "            # вычисляем точность\n",
        "            preds = outp.argmax(-1)\n",
        "            correct = (preds == y_batch).sum()\n",
        "            all = y_batch.shape[0]\n",
        "            epoch_correct += correct.item()\n",
        "            epoch_all += all\n",
        "        # выводим точность\n",
        "        if k == \"train\":\n",
        "            print(f\"Epoch: {epoch+1}\")\n",
        "        print(f\"Loader: {k}. Accuracy: {epoch_correct/epoch_all}\")\n",
        "        accuracy[k].append(epoch_correct/epoch_all)"
      ]
    },
    {
      "cell_type": "markdown",
      "id": "71824ada",
      "metadata": {
        "id": "71824ada"
      },
      "source": [
        "Получили, хоть и немного, но более высокую точность. Поэтому можем говорить о том, что ***аугментация*** в данном случае ***работает***.  "
      ]
    },
    {
      "cell_type": "code",
      "execution_count": null,
      "id": "19a55bd1",
      "metadata": {
        "id": "19a55bd1"
      },
      "outputs": [],
      "source": []
    },
    {
      "cell_type": "markdown",
      "id": "65aabdfb",
      "metadata": {
        "id": "65aabdfb"
      },
      "source": [
        "### Задача 3(4 балла)"
      ]
    },
    {
      "cell_type": "markdown",
      "id": "c381fc3f",
      "metadata": {
        "id": "c381fc3f"
      },
      "source": [
        "***CIFAR-10***: Этот датасет содержит 60000 цветных изображений 32x32 в 10 классах, таких как \"самолет\", \"автомобиль\", \"птица\", \"кот\", \"олень\", \"собака\", \"лягушка\", \"лошадь\", \"корабль\", \"грузовик\"."
      ]
    },
    {
      "cell_type": "markdown",
      "id": "de8c913e",
      "metadata": {
        "id": "de8c913e"
      },
      "source": [
        "Параметр `num_workers` в DataLoader классе библиотеки PyTorch определяет количество подпроцессов, которые будут использоваться для загрузки данных. Когда `num_workers` больше 0, данные будут загружаться параллельно в нескольких подпроцессах. Это может значительно ускорить загрузку данных, особенно если у вас большой объем данных или если загрузка изображений или применение преобразований занимает много времени."
      ]
    },
    {
      "cell_type": "code",
      "execution_count": 47,
      "id": "68c1c678",
      "metadata": {
        "colab": {
          "base_uri": "https://localhost:8080/"
        },
        "id": "68c1c678",
        "outputId": "a7bd780d-1f69-45a4-c491-aa2c1404c447"
      },
      "outputs": [
        {
          "output_type": "stream",
          "name": "stdout",
          "text": [
            "Files already downloaded and verified\n",
            "Files already downloaded and verified\n",
            "Files already downloaded and verified\n"
          ]
        }
      ],
      "source": [
        "# Задаем преобразования для изображений\n",
        "transform = tfs.Compose([\n",
        "    tfs.ToTensor(),  # Преобразуем изображение в тензор\n",
        "    tfs.Normalize((0.5, 0.5, 0.5), (0.5, 0.5, 0.5))  # Нормализуем изображение\n",
        "])\n",
        "\n",
        "# Аугментация данных\n",
        "augmentation = tfs.Compose([\n",
        "    tfs.ToTensor(),\n",
        "    tfs.RandomAffine(degrees=10, translate=(0.1, 0.1), scale=(0.8, 1.2)), # Случайные аффинные преобразования\n",
        "    tfs.ColorJitter(brightness=0.1, contrast=0.1), # Искажения яркости и контраста\n",
        "    tfs.RandomHorizontalFlip(p=0.3), # Горизонтальное отражение с вероятностью 0.1\n",
        "    tfs.Normalize((0.5), (0.5))\n",
        "])\n",
        "\n",
        "# Загружаем CIFAR-10 датасет для обучения\n",
        "train_dataset = CIFAR10(root='./data', train=True, download=True, transform=transform)\n",
        "\n",
        "augmented_dataset = torchvision.datasets.CIFAR10(root='./data', train=True, transform=augmentation, download=True)\n",
        "\n",
        "test_dataset = CIFAR10(root='./data', train=False, download=True, transform=transform)\n",
        "doubled_dataset = torch.utils.data.ConcatDataset([train_dataset, augmented_dataset])\n",
        "\n",
        "\n",
        "\n",
        "train_loader = DataLoader(train_dataset, batch_size=256, shuffle=True, num_workers=2)\n",
        "test_loader = DataLoader(test_dataset, batch_size=256, shuffle=False, num_workers=2)\n"
      ]
    },
    {
      "cell_type": "code",
      "source": [
        "len(doubled_dataset)"
      ],
      "metadata": {
        "colab": {
          "base_uri": "https://localhost:8080/"
        },
        "id": "Fw4gzI49apLS",
        "outputId": "9a2bd475-7370-4d9e-a272-74d12794e9ab"
      },
      "id": "Fw4gzI49apLS",
      "execution_count": 65,
      "outputs": [
        {
          "output_type": "execute_result",
          "data": {
            "text/plain": [
              "100000"
            ]
          },
          "metadata": {},
          "execution_count": 65
        }
      ]
    },
    {
      "cell_type": "code",
      "source": [
        "fig, axes = plt.subplots(3, 3, figsize=(6, 6))\n",
        "\n",
        "for i, ax in enumerate(axes.flat):\n",
        "    # Выводим каждую картинку на своем месте\n",
        "\n",
        "    tensor_to_pil = tfs.ToPILImage()\n",
        "    img = tensor_to_pil(doubled_dataset[i][0])\n",
        "    ax.imshow(img)\n",
        "    ax.axis('off')  # отключаем оси координат\n",
        "\n",
        "plt.show()"
      ],
      "metadata": {
        "colab": {
          "base_uri": "https://localhost:8080/",
          "height": 499
        },
        "id": "y_VqMmM9LS_H",
        "outputId": "23714aa3-e3b8-43c7-f8c2-34e60147a29d"
      },
      "id": "y_VqMmM9LS_H",
      "execution_count": 64,
      "outputs": [
        {
          "output_type": "display_data",
          "data": {
            "text/plain": [
              "<Figure size 600x600 with 9 Axes>"
            ],
            "image/png": "[encoded data removed]"
          },
          "metadata": {}
        }
      ]
    },
    {
      "cell_type": "code",
      "source": [
        "fig, axes = plt.subplots(3, 3, figsize=(6, 6))\n",
        "\n",
        "for i, ax in enumerate(axes.flat):\n",
        "    # Выводим каждую картинку на своем месте\n",
        "\n",
        "    tensor_to_pil = tfs.ToPILImage()\n",
        "    img = tensor_to_pil(doubled_dataset[50000 + i][0])\n",
        "    ax.imshow(img)\n",
        "    ax.axis('off')  # отключаем оси координат\n",
        "\n",
        "plt.show()"
      ],
      "metadata": {
        "colab": {
          "base_uri": "https://localhost:8080/",
          "height": 499
        },
        "id": "qHUBwp5VLzAQ",
        "outputId": "3c56ae95-ee36-44b2-eae6-e9c330f92585"
      },
      "id": "qHUBwp5VLzAQ",
      "execution_count": 66,
      "outputs": [
        {
          "output_type": "display_data",
          "data": {
            "text/plain": [
              "<Figure size 600x600 with 9 Axes>"
            ],
            "image/png": "[encoded data removed]"
          },
          "metadata": {}
        }
      ]
    },
    {
      "cell_type": "markdown",
      "id": "2b561f32",
      "metadata": {
        "id": "2b561f32"
      },
      "source": [
        "### Задача 4(5 баллов)\n",
        "\n",
        "1. Выведите несколько изображений датасета CIFAR-10\n",
        "2. Произведите аугментацию данных:\n",
        "3. Выведите несколько \"аугментированных\" изображений\n",
        "4. Используя аугментированный и исходный датасет, постройте и обучите нейронную сеть.\n",
        "5. Постарайтесь достичь точности порядка 60%.\n",
        "\n",
        "P.S в данной задаче хорошую точность дают свёрточные сети, а не полносвязные, но об этом в следующей лабораторной."
      ]
    },
    {
      "cell_type": "code",
      "execution_count": 52,
      "id": "27cb3f49",
      "metadata": {
        "id": "27cb3f49"
      },
      "outputs": [],
      "source": [
        "activation = nn.Tanh()\n",
        "model = nn.Sequential(\n",
        "    # nn.Flatten преобразует входные данные, двумерный тензор,\n",
        "    #в одномерный тензор путем \"сплющивания\" всех осей на входном тензоре, кроме первой.\n",
        "    nn.Flatten(),\n",
        "    # линейный слой со 784 признаками на входе и 256 на выходе\n",
        "    nn.Linear(28 * 28, 256),\n",
        "    # функция активации ReLU\n",
        "    activation,\n",
        "    # линейный слой со 256 признаками на входе и 128 на выходе\n",
        "    nn.Linear(256, 128),\n",
        "    # функция активации ReLU\n",
        "    activation,\n",
        "    # линейный слой со 128 признаками на входе и 64 на выходе\n",
        "    nn.Linear(128, 64),\n",
        "    # функция активации ReLU\n",
        "    activation,\n",
        "    # линейный слой со 64 признаками на входе и 10 на выходе\n",
        "    nn.Linear(64, 10)\n",
        ")"
      ]
    },
    {
      "cell_type": "code",
      "source": [
        "# функция потерь\n",
        "criterion = nn.CrossEntropyLoss()\n",
        "# оптимизатор - то что обновляет веса модели(model.parameters)\n",
        "optimizer = torch.optim.Adam(model.parameters())\n",
        "# словарь для удобства вывода результатов\n",
        "loaders = {\"train\": train_dataloader, \"valid\": valid_dataloader}"
      ],
      "metadata": {
        "id": "6rD1Pe2OVjT5"
      },
      "id": "6rD1Pe2OVjT5",
      "execution_count": 53,
      "outputs": []
    },
    {
      "cell_type": "code",
      "source": [
        "device = \"cuda\" if torch.cuda.is_available() else \"cpu\""
      ],
      "metadata": {
        "id": "-T51dbTPVw96"
      },
      "id": "-T51dbTPVw96",
      "execution_count": 54,
      "outputs": []
    },
    {
      "cell_type": "code",
      "source": [
        "# число эпох\n",
        "max_epochs = 10\n",
        "# словарь для хранения точности на обучающей и на тестовой выборке(valid)\n",
        "accuracy = {\"train\": [], \"valid\": []}\n",
        "# итерируемся по датасету столько раз, сколько число эпох\n",
        "for epoch in range(max_epochs):\n",
        "    # k принимает два значения - train и valid\n",
        "    for k, dataloader in loaders.items():\n",
        "        epoch_correct = 0\n",
        "        epoch_all = 0\n",
        "        # выбираем batch из выборки, по нему и будем делать оптимизациооный шаг\n",
        "        for x_batch, y_batch in dataloader:\n",
        "            if k == \"train\":\n",
        "                # переходим в \"режим обучения\"\n",
        "                model.train()\n",
        "                # обнуляем градиенты модели\n",
        "                optimizer.zero_grad()\n",
        "                # выходные значения модели\n",
        "                outp = model(x_batch)\n",
        "                # считаем функцию потерь\n",
        "                loss = criterion(outp, y_batch)\n",
        "                # считаем градиенты\n",
        "                loss.backward()\n",
        "                # делаем шаг градиентного спуска\n",
        "                optimizer.step()\n",
        "            else:\n",
        "                # переходим в \"режим тестирования\"\n",
        "                model.eval()\n",
        "                # отключение вычисления и хранения градиентов\n",
        "                with torch.no_grad():\n",
        "                    outp = model(x_batch)\n",
        "            # вычисляем точность\n",
        "            preds = outp.argmax(-1)\n",
        "            correct = (preds == y_batch).sum()\n",
        "            all = y_batch.shape[0]\n",
        "            epoch_correct += correct.item()\n",
        "            epoch_all += all\n",
        "        # выводим точность\n",
        "        if k == \"train\":\n",
        "            print(f\"Epoch: {epoch+1}\")\n",
        "        print(f\"Loader: {k}. Accuracy: {epoch_correct/epoch_all}\")\n",
        "        accuracy[k].append(epoch_correct/epoch_all)"
      ],
      "metadata": {
        "colab": {
          "base_uri": "https://localhost:8080/"
        },
        "id": "myzOwl99VzOo",
        "outputId": "130b1d9d-802f-4963-b43c-a099a7fc3f23"
      },
      "id": "myzOwl99VzOo",
      "execution_count": 55,
      "outputs": [
        {
          "output_type": "stream",
          "name": "stdout",
          "text": [
            "Epoch: 1\n",
            "Loader: train. Accuracy: 0.7707666666666667\n",
            "Loader: valid. Accuracy: 0.9489\n",
            "Epoch: 2\n",
            "Loader: train. Accuracy: 0.8916333333333334\n",
            "Loader: valid. Accuracy: 0.9657\n",
            "Epoch: 3\n",
            "Loader: train. Accuracy: 0.9121666666666667\n",
            "Loader: valid. Accuracy: 0.9719\n",
            "Epoch: 4\n",
            "Loader: train. Accuracy: 0.9246416666666667\n",
            "Loader: valid. Accuracy: 0.9651\n",
            "Epoch: 5\n",
            "Loader: train. Accuracy: 0.93175\n",
            "Loader: valid. Accuracy: 0.9767\n",
            "Epoch: 6\n",
            "Loader: train. Accuracy: 0.9349083333333333\n",
            "Loader: valid. Accuracy: 0.9756\n",
            "Epoch: 7\n",
            "Loader: train. Accuracy: 0.9410833333333334\n",
            "Loader: valid. Accuracy: 0.9682\n",
            "Epoch: 8\n",
            "Loader: train. Accuracy: 0.9415833333333333\n",
            "Loader: valid. Accuracy: 0.9746\n",
            "Epoch: 9\n",
            "Loader: train. Accuracy: 0.9433583333333333\n",
            "Loader: valid. Accuracy: 0.9774\n",
            "Epoch: 10\n",
            "Loader: train. Accuracy: 0.9450833333333334\n",
            "Loader: valid. Accuracy: 0.9778\n"
          ]
        }
      ]
    }
  ],
  "metadata": {
    "kernelspec": {
      "display_name": "Python 3 (ipykernel)",
      "language": "python",
      "name": "python3"
    },
    "language_info": {
      "codemirror_mode": {
        "name": "ipython",
        "version": 3
      },
      "file_extension": ".py",
      "mimetype": "text/x-python",
      "name": "python",
      "nbconvert_exporter": "python",
      "pygments_lexer": "ipython3",
      "version": "3.9.13"
    },
    "colab": {
      "provenance": []
    }
  },
  "nbformat": 4,
  "nbformat_minor": 5
}