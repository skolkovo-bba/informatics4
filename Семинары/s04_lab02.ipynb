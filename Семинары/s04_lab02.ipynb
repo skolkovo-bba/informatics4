{
 "cells": [
  {
   "cell_type": "markdown",
   "id": "aa138198",
   "metadata": {},
   "source": [
    "# Лабораторная работа 2"
   ]
  },
  {
   "cell_type": "code",
   "execution_count": 21,
   "id": "c2b4639b",
   "metadata": {},
   "outputs": [],
   "source": [
    "from sklearn.datasets import load_boston\n",
    "from sklearn.model_selection import train_test_split\n",
    "from sklearn.preprocessing import StandardScaler\n",
    "import numpy as np\n",
    "import matplotlib.pyplot as plt"
   ]
  },
  {
   "cell_type": "markdown",
   "id": "ae7a835d",
   "metadata": {},
   "source": [
    "## 1.1 Линейная регрессия"
   ]
  },
  {
   "cell_type": "markdown",
   "id": "8dca5308",
   "metadata": {},
   "source": [
    "Напомним про постановку задачи машинного обучения с учителем. \n",
    "\n",
    "Пусть \n",
    "\n",
    "* $X$ - множество объектов, или же, что более точно множество их информационных описаний\n",
    "* $Y$ - множество ответов \n",
    "* $y: X \\rightarrow Y$ - некоторая неизвестная зависимость\n",
    "\n",
    "Задача ***обучения с учителем выглядит следующим образом*** \n",
    "\n",
    "***Дано:*** \n",
    "\n",
    "$ {x_1 ... x_l} \\subset X $ - обучающая выборка \n",
    "\n",
    "$y_1 = y(x_1) ... y_l = y(x_l)$ - ответы\n",
    "\n",
    "***Требуется найти:*** \n",
    "\n",
    "$a: X \\rightarrow Y $ - алгоритм, приближающий $y$ на множестве $X$"
   ]
  },
  {
   "cell_type": "markdown",
   "id": "b8cbd441",
   "metadata": {},
   "source": [
    "В случае модели ***линейной регрессии*** имеем: \n",
    "\n",
    "* $Y = R$\n",
    "\n",
    "***Модель регрессии*** - ***линейная модель*** представляется уравнением вида $y = <w,x> + w_0$.\n",
    "\n",
    "* $x^i$ - объект, имеющий $l$ признаков. \n",
    "* $w$ - веса, $w = (w_1, ... w_l)$\n",
    "* $<w,x> = \\sum_{j=1}^{l} w_j x^{i}_j$\n",
    "* где $w_0$ - сдвиг."
   ]
  },
  {
   "cell_type": "markdown",
   "id": "968c96ab",
   "metadata": {},
   "source": [
    "Функция, оценивающая степень ошибки называется ***функцией потерь***. В случае линейной регрессии ***функцией потерь*** будет следующая функция: $$L(w) = \\sum_{i=1}^{n} (y_i - (<w,x^i> + w_0))^2$$\n",
    "\n",
    "На практике часто используется в качестве функции потерь: ***Mean Squared Error, MSE или среднеквадратическое отклонение***:\n",
    "\n",
    "$$L(w) = \\frac{1}{N}\\sum_{i=1}^{N} (y_i - (<w,x^i> + w_0))^2$$\n",
    "\n",
    "***Методом обучения*** как раз и будет метод наименьших квадратов, а именно нахождение таких значений $w$ и $w_0$, которые ***минимизируют сумму квадратов (MSE)*** между фактическими значениями $y_i$ и предсказанными значениями.\n",
    "\n",
    "$w_0$ часто опускают для упрощения задачи, добавляя ко всем $x_i$ признак тождественно равный единицы. Задача при этом не изменится. Мы далее будем делать также. "
   ]
  },
  {
   "cell_type": "markdown",
   "id": "3af72312",
   "metadata": {},
   "source": [
    "## 1.2 Поиск минимума"
   ]
  },
  {
   "cell_type": "markdown",
   "id": "734a63d8",
   "metadata": {},
   "source": [
    "Минимум можно найти различными способами:\n",
    "    \n",
    "Самый простой - ***аналитический***. Не будем перегружать эту лабораторную работу математическими выкладками. Просто поверьте, что минимум будет равен $w = (X^TX)^{-1}X^Ty$, где $X$ - матрица признаков. "
   ]
  },
  {
   "cell_type": "markdown",
   "id": "6216ebd7",
   "metadata": {},
   "source": [
    "### Задача 1(1балл)\n",
    "\n",
    "Реализуйте функцию, принимающую на вход матрицу признаков $X$ и матрицу значений $y$ и вычисляющую точное аналитическое решение для заданных $X$ и $y$.  "
   ]
  },
  {
   "cell_type": "code",
   "execution_count": 7,
   "id": "f1610f32",
   "metadata": {},
   "outputs": [
    {
     "data": {
      "text/plain": [
       "array([ 4.,  1., -3.])"
      ]
     },
     "execution_count": 7,
     "metadata": {},
     "output_type": "execute_result"
    }
   ],
   "source": [
    "import numpy as np\n",
    "def solution(X, y):\n",
    "    w = np.linalg.inv(np.transpose(X) @ X) @ np.transpose(X) @ y\n",
    "    return w\n",
    "\n",
    "X = np.array([[2, 5, 4],\n",
    "             [3, 1, 2],\n",
    "             [6, 4, 8]])\n",
    "y = np.array([1, 7, 4])\n",
    "\n",
    "solution(X, y)"
   ]
  },
  {
   "cell_type": "markdown",
   "id": "f13a3e8a",
   "metadata": {},
   "source": [
    "***Однако обращении матрицы — это вычислительно сложно!***. Сложность такого алгоритма $O(n^3)$, где $n$ - размерность матрицы. \n",
    "\n",
    "Кроме того, такое численное решение неустойчиво, малое смешение $y$ может привести к критическому смешению $w$. \n",
    "\n",
    "Поэтому имеет смысл рассмотреть другие методы поиска минимума - методы, основанные на градиентном спуске. "
   ]
  },
  {
   "cell_type": "markdown",
   "id": "99dc955f",
   "metadata": {},
   "source": [
    "## 1.3 Градиентный спуск."
   ]
  },
  {
   "cell_type": "markdown",
   "id": "94f1fdf1",
   "metadata": {},
   "source": [
    "Предположим, у нас есть функция потерь $L(w)$, где $w$ - это вектор параметров, который мы хотим оптимизировать. Наша цель - минимизировать эту функцию потерь путем изменения параметров $w$. Градиентный спуск осуществляет это изменение, используя градиент функции потерь.\n",
    "\n",
    "Шаги градиентного спуска выглядят следующим образом:\n",
    "\n",
    "1. Инициализируем параметры $w$ случайными значениями или нулями.\n",
    "2. Для каждой итерации $t$ обновляем параметры по формуле:\n",
    "$$w^{(t+1)} = w^{(t)} - \\alpha \\nabla J(w^{(t)})$$\n",
    "Где $\\alpha$ - это ***коэффициент обучения (learning rate)***, который определяет размер шага, а $\\nabla J(w^{(t)})$ - градиент функции потерь по параметрам $w$.\n",
    "\n",
    "Градиент вычисляется как вектор частных производных функции потерь по каждому элементу $w$, и он показывает направление наискорейшего роста функции потерь.\n",
    "\n",
    "Формула для вычисления градиента в точке $w$:\n",
    "$$\\nabla J(w) = \\left[ \\frac{\\partial J(w)}{\\partial w_1}, \\frac{\\partial J(w)}{\\partial w_2}, ..., \\frac{\\partial J(w)}{\\partial w_l} \\right]$$\n",
    "\n",
    "Где каждая частная производная $\\frac{\\partial J(w)}{\\partial w_i}$ вычисляется отдельно для каждого параметра $w_i$.\n",
    "\n",
    "После вычисления градиента мы обновляем параметры модели, вычитая градиент, умноженный на коэффициент обучения. Этот процесс повторяется до тех пор, пока изменения параметров остаются незначительными или до тех пор, пока функция потерь не минимизируется в нужной степени.\n",
    "\n",
    "Таким образом, градиентный спуск представляет собой мощный метод оптимизации, который позволяет находить оптимальные параметры модели путем минимизации функции потерь."
   ]
  },
  {
   "cell_type": "markdown",
   "id": "2d35e557",
   "metadata": {},
   "source": [
    "Запишем функцию потерь в матричном виде: $L(w,X,y) = \\frac{1}{N}||Xw - y||^2$. \n",
    "\n",
    "Тогда $\\nabla J(w) = \\frac{2}{N}X^T(Xw-y)$. "
   ]
  },
  {
   "cell_type": "code",
   "execution_count": 9,
   "id": "def1aaeb",
   "metadata": {},
   "outputs": [
    {
     "data": {
      "image/png": "[encoded data removed]",
      "text/plain": [
       "<Figure size 640x480 with 1 Axes>"
      ]
     },
     "metadata": {},
     "output_type": "display_data"
    }
   ],
   "source": [
    "# реализуем градиентный спуск для MSE\n",
    "\n",
    "def gradient_descent(X, y, w, learning_rate, number_iterations):\n",
    "    # список ошибки на каждой итерации \n",
    "    loss_iterations = []\n",
    "    N = len(y)\n",
    "    for i in range(number_iterations):\n",
    "        # вычисляем градиент\n",
    "        gradient = 2/N * X.T.dot(X.dot(w) - y)\n",
    "        # корректируем параметры\n",
    "        w = w - learning_rate * gradient\n",
    "        \n",
    "        # вычисляем функцию потерь\n",
    "        cost = np.mean((X.dot(w) - y) ** 2)\n",
    "        loss_iterations.append(cost)\n",
    "\n",
    "    return w, loss_iterations\n",
    "\n",
    "# пример использования\n",
    "# сгенерируем синтетические данные\n",
    "X = 2 * np.random.rand(100, 1)\n",
    "y = 4 + 3 * X + np.random.randn(100, 1)\n",
    "\n",
    "# добавляем столбец с единицами для коэффициента сдвига (intercept)\n",
    "X_w0 = np.c_[np.ones((100, 1)), X]\n",
    "\n",
    "# устанавливаем параметры\n",
    "w = np.random.randn(2, 1)\n",
    "learning_rate = 0.2\n",
    "number_iterations = 50\n",
    "\n",
    "# обучаем модель с использованием градиентного спуска\n",
    "w, loss_iterations = gradient_descent(X_w0, y, w, learning_rate, number_iterations)\n",
    "\n",
    "# визуализируем процесс обучения\n",
    "import matplotlib.pyplot as plt\n",
    "plt.plot(loss_history)\n",
    "plt.xlabel('Iterations')\n",
    "plt.ylabel('Mean Squared Error')\n",
    "plt.title('Gradient Descent Training Process')\n",
    "plt.show()"
   ]
  },
  {
   "cell_type": "markdown",
   "id": "0ab5d2d6",
   "metadata": {},
   "source": [
    "### Задача 2(2 балла)\n",
    "Датасет \"Boston House Prices\" известен как один из классических наборов данных для задач машинного обучения. Он включает информацию о различных аспектах жилых домов в пригородах Бостона. В этом наборе данных содержится 506 наблюдений и 13 признаков, используемых для прогнозирования медианной стоимости домов в тысячах долларов.\n",
    "\n",
    "1. Разделите выборку на обучающую и тестовую, в отношении 4:1. \n",
    "2. Нормализуйте данные. \n",
    "3. С помощью градиентного спуска обучите линейную модель и постройте три графика MSE от числа итераций для learning_rate = 0.05, learning_rate = 0.1, learning_rate = 0.2. "
   ]
  },
  {
   "cell_type": "code",
   "execution_count": 3,
   "id": "016b9443",
   "metadata": {},
   "outputs": [
    {
     "name": "stdout",
     "output_type": "stream",
     "text": [
      "16512 4128 16512 4128\n",
      "0\n"
     ]
    },
    {
     "name": "stdout",
     "output_type": "stream",
     "text": [
      "1\n",
      "2\n",
      "3\n",
      "4\n",
      "5\n",
      "6\n",
      "7\n",
      "8\n",
      "9\n",
      "10\n",
      "11\n",
      "12\n",
      "13\n",
      "14\n"
     ]
    },
    {
     "data": {
      "image/png": "[encoded data removed]",
      "text/plain": [
       "<Figure size 640x480 with 1 Axes>"
      ]
     },
     "metadata": {},
     "output_type": "display_data"
    }
   ],
   "source": [
    "from sklearn.model_selection import train_test_split\n",
    "from sklearn.preprocessing import StandardScaler\n",
    "from sklearn.datasets import fetch_california_housing\n",
    "import numpy as np\n",
    "\n",
    "# Load the Boston House Prices dataset\n",
    "housing = fetch_california_housing()\n",
    "X = housing.data\n",
    "y = housing.target\n",
    "X_train, X_test, y_train, y_test = train_test_split(X, y, test_size = 0.2)\n",
    "\n",
    "scaler = StandardScaler()\n",
    "X_train = scaler.fit_transform(X_train)\n",
    "X_test = scaler.transform(X_test)\n",
    "\n",
    "\n",
    "def gradient_descent(X, y, w, learning_rate, number_iterations): \n",
    "    loss_iterations = []\n",
    "    N = len(y)\n",
    "    for i in range(number_iterations):\n",
    "        print(i)\n",
    "        gradient = 2/N * X.T.dot(X.dot(w) - y)\n",
    "        w = w - learning_rate * gradient\n",
    "        \n",
    "        cost = np.mean((X.dot(w) - y) ** 2)\n",
    "        loss_iterations.append(cost)\n",
    "\n",
    "    return w, loss_iterations\n",
    "\n",
    "\n",
    "# добавляем столбец с единицами для коэффициента сдвига (intercept)\n",
    "X_train_w0 = np.c_[np.ones((len(X_train), 1)), X_train]\n",
    "X_test_w0 = np.c_[np.ones((len(X_test), 1)), X_test]\n",
    "\n",
    "print(len(X_train_w0), len(X_test_w0), len(y_train), len(y_test))\n",
    "\n",
    "\n",
    "\n",
    "# устанавливаем параметры\n",
    "w = np.random.randn(9, 1)\n",
    "learning_rate = 0.05\n",
    "number_iterations = 15\n",
    "\n",
    "# обучаем модель с использованием градиентного спуска\n",
    "w, loss_iterations = gradient_descent(X_train_w0, y_train, w, learning_rate, number_iterations)\n",
    "\n",
    "# визуализируем процесс обучения\n",
    "import matplotlib.pyplot as plt\n",
    "plt.plot(loss_iterations)\n",
    "plt.xlabel('Iterations')\n",
    "plt.ylabel('Mean Squared Error')\n",
    "plt.title('Gradient Descent Training Process')\n",
    "plt.show()\n"
   ]
  },
  {
   "cell_type": "code",
   "execution_count": 4,
   "id": "113508f9",
   "metadata": {},
   "outputs": [
    {
     "name": "stdout",
     "output_type": "stream",
     "text": [
      "0\n",
      "1\n",
      "2\n",
      "3\n",
      "4\n",
      "5\n",
      "6\n",
      "7\n",
      "8\n",
      "9\n",
      "10\n",
      "11\n",
      "12\n",
      "13\n",
      "14\n"
     ]
    },
    {
     "data": {
      "image/png": "[encoded data removed]",
      "text/plain": [
       "<Figure size 640x480 with 1 Axes>"
      ]
     },
     "metadata": {},
     "output_type": "display_data"
    }
   ],
   "source": [
    "from sklearn.model_selection import train_test_split\n",
    "from sklearn.preprocessing import StandardScaler\n",
    "from sklearn.datasets import fetch_california_housing\n",
    "import numpy as np\n",
    "\n",
    "# Load the Boston House Prices dataset\n",
    "housing = fetch_california_housing()\n",
    "X = housing.data\n",
    "y = housing.target\n",
    "X_train, X_test, y_train, y_test = train_test_split(X, y, test_size = 0.2)\n",
    "\n",
    "scaler = StandardScaler()\n",
    "X_train = scaler.fit_transform(X_train)\n",
    "X_test = scaler.transform(X_test)\n",
    "\n",
    "\n",
    "def gradient_descent(X, y, w, learning_rate, number_iterations): \n",
    "    loss_iterations = []\n",
    "    N = len(y)\n",
    "    for i in range(number_iterations):\n",
    "        print(i)\n",
    "        gradient = 2/N * X.T.dot(X.dot(w) - y)\n",
    "        w = w - learning_rate * gradient\n",
    "        \n",
    "        cost = np.mean((X.dot(w) - y) ** 2)\n",
    "        loss_iterations.append(cost)\n",
    "\n",
    "    return w, loss_iterations\n",
    "\n",
    "\n",
    "# добавляем столбец с единицами для коэффициента сдвига (intercept)\n",
    "X_train_w0 = np.c_[np.ones((len(X_train), 1)), X_train]\n",
    "X_test_w0 = np.c_[np.ones((len(X_test), 1)), X_test]\n",
    "\n",
    "\n",
    "\n",
    "\n",
    "# устанавливаем параметры\n",
    "w = np.random.randn(9, 1)\n",
    "learning_rate = 0.1\n",
    "number_iterations = 15\n",
    "\n",
    "# обучаем модель с использованием градиентного спуска\n",
    "w, loss_iterations = gradient_descent(X_train_w0, y_train, w, learning_rate, number_iterations)\n",
    "\n",
    "\n",
    "# визуализируем процесс обучения\n",
    "import matplotlib.pyplot as plt\n",
    "plt.plot(loss_iterations)\n",
    "plt.xlabel('Iterations')\n",
    "plt.ylabel('Mean Squared Error')\n",
    "plt.title('Gradient Descent Training Process')\n",
    "plt.show()\n"
   ]
  },
  {
   "cell_type": "code",
   "execution_count": 5,
   "id": "160a8b7a",
   "metadata": {},
   "outputs": [
    {
     "name": "stdout",
     "output_type": "stream",
     "text": [
      "0\n"
     ]
    },
    {
     "name": "stdout",
     "output_type": "stream",
     "text": [
      "1\n",
      "2\n",
      "3\n",
      "4\n",
      "5\n",
      "6\n",
      "7\n",
      "8\n",
      "9\n",
      "10\n",
      "11\n",
      "12\n",
      "13\n",
      "14\n"
     ]
    },
    {
     "data": {
      "image/png": "[encoded data removed]",
      "text/plain": [
       "<Figure size 640x480 with 1 Axes>"
      ]
     },
     "metadata": {},
     "output_type": "display_data"
    }
   ],
   "source": [
    "from sklearn.model_selection import train_test_split\n",
    "from sklearn.preprocessing import StandardScaler\n",
    "from sklearn.datasets import fetch_california_housing\n",
    "import numpy as np\n",
    "\n",
    "# Load the Boston House Prices dataset\n",
    "housing = fetch_california_housing()\n",
    "X = housing.data\n",
    "y = housing.target\n",
    "X_train, X_test, y_train, y_test = train_test_split(X, y, test_size = 0.2)\n",
    "\n",
    "scaler = StandardScaler()\n",
    "X_train = scaler.fit_transform(X_train)\n",
    "X_test = scaler.transform(X_test)\n",
    "\n",
    "\n",
    "def gradient_descent(X, y, w, learning_rate, number_iterations): \n",
    "    loss_iterations = []\n",
    "    N = len(y)\n",
    "    for i in range(number_iterations):\n",
    "        print(i)\n",
    "        gradient = 2/N * X.T.dot(X.dot(w) - y)\n",
    "        w = w - learning_rate * gradient\n",
    "        \n",
    "        cost = np.mean((X.dot(w) - y) ** 2)\n",
    "        loss_iterations.append(cost)\n",
    "\n",
    "    return w, loss_iterations\n",
    "\n",
    "\n",
    "# добавляем столбец с единицами для коэффициента сдвига (intercept)\n",
    "X_train_w0 = np.c_[np.ones((len(X_train), 1)), X_train]\n",
    "X_test_w0 = np.c_[np.ones((len(X_test), 1)), X_test]\n",
    "\n",
    "\n",
    "\n",
    "\n",
    "# устанавливаем параметры\n",
    "w = np.random.randn(9, 1)\n",
    "learning_rate = 0.2\n",
    "number_iterations = 15\n",
    "\n",
    "# обучаем модель с использованием градиентного спуска\n",
    "w, loss_iterations = gradient_descent(X_train_w0, y_train, w, learning_rate, number_iterations)\n",
    "\n",
    "\n",
    "# визуализируем процесс обучения\n",
    "import matplotlib.pyplot as plt\n",
    "plt.plot(loss_iterations)\n",
    "plt.xlabel('Iterations')\n",
    "plt.ylabel('Mean Squared Error')\n",
    "plt.title('Gradient Descent Training Process')\n",
    "plt.show()\n"
   ]
  },
  {
   "cell_type": "markdown",
   "id": "9f2b2949",
   "metadata": {},
   "source": [
    "## 1.4 Стохастический градиентный спуск"
   ]
  },
  {
   "cell_type": "markdown",
   "id": "55f01e36",
   "metadata": {},
   "source": [
    "На каждом шаге градиентного спуска мы вычисляем градиент по всей выборке. Эта операция имеет сложность $O(Nl)$, где l - числа признаков, а N - число объектов. Возникает идея стохастического градиентного спуска. "
   ]
  },
  {
   "cell_type": "markdown",
   "id": "16bfc293",
   "metadata": {},
   "source": [
    "***Стохастический градиентный спуск (SGD)*** - это метод оптимизации, используемый для обучения моделей машинного обучения, таких как линейная регрессия или нейронные сети. Основная идея состоит в том, чтобы на каждом шаге обновлять параметры модели, используя градиент функции потерь на основе только одного случайно выбранного примера(или примеров) из обучающего набора. Это позволяет избежать вычислительной сложности, связанной с обработкой всего набора данных, и может привести к более быстрой сходимости.\n",
    "\n",
    "Математический процесс стохастического градиентного спуска заключается в следующих шагах:\n",
    "\n",
    "1. Выбирается случайный пример(или примеры) из обучающего набора с меткой ($x^{(i)}, y^{(i)})$.\n",
    "2. Вычисляется градиент функции потерь по параметрам модели для этого примера: $\\nabla J^{(i)}(w)$.\n",
    "3. Обновляются параметры модели $w$ в направлении, противоположном градиенту, с использованием скорости обучения $\\alpha$: $w := w - \\alpha \\nabla J^{(i)}(w)$.\n",
    "\n",
    "Этот процесс повторяется для всех примеров в обучающем наборе или до достижения критерия останова, такого как сходимость на валидационном наборе данных или заданное количество эпох (полных проходов через обучающий набор).\n",
    "\n",
    "Хотя стохастический градиентный спуск обычно обучает модели быстрее, чем обычный градиентный спуск, его использование подвержено случайности выбора примеров, что может привести к менее стабильной сходимости к оптимальному решению.\n",
    "\n",
    "***batch(батч)*** - подвыборка, по которой считается градиент в стохастическом градиентном спуске. \n",
    "\n",
    "***Эпоха*** - это один полный проход по выборке. "
   ]
  },
  {
   "cell_type": "markdown",
   "id": "0c797ea4",
   "metadata": {},
   "source": [
    "### Задача 3(3 балла)\n",
    "\n",
    "1. Реализуйте алгортим стохастического градиентного спуска. \n",
    "2. С помощью стохастического градиентного спуска обучите линейную модель и постройте три графика MSE от числа итераций для learning_rate = 0.05, learning_rate = 0.1, learning_rate = 0.2. Размер batch возьмите равным $\\frac{N}{10}$. Число эпох возьмите равным 3.  "
   ]
  },
  {
   "cell_type": "code",
   "execution_count": 8,
   "id": "891bf23e",
   "metadata": {},
   "outputs": [
    {
     "name": "stdout",
     "output_type": "stream",
     "text": [
      "20640\n",
      "0 0\n",
      "8.56486989923589\n",
      "1 1\n",
      "1.997691323593191\n",
      "2 2\n"
     ]
    },
    {
     "name": "stdout",
     "output_type": "stream",
     "text": [
      "1.0828789765579652\n",
      "3 3\n",
      "0.7940064593604217\n",
      "4 4\n",
      "0.7122831016042754\n",
      "5 5\n",
      "0.6824923784397364\n",
      "6 6\n",
      "1.0314949406568419\n",
      "7 7\n",
      "0.6428670987544794\n",
      "8 8\n",
      "0.6684098787882246\n",
      "9 9\n",
      "3.8385727419407067\n",
      "10 0\n",
      "1.1429957275826783\n",
      "11 1\n",
      "0.6454144792026221\n",
      "12 2\n",
      "0.6111395217293476\n",
      "13 3\n",
      "0.6162872738028313\n",
      "14 4\n",
      "0.6037596231230724\n",
      "15 5\n",
      "0.6247153613339863\n",
      "16 6\n",
      "0.6433212593061887\n",
      "17 7\n",
      "0.6194844378824579\n",
      "18 8\n",
      "0.6505023742066901\n",
      "19 9\n",
      "0.950513196571718\n",
      "20 0\n",
      "0.659928287954987\n",
      "21 1\n",
      "0.6219179632201887\n",
      "22 2\n",
      "0.6010517516914633\n",
      "23 3\n",
      "0.60920605814712\n",
      "24 4\n",
      "0.596622325779272\n",
      "25 5\n",
      "0.6179024539777196\n",
      "26 6\n",
      "0.6017575525234741\n",
      "27 7\n",
      "0.6135549156088743\n",
      "28 8\n",
      "0.6453454770606779\n",
      "29 9\n",
      "0.6438769042880167\n"
     ]
    },
    {
     "data": {
      "image/png": "[encoded data removed]",
      "text/plain": [
       "<Figure size 640x480 with 1 Axes>"
      ]
     },
     "metadata": {},
     "output_type": "display_data"
    }
   ],
   "source": [
    "from sklearn.model_selection import train_test_split\n",
    "from sklearn.preprocessing import StandardScaler\n",
    "from sklearn.datasets import fetch_california_housing\n",
    "import numpy as np\n",
    "\n",
    "# Load the Boston House Prices dataset\n",
    "housing = fetch_california_housing()\n",
    "X = housing.data\n",
    "print(len(X))\n",
    "y = housing.target\n",
    "X_train, X_test, y_train, y_test = train_test_split(X, y, test_size = 0.25)\n",
    "\n",
    "scaler = StandardScaler()\n",
    "X_train = scaler.fit_transform(X_train)\n",
    "X_test = scaler.transform(X_test)\n",
    "\n",
    "\n",
    "def gradient_descent(X, y, w, learning_rate, number_iterations): \n",
    "    loss_iterations = []\n",
    "    N = len(y)\n",
    "    for i in range(number_iterations):\n",
    "        k = i % 10\n",
    "        print(i, k)\n",
    "        gradient = 2/1548 * X[k*1548:(k+1)*1548].T.dot(X[k*1548:(k+1)*1548].dot(w) - y[k*1548:(k+1)*1548])\n",
    "        w = w - learning_rate * gradient\n",
    "        \n",
    "        #print((X[k*2064:(k+1)*2064].dot(w) - y[k*2064:(k+1)*2064]) ** 2)\n",
    "        cost = np.mean((X[k*1548:(k+1)*1548].dot(w) - y[k*1548:(k+1)*1548]) ** 2)\n",
    "        print(cost)\n",
    "        loss_iterations.append(cost)\n",
    "\n",
    "    return w, loss_iterations\n",
    "\n",
    "\n",
    "# добавляем столбец с единицами для коэффициента сдвига (intercept)\n",
    "X_train_w0 = np.c_[np.ones((len(X_train), 1)), X_train]\n",
    "X_test_w0 = np.c_[np.ones((len(X_test), 1)), X_test]\n",
    "\n",
    "\n",
    "\n",
    "\n",
    "# устанавливаем параметры\n",
    "w = np.random.randn(9, 1)\n",
    "learning_rate = 0.2\n",
    "number_iterations = 30\n",
    "\n",
    "# обучаем модель с использованием градиентного спуска\n",
    "w, loss_iterations = gradient_descent(X_train_w0, y_train, w, learning_rate, number_iterations)\n",
    "\n",
    "# визуализируем процесс обучения\n",
    "import matplotlib.pyplot as plt\n",
    "plt.plot(loss_iterations)\n",
    "plt.xlabel('Iterations')\n",
    "plt.ylabel('Mean Squared Error')\n",
    "plt.title('Gradient Descent Training Process')\n",
    "plt.show()\n"
   ]
  },
  {
   "cell_type": "markdown",
   "id": "1edf1b63",
   "metadata": {},
   "source": [
    "## 2 Линейный классификатор "
   ]
  },
  {
   "cell_type": "markdown",
   "id": "268437dd",
   "metadata": {},
   "source": [
    "Линейный классификатор - это модель машинного обучения, используемая для разделения двух классов данных, обычно в предположении, что классы линейно разделимы. Математически, линейный классификатор представляет собой гиперплоскость, которая разделяет объекты одного класса от объектов другого класса в пространстве функций признаков.\n",
    "\n",
    "Предположим, что у нас есть набор обучающих данных, каждый из которых представлен вектором признаков x и меткой класса y. Линейный классификатор моделирует прогноз для метки класса y как взвешенную комбинацию входных признаков с добавленным смещением (bias), и затем применяет функцию активации для преобразования этой комбинации в прогноз класса.\n",
    "\n",
    "Предположим, что у нас есть D-мерное пространство признаков, и мы хотим разделить два класса (+1 и -1). Линейный классификатор моделирует прогноз как:\n",
    "\n",
    "$y = sign(w^T x + b)$\n",
    "\n",
    "Линейный классификатор можно обучать с использованием различных методов, включая градиентный спуск, стохастический градиентный спуск, метод опорных векторов (SVM) и другие. Главная цель обучения линейного классификатора состоит в том, чтобы найти оптимальные веса $w$ и смещение $b$, которые минимизируют функцию потерь и обеспечивают хорошую обобщающую способность модели."
   ]
  },
  {
   "cell_type": "markdown",
   "id": "29dd45ad",
   "metadata": {},
   "source": [
    "## 3. L1 и L2 регурялизация"
   ]
  },
  {
   "cell_type": "markdown",
   "id": "c2d354e2",
   "metadata": {},
   "source": [
    "***L1 и L2 регуляризация*** - это методы добавления штрафа за сложность модели во время обучения, который помогает предотвратить переобучение. Регуляризация добавляет дополнительный член в функцию потерь модели, который зависит от весов (параметров) модели, тем самым штрафуя большие веса и предотвращая их излишнюю сложность.\n",
    "\n",
    "1. ***L1 Регуляризация***:\n",
    "Также известная как Lasso регуляризация. В L1 регуляризации дополнительный член в функции потерь представляет собой сумму абсолютных значений весов модели:\n",
    "$L1: \\lambda \\sum_{i=1}^{n} |w_i|$\n",
    "где $( \\lambda $) - коэффициент регуляризации, который контролирует величину штрафа, а $( w_i $) - веса модели.\n",
    "\n",
    "Преимуществом L1 регуляризации является ее способность к отбору признаков - некоторые веса могут быть точно нулевыми, что делает ее полезной при работе с большим количеством признаков, отбирая наиболее важные из них.\n",
    "\n",
    "2. ***L2 Регуляризация***:\n",
    "Также известная как Ridge регуляризация. В L2 регуляризации дополнительный член в функции потерь представляет собой сумму квадратов весов модели:\n",
    "$L2: \\lambda \\sum_{i=1}^{n} w_i^2$\n",
    "где $( \\lambda $) - коэффициент регуляризации, а $( w_i $) - веса модели.\n",
    "\n",
    "L2 регуляризация штрафует большие веса, но не склонна делать их точно нулевыми. Это делает ее полезной при предотвращении переобучения и улучшении обобщающей способности модели.\n",
    "\n",
    "Оба метода регуляризации (L1 и L2) могут быть использованы отдельно или совместно для улучшения стабильности и обобщающей способности моделей машинного обучения."
   ]
  },
  {
   "cell_type": "markdown",
   "id": "adfc885d",
   "metadata": {},
   "source": [
    "Рассмотрим пример регрессии-Lasso в sklearn. "
   ]
  },
  {
   "cell_type": "markdown",
   "id": "3c3ef728",
   "metadata": {},
   "source": [
    "### Задача 4(3 балла)\n",
    "\n",
    "1. Реализуйте и обучите модель Lasso и Ridge \n",
    "2. Найдите при каком значении alpha достигается лучший результат."
   ]
  },
  {
   "cell_type": "code",
   "execution_count": 13,
   "id": "e6f2fe58",
   "metadata": {},
   "outputs": [
    {
     "name": "stdout",
     "output_type": "stream",
     "text": [
      "Train score: 0.6039375775531048\n",
      "Test score: 0.6143357464330063\n"
     ]
    }
   ],
   "source": [
    "from sklearn.linear_model import Lasso\n",
    "from sklearn.model_selection import train_test_split\n",
    "from sklearn.preprocessing import StandardScaler\n",
    "from sklearn.datasets import fetch_california_housing\n",
    "\n",
    "# Загрузка набора данных\n",
    "housing = fetch_california_housing()\n",
    "X, y = housing.data, housing.target\n",
    "scaler = StandardScaler()\n",
    "\n",
    "X_train, X_test, y_train, y_test = train_test_split(X, y, test_size = 0.2)\n",
    "\n",
    "X_train = scaler.fit_transform(X_train)\n",
    "X_test = scaler.transform(X_test)\n",
    "\n",
    "\n",
    "# Создание и обучение модели Lasso\n",
    "lasso = Lasso(alpha=0.001)  # Устанавливаем коэффициент регуляризации (alpha)\n",
    "lasso.fit(X_train, y_train)\n",
    "y_pred = lasso.predict(X_test)\n",
    "\n",
    "# Оценка модели\n",
    "train_score = lasso.score(X_train, y_train)\n",
    "test_score = lasso.score(X_test, y_test)\n",
    "#print(lasso.score(y_test, y_pred))\n",
    "\n",
    "print(\"Train score:\", train_score)\n",
    "print(\"Test score:\", test_score)"
   ]
  },
  {
   "cell_type": "markdown",
   "id": "c75d7733",
   "metadata": {},
   "source": [
    "В качестве метрики здесь выступает коэффециент детерминации. Подробнее можно почитать тут https://ru.wikipedia.org/wiki/Коэффициент_детерминации"
   ]
  },
  {
   "cell_type": "code",
   "execution_count": 19,
   "id": "c13564d2",
   "metadata": {},
   "outputs": [
    {
     "name": "stdout",
     "output_type": "stream",
     "text": [
      "Train score: 0.6074730236481825\n",
      "Test score: 0.60070811389064\n"
     ]
    }
   ],
   "source": [
    "from sklearn.linear_model import Ridge\n",
    "\n",
    "housing = fetch_california_housing()\n",
    "X, y = housing.data, housing.target\n",
    "scaler = StandardScaler()\n",
    "\n",
    "X_train, X_test, y_train, y_test = train_test_split(X, y, test_size = 0.2)\n",
    "\n",
    "X_train = scaler.fit_transform(X_train)\n",
    "X_test = scaler.transform(X_test)\n",
    "\n",
    "# Создание и обучение модели Ridge\n",
    "ridge = Ridge(alpha=0.01)  # Устанавливаем коэффициент регуляризации (alpha)\n",
    "ridge.fit(X_train, y_train)\n",
    "y_pred = ridge.predict(X_test)\n",
    "\n",
    "# Оценка модели\n",
    "train_score = ridge.score(X_train, y_train)\n",
    "test_score = ridge.score(X_test, y_test)\n",
    "\n",
    "print(\"Train score:\", train_score)\n",
    "print(\"Test score:\", test_score)"
   ]
  },
  {
   "cell_type": "markdown",
   "id": "f3be488e",
   "metadata": {},
   "source": [
    "### Задача 5(1 балл)"
   ]
  },
  {
   "cell_type": "markdown",
   "id": "3a816887",
   "metadata": {},
   "source": [
    "$$L(w) = \\frac{1}{N}\\sum_{i=1}^{N} (y_i - (<w,x^i> + w_0))^2$$"
   ]
  },
  {
   "cell_type": "markdown",
   "id": "a2014cff",
   "metadata": {},
   "source": [
    "Докажите, что аналитическое решение минимума данной функции будет равно: $w = (X^TX)^{-1}X^Ty$"
   ]
  }
 ],
 "metadata": {
  "kernelspec": {
   "display_name": "Python 3 (ipykernel)",
   "language": "python",
   "name": "python3"
  },
  "language_info": {
   "codemirror_mode": {
    "name": "ipython",
    "version": 3
   },
   "file_extension": ".py",
   "mimetype": "text/x-python",
   "name": "python",
   "nbconvert_exporter": "python",
   "pygments_lexer": "ipython3",
   "version": "3.11.4"
  }
 },
 "nbformat": 4,
 "nbformat_minor": 5
}
